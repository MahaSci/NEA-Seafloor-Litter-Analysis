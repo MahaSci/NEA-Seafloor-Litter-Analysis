{
 "cells": [
  {
   "cell_type": "markdown",
   "metadata": {},
   "source": [
    "# Hypothesis 1: Plastic litter is increasing over time\n",
    "\n",
    "## Hypothesis\n",
    "- **Alternative Hypothesis (H₁):** The amount of plastic litter is increasing over time.\n",
    "- **Null Hypothesis (H₀):** The amount of plastic litter is not increasing over time."
   ]
  },
  {
   "cell_type": "markdown",
   "metadata": {},
   "source": [
    "## Rationale\n",
    "Studies and environmental reports suggest that plastic pollution has been rising over the years due to increased plastic production and inadequate waste management. This hypothesis aims to confirm whether the trend holds in the dataset over time.\n",
    "\n",
    "Hannah Ritchie, Veronika Samborska, and Max Roser (2023) state that \"Plastic production has sharply increased over the last 70 years. In 1950, the world produced just two million tonnes. It now produces over 450 million tonnes\" (Our World in Data). This sharp rise in production suggests a likely increase in plastic pollution, which this analysis seeks to validate."
   ]
  },
  {
   "cell_type": "markdown",
   "metadata": {},
   "source": [
    "## Data Analysis & Validation Approach"
   ]
  },
  {
   "cell_type": "markdown",
   "metadata": {},
   "source": [
    "To explore this hypothesis, we will first conduct an Exploratory Data Analysis (EDA). \n",
    "\n",
    "This will involve:\n",
    "\n",
    "- Creating a bar chart to visually represent the amount of plastic litter collected each year, allowing us to see any potential trends.\n",
    "- Generating a moving average plot to smooth out fluctuations in the data and reveal the overall direction of change over time.\n",
    "\n",
    "Following the EDA, we will use two statistical methods to validate our findings:\n",
    "\n",
    "- Linear regression: This method will help us determine if there is a statistically significant positive relationship between time and the amount of plastic litter. In simpler terms, it will show us if the amount of plastic is steadily going up over the years.\n",
    "- Mann-Kendall trend test: This test will allow us to confirm if there is a consistent upward trend in plastic litter, even if the data has some variations. This test is useful because it doesn't assume the data follows a perfect pattern."
   ]
  },
  {
   "cell_type": "markdown",
   "metadata": {},
   "source": [
    "### Visual Exploration: Annual Plastic Litter Distribution (Bar Chart)"
   ]
  },
  {
   "cell_type": "markdown",
   "metadata": {},
   "source": [
    "### Trend Visualisation: Moving Average of Plastic Litter"
   ]
  },
  {
   "cell_type": "markdown",
   "metadata": {},
   "source": [
    "### Statistical Validation: Linear Regression Analysis"
   ]
  },
  {
   "cell_type": "markdown",
   "metadata": {},
   "source": [
    "### Trend Confirmation: Mann-Kendall Non-Parametric Test"
   ]
  },
  {
   "cell_type": "markdown",
   "metadata": {},
   "source": [
    "## Ref\n",
    "- H. Ritchie, V. Samborska, and M. Roser. (2023). Plastic Pollution. Published online at OurWorldinData.org. Retrieved from https://ourworldindata.org/plastic-pollution"
   ]
  }
 ],
 "metadata": {
  "kernelspec": {
   "display_name": ".venv",
   "language": "python",
   "name": "python3"
  },
  "language_info": {
   "name": "python",
   "version": "3.12.8"
  }
 },
 "nbformat": 4,
 "nbformat_minor": 2
}
