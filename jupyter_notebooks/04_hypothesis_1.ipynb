{
 "cells": [
  {
   "cell_type": "markdown",
   "metadata": {},
   "source": [
    "### Hypothesis 1: Plastic is increasing over time\n",
    "- **Alternative Hypothesis (H₁):** The amount of plastic litter is increasing over time.\n",
    "- **Null Hypothesis (H₀):** The amount of plastic litter is not increasing over time.\n",
    "- **Rationale:**  \n",
    "  Studies and environmental reports suggest that plastic pollution has been rising over the years due to increased plastic production and inadequate waste management. This hypothesis aims to confirm whether the trend holds in the dataset over time.\n",
    "- **Exploratory Data Analysis (EDA) Approach:**  \n",
    "  - Bar chart of plastic across years. \n",
    "  - Moving average plot.\n",
    "- **Validation Method:**  \n",
    "  - Linear regression – To test if the slope of plastic litter over time is significantly positive.\n",
    "  Mann-Kendall trend test – To detect whether there is a consistent upward trend in plastic litter over time."
   ]
  }
 ],
 "metadata": {
  "kernelspec": {
   "display_name": ".venv",
   "language": "python",
   "name": "python3"
  },
  "language_info": {
   "name": "python",
   "version": "3.12.8"
  }
 },
 "nbformat": 4,
 "nbformat_minor": 2
}
