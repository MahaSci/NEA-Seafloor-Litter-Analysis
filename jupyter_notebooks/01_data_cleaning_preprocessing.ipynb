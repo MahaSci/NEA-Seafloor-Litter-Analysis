{
  "cells": [
    {
      "cell_type": "markdown",
      "metadata": {
        "id": "0aStgWSO0E0E"
      },
      "source": [
        "# **Data Cleaning & Preprocessing**"
      ]
    },
    {
      "cell_type": "markdown",
      "metadata": {
        "id": "1eLEkw5O0ECa"
      },
      "source": [
        "## Objectives\n",
        "\n",
        "* This notebook documents the systematic steps for data cleaning and preprocessing which are necessary to ensure the data is in a suitable format for subsequent visualisations and analysis.\n",
        "\n",
        "- Handle missing values effectively.\n",
        "- Convert date data into usable formats.\n",
        "- Filter and prepare the dataset for further analysis.\n",
        "\n",
        "## Inputs\n",
        "* Raw Dataset: `01_RAW_NEA-Seafloor-Litter.csv`. \n",
        "\n",
        "    This served as the initial data source.\n",
        "\n",
        "## Outputs\n",
        "\n",
        "* Processed Dataset: `02_PROCESSED_NEA-Seafloor-Litter.csv`. \n",
        "\n",
        "    This is the output file of the data cleaning and preprocessing operations.\n",
        "\n",
        "## Additional Comments\n",
        "\n",
        "* To ensure the data is accurate and ready for analysis, preprocessing is essential. This included the removal of missing data, the standardisation of data types, and the elimination of extraneous variables, thereby enhancing the dataset's reliability and analytical utility.\n",
        "\n"
      ]
    },
    {
      "cell_type": "markdown",
      "metadata": {
        "id": "9uWZXH9LwoQg"
      },
      "source": [
        "---"
      ]
    },
    {
      "cell_type": "markdown",
      "metadata": {
        "id": "cqP-UeN-z3i2"
      },
      "source": [
        "# Change working directory"
      ]
    },
    {
      "cell_type": "markdown",
      "metadata": {
        "id": "aOGIGS-uz3i2"
      },
      "source": [
        "To facilitate proper file access, the working directory is to be adjusted to its parent directory\n",
        "* os.getcwd()"
      ]
    },
    {
      "cell_type": "code",
      "execution_count": 1,
      "metadata": {
        "id": "wZfF_j-Bz3i4",
        "outputId": "66943449-1436-4c3d-85c7-b85f9f78349b"
      },
      "outputs": [
        {
          "data": {
            "text/plain": [
              "'/Users/mahahussain/Desktop/NEA-Seafloor-Litter-Analysis/NEA-Seafloor-Litter-Analysis/jupyter_notebooks'"
            ]
          },
          "execution_count": 1,
          "metadata": {},
          "output_type": "execute_result"
        }
      ],
      "source": [
        "import os\n",
        "current_dir = os.getcwd()\n",
        "current_dir"
      ]
    },
    {
      "cell_type": "markdown",
      "metadata": {
        "id": "9MWW8E7lz3i7"
      },
      "source": [
        "To set the parent of the current directory the new current directory:\n",
        "* os.path.dirname() gets the parent directory\n",
        "* os.chir() defines the new current directory"
      ]
    },
    {
      "cell_type": "code",
      "execution_count": 2,
      "metadata": {
        "id": "TwHsQRWjz3i9",
        "outputId": "86849db3-cd2f-4cc5-ebb8-2d0caafa1a2c"
      },
      "outputs": [
        {
          "name": "stdout",
          "output_type": "stream",
          "text": [
            "You set a new current directory\n"
          ]
        }
      ],
      "source": [
        "os.chdir(os.path.dirname(current_dir))\n",
        "print(\"You set a new current directory\")"
      ]
    },
    {
      "cell_type": "markdown",
      "metadata": {
        "id": "M_xPk_Ijz3i-"
      },
      "source": [
        "Confirm the new current directory"
      ]
    },
    {
      "cell_type": "code",
      "execution_count": 3,
      "metadata": {
        "id": "vz3S-_kjz3jA",
        "outputId": "00b79ae4-75d0-4a96-d193-ac9ef9847ea2"
      },
      "outputs": [
        {
          "data": {
            "text/plain": [
              "'/Users/mahahussain/Desktop/NEA-Seafloor-Litter-Analysis/NEA-Seafloor-Litter-Analysis'"
            ]
          },
          "execution_count": 3,
          "metadata": {},
          "output_type": "execute_result"
        }
      ],
      "source": [
        "current_dir = os.getcwd()\n",
        "current_dir"
      ]
    },
    {
      "cell_type": "markdown",
      "metadata": {},
      "source": [
        "---"
      ]
    },
    {
      "cell_type": "markdown",
      "metadata": {},
      "source": [
        "## 1.1 Extract: Importing Libraries & Extracting Dataset"
      ]
    },
    {
      "cell_type": "markdown",
      "metadata": {},
      "source": [
        "This section involves:\n",
        "- Importing the required libraries for data manipulation and subsequent operations.\n",
        "- Loading the data from a CSV file into a Pandas DataFrame as the Pandas library contains helpful methods for loading, cleaning, and transforming data."
      ]
    },
    {
      "cell_type": "code",
      "execution_count": 31,
      "metadata": {},
      "outputs": [],
      "source": [
        "'''\n",
        "Importing necessary libraries\n",
        "    1) Pandas: for data manipulation and analysis\n",
        "    2) NumPy: for numerical operations\n",
        "'''\n",
        "import pandas as pd \n",
        "import numpy as np"
      ]
    },
    {
      "cell_type": "markdown",
      "metadata": {},
      "source": [
        "After importing these libraries, load in the raw dataset using the `read_csv()` function."
      ]
    },
    {
      "cell_type": "code",
      "execution_count": 5,
      "metadata": {},
      "outputs": [
        {
          "name": "stdout",
          "output_type": "stream",
          "text": [
            "Dataset loaded successfully!\n"
          ]
        }
      ],
      "source": [
        "# Read the dataset in with read_csv()\n",
        "raw_df = pd.read_csv(\"data/01_RAW_NEA-Seafloor-Litter.csv\")\n",
        "\n",
        "\n",
        "# Verify successful operation\n",
        "print(\"Dataset loaded successfully!\")"
      ]
    },
    {
      "cell_type": "markdown",
      "metadata": {},
      "source": [
        "## 1.1 Evaluation\n",
        "\n",
        " `pd.read_csv()` was used because it's a standard and efficient method for importing CSV files into a DataFrame in Python. \n",
        "\n",
        "- **Approach**: The `read_csv()` function was used to to load the raw data and a print statement to verify its successful operation with a confirmation message. \n",
        "\n",
        "- **Alternative Approach**: If given had more time, alternative file formats or added parameters to handle specific edge cases (e.g., encoding issues or large file chunks) could have been explored.\n",
        "\n",
        "- **Limitation**: A limitation of this method is that it assumes the CSV file is correctly formatted, and it may not handle errors or inconsistencies in the data without additional checks or cleaning steps.\n"
      ]
    },
    {
      "cell_type": "markdown",
      "metadata": {},
      "source": [
        "The dataset is correctly loaded and ready for further processing."
      ]
    },
    {
      "cell_type": "markdown",
      "metadata": {},
      "source": [
        "---"
      ]
    },
    {
      "cell_type": "markdown",
      "metadata": {},
      "source": [
        "## 1.2 Understanding the Data"
      ]
    },
    {
      "cell_type": "markdown",
      "metadata": {},
      "source": [
        "This section involves:\n",
        "- Examining dataset structure and datatypes.\n",
        "- Correcting incorrect data types.\n",
        "- Renaming the fldDateTimeShot column to 'date'.\n",
        "- Identifying missing values."
      ]
    },
    {
      "cell_type": "markdown",
      "metadata": {},
      "source": [
        "### 1.2.1 Data Type Inspection"
      ]
    },
    {
      "cell_type": "markdown",
      "metadata": {},
      "source": [
        "**In this subsection:**\n",
        "\n",
        "A function is created to display the following:\n",
        "- `data_frame.shape`  returns the dimensionality of the DataFrame.\n",
        "- `info()` method to print data types and non-null counts for each column.\n",
        "- `head()` method to display the first five rows for inspection.\n"
      ]
    },
    {
      "cell_type": "code",
      "execution_count": 6,
      "metadata": {},
      "outputs": [
        {
          "name": "stdout",
          "output_type": "stream",
          "text": [
            " ----- Total Rows and Columns -----\n",
            "(4310, 62)\n",
            "\n",
            "\n",
            " ----- Data Types -----\n",
            "<class 'pandas.core.frame.DataFrame'>\n",
            "RangeIndex: 4310 entries, 0 to 4309\n",
            "Data columns (total 62 columns):\n",
            " #   Column             Non-Null Count  Dtype  \n",
            "---  ------             --------------  -----  \n",
            " 0   year               4310 non-null   int64  \n",
            " 1   survey             4310 non-null   object \n",
            " 2   cruise             4310 non-null   object \n",
            " 3   area               4033 non-null   object \n",
            " 4   station            4310 non-null   int64  \n",
            " 5   fldHaulLatDegrees  4310 non-null   int64  \n",
            " 6   fldHaulLatMinutes  4052 non-null   float64\n",
            " 7   fldHaulLonDegrees  4310 non-null   int64  \n",
            " 8   fldHaulLonMinutes  4052 non-null   float64\n",
            " 9   fldHaulEorW        4057 non-null   object \n",
            " 10  fldShotLatDegrees  3829 non-null   float64\n",
            " 11  fldShotLatMinutes  3603 non-null   float64\n",
            " 12  fldShotLonDegrees  3745 non-null   float64\n",
            " 13  fldShotLonMinutes  3519 non-null   float64\n",
            " 14  fldShotEorW        3519 non-null   object \n",
            " 15  Latitude           4310 non-null   float64\n",
            " 16  Longitude          4310 non-null   float64\n",
            " 17  fldDateTimeShot    4310 non-null   object \n",
            " 18  bottle             4310 non-null   int64  \n",
            " 19  sheet              4310 non-null   int64  \n",
            " 20  bag                4310 non-null   int64  \n",
            " 21  caps               4310 non-null   int64  \n",
            " 22  fishline.mono      4310 non-null   int64  \n",
            " 23  fishline.tang      4310 non-null   int64  \n",
            " 24  synthrope          4310 non-null   int64  \n",
            " 25  fishnet            4310 non-null   int64  \n",
            " 26  cabletie           4310 non-null   int64  \n",
            " 27  strap              4310 non-null   int64  \n",
            " 28  crates             4310 non-null   int64  \n",
            " 29  nappies            4310 non-null   int64  \n",
            " 30  santowels          4310 non-null   int64  \n",
            " 31  other.plas         4310 non-null   int64  \n",
            " 32  cansfood           4310 non-null   int64  \n",
            " 33  cansdrink          4310 non-null   int64  \n",
            " 34  fishmetal          4310 non-null   int64  \n",
            " 35  drums              4310 non-null   int64  \n",
            " 36  appliance          4310 non-null   int64  \n",
            " 37  carparts           4310 non-null   int64  \n",
            " 38  cables             4310 non-null   int64  \n",
            " 39  other.metal        4310 non-null   int64  \n",
            " 40  wellies            4310 non-null   int64  \n",
            " 41  balloon            4310 non-null   int64  \n",
            " 42  bobbins            4310 non-null   int64  \n",
            " 43  tyre               4310 non-null   int64  \n",
            " 44  gloves             4310 non-null   int64  \n",
            " 45  other.rub          4310 non-null   int64  \n",
            " 46  jars               4310 non-null   int64  \n",
            " 47  bottles            4310 non-null   int64  \n",
            " 48  pieces             4310 non-null   int64  \n",
            " 49  other.glass        4310 non-null   int64  \n",
            " 50  woodnat            4310 non-null   int64  \n",
            " 51  woodproc           4310 non-null   int64  \n",
            " 52  rope               4310 non-null   int64  \n",
            " 53  paper              4310 non-null   int64  \n",
            " 54  pallets            4310 non-null   int64  \n",
            " 55  other.wood         4310 non-null   int64  \n",
            " 56  clothing           4310 non-null   int64  \n",
            " 57  shoes              4310 non-null   int64  \n",
            " 58  other.misc         4310 non-null   int64  \n",
            " 59  totallitter        4310 non-null   int64  \n",
            " 60  distance           4310 non-null   int64  \n",
            " 61  wingspread         4310 non-null   int64  \n",
            "dtypes: float64(8), int64(48), object(6)\n",
            "memory usage: 2.0+ MB\n",
            "None\n",
            "\n",
            "\n",
            " ----- First Five Rows -----\n",
            "   year survey     cruise               area  station  fldHaulLatDegrees  \\\n",
            "0  1992   IBTS  CIRO 9/92  Greater North Sea        1                 51   \n",
            "1  1992   IBTS  CIRO 9/92  Greater North Sea        2                 51   \n",
            "2  1992   IBTS  CIRO 9/92  Greater North Sea        3                 51   \n",
            "3  1992   IBTS  CIRO 9/92  Greater North Sea        4                 52   \n",
            "4  1992   IBTS  CIRO 9/92  Greater North Sea        5                 52   \n",
            "\n",
            "   fldHaulLatMinutes  fldHaulLonDegrees  fldHaulLonMinutes fldHaulEorW  ...  \\\n",
            "0               44.3                  1               45.2           E  ...   \n",
            "1               36.1                  2               47.8           E  ...   \n",
            "2               49.4                  3               38.6           E  ...   \n",
            "3               49.4                  2               45.6           E  ...   \n",
            "4               41.1                  3               24.7           E  ...   \n",
            "\n",
            "   rope  paper  pallets  other.wood clothing  shoes  other.misc totallitter  \\\n",
            "0     0      0        0           0        0      0           0           1   \n",
            "1     0      0        0           0        0      0           0           2   \n",
            "2     0      0        0           0        0      0           0           1   \n",
            "3     0      0        0           0        0      0           0           1   \n",
            "4     0      0        0           0        0      0           0           2   \n",
            "\n",
            "   distance  wingspread  \n",
            "0      3794           0  \n",
            "1      3918           0  \n",
            "2      3624           0  \n",
            "3      3642           0  \n",
            "4      3791           0  \n",
            "\n",
            "[5 rows x 62 columns]\n"
          ]
        }
      ],
      "source": [
        "def check_data_and_types(data_frame):\n",
        "    \"\"\"\n",
        "    This function shows the type of data for each column and the first 5 rows of the dataset.\n",
        "\n",
        "    Args: data_frame: The data frame we want to inspect.\n",
        "    \"\"\"\n",
        "\n",
        "    print(\" ----- Total Rows and Columns -----\")\n",
        "    print(data_frame.shape)\n",
        "    print ('\\n')\n",
        "\n",
        "    print(\" ----- Data Types -----\")\n",
        "    print(data_frame.info())\n",
        "    print ('\\n')\n",
        "    \n",
        "    print(\" ----- First Five Rows -----\")\n",
        "    print(data_frame.head())\n",
        "\n",
        "    \n",
        "\n",
        "check_data_and_types(raw_df)"
      ]
    },
    {
      "cell_type": "markdown",
      "metadata": {},
      "source": [
        "**From this, we observe:**\n",
        "\n",
        "- Numerical Columns: Columns like year, station, fldHaulLatDegrees, fldHaulLonDegrees, Latitude, Longitude, etc., are of numerical data types like int64 and float64.\n",
        "\n",
        "- Categorical Columns: Columns like survey, cruise, area, and fldHaulEorW are of object type, which means they are categorical columns.\n",
        "\n",
        "- Date/Time Columns: The fldDateTimeShot column is of object type, which might need conversion into a proper datetime format for analysis."
      ]
    },
    {
      "cell_type": "markdown",
      "metadata": {},
      "source": [
        "**What Needs to Be Changed?**\n",
        "\n",
        "- Date Column (fldDateTimeShot): This column should be converted to a proper datetime type, as it is currently stored as an object (string). \n",
        "\n",
        "This will allow for easier manipulation and time-based analysis."
      ]
    },
    {
      "cell_type": "markdown",
      "metadata": {},
      "source": [
        "### 1.2.2 Date Format Conversion"
      ]
    },
    {
      "cell_type": "code",
      "execution_count": 7,
      "metadata": {},
      "outputs": [
        {
          "name": "stdout",
          "output_type": "stream",
          "text": [
            "Conversion successful!\n"
          ]
        },
        {
          "data": {
            "text/plain": [
              "dtype('<M8[ns]')"
            ]
          },
          "execution_count": 7,
          "metadata": {},
          "output_type": "execute_result"
        }
      ],
      "source": [
        "# Convert the 'fldDateTimeShot' column to datetime\n",
        "raw_df['fldDateTimeShot'] = pd.to_datetime(raw_df['fldDateTimeShot'], errors = 'coerce', dayfirst=True)\n",
        "\n",
        "# errors = 'coerce' --> will convert any errors to blank values\n",
        "# dayfirst = True --> will convert the date to the format 'dd/mm/yyyy'\n",
        "\n",
        "print(\"Conversion successful!\")\n",
        "\n",
        "# Check the data types of the date column\n",
        "raw_df['fldDateTimeShot'].dtypes"
      ]
    },
    {
      "cell_type": "markdown",
      "metadata": {},
      "source": [
        "`dtype('<M8[ns]') ` is a datetime format - conversion successful"
      ]
    },
    {
      "cell_type": "code",
      "execution_count": 33,
      "metadata": {},
      "outputs": [],
      "source": [
        "# Rename fldDateTimeShot to 'datetime' for better understanding\n",
        "raw_df.rename(columns={'fldDateTimeShot': 'date'}, inplace=True)"
      ]
    },
    {
      "cell_type": "markdown",
      "metadata": {},
      "source": [
        "### 1.2.3 Missing Value Identification"
      ]
    },
    {
      "cell_type": "markdown",
      "metadata": {},
      "source": [
        "In this section:\n",
        "- Use isna() to identify missing values."
      ]
    },
    {
      "cell_type": "code",
      "execution_count": 8,
      "metadata": {},
      "outputs": [
        {
          "name": "stdout",
          "output_type": "stream",
          "text": [
            "area                 277\n",
            "fldHaulLatMinutes    258\n",
            "fldHaulLonMinutes    258\n",
            "fldHaulEorW          253\n",
            "fldShotLatDegrees    481\n",
            "fldShotLatMinutes    707\n",
            "fldShotLonDegrees    565\n",
            "fldShotLonMinutes    791\n",
            "fldShotEorW          791\n",
            "dtype: int64\n"
          ]
        }
      ],
      "source": [
        "def get_missing_values(data_frame):\n",
        "    \"\"\"\n",
        "    This function returns the number of missing values in the dataset.\n",
        "\n",
        "    Args: data_frame: The data frame we want to inspect.\n",
        "    \"\"\"\n",
        "    missing_values = data_frame.isna().sum() # Get the number of missing values in each column\n",
        "    print(missing_values[missing_values > 0]) # Only print columns with missing values\n",
        "\n",
        "get_missing_values(raw_df)"
      ]
    },
    {
      "cell_type": "markdown",
      "metadata": {},
      "source": [
        "We can utilise this list to target missing values in the handling section."
      ]
    },
    {
      "cell_type": "markdown",
      "metadata": {},
      "source": [
        "## 1.2 Evaluation\n",
        "\n",
        "#### `check_data_and_types()` Function  \n",
        "The `check_data_and_types()` function was implemented to provide a quick overview of the dataset, including its shape, data types, and initial content.  \n",
        "\n",
        "- **Approach**: The `shape`, `info()`, and `head()` functions were utilised within this custom function to inspect the dataset’s structure and initial data.  \n",
        "\n",
        "- **Alternative Approach**: Additional checks for outliers or duplicate rows could be incorporated to enhance the initial inspection.  \n",
        "\n",
        "- **Limitation**: This method provides only a basic overview and does not detect deeper data issues such as inconsistencies in values or complex missing data patterns.  \n",
        "\n",
        "#### DateTime Conversion  \n",
        "For datetime conversion, `pd.to_datetime()` was used with the arguments `errors='coerce'` and `dayfirst=True` to ensure consistent handling of date formats and errors.  \n",
        "\n",
        "- **Alternative Approach**: Additional handling for different time zones or alternative date formats could be considered.  \n",
        "\n",
        "- **Limitation**: Any invalid date values are coerced into NaT (Not a Time), which may lead to data loss in cases where errors occur. \n",
        "\n",
        "#### Renaming Columns\n",
        "I renamed the `fldDateTimeShot` column to 'date' for better readability and consistency across the dataset. This ensures the column name is more intuitive and easier for users to work with.\n",
        "\n",
        "- **Alternative Approach**: If I had more time, I could have standardised other column names as well to ensure consistency across the entire dataset, potentially improving user experience and reducing confusion. But for the most part, column names were intuitive and standard across.\n",
        " \n"
      ]
    },
    {
      "cell_type": "markdown",
      "metadata": {},
      "source": [
        "---"
      ]
    },
    {
      "cell_type": "markdown",
      "metadata": {},
      "source": [
        "## 1.3 Handling Missing & Incorrect Values "
      ]
    },
    {
      "cell_type": "markdown",
      "metadata": {},
      "source": [
        "This section covers: \n",
        "- Imputing missing 'area' values by station.\n",
        "- Filling remaining missing 'area' values with \"Unknown\".\n",
        "- Removing redundant 'fld' columns."
      ]
    },
    {
      "cell_type": "markdown",
      "metadata": {},
      "source": [
        "- **Categorical Columns**: Fill with \"Unknown\", where sensible to do so, to avoid losing important data.\n",
        "  \n",
        "- **Numerical Columns**: Impute, where sensible to do so, to preserve data distribution.  "
      ]
    },
    {
      "cell_type": "markdown",
      "metadata": {},
      "source": [
        "### 1.3.1 Missing Area Data Imputation"
      ]
    },
    {
      "cell_type": "markdown",
      "metadata": {},
      "source": [
        "GitHub Copilot (AI tool) was initially used to generate a cross-checking function for the 'area' column. This function was later refined with the assistance of ChatGPT, which improved the logic to automatically impute missing values for rows where a station is linked to a single sea."
      ]
    },
    {
      "cell_type": "code",
      "execution_count": 9,
      "metadata": {},
      "outputs": [
        {
          "name": "stdout",
          "output_type": "stream",
          "text": [
            "Initial missing values: 277\n",
            "Summary of imputations:\n",
            "- 62 stations had a single area imputed.\n",
            "- 72 stations had multiple areas imputed.\n",
            "- 5 stations had no area info; imputed 'Unknown'.\n",
            "Missing values after imputation: 0\n"
          ]
        }
      ],
      "source": [
        "def find_sea_by_station_and_impute(data_frame):\n",
        "    \"\"\"\n",
        "    Imputes missing 'area' values based on station associations.\n",
        "    - If a station has only one associated area, assign that area.\n",
        "    - If a station has multiple associated areas (e.g., Celtic & Greater North Sea), assign a combined label.\n",
        "    - If no area is found, assign \"Unknown\".\n",
        "    \n",
        "    Returns the modified DataFrame explicitly.\n",
        "    \"\"\"\n",
        "    missing_area_rows = data_frame[data_frame['area'].isna()]\n",
        "    initial_missing = missing_area_rows.shape[0]\n",
        "    print(f\"Initial missing values: {initial_missing}\")\n",
        "\n",
        "    missing_areas_stations = missing_area_rows['station'].unique()\n",
        "\n",
        "    # Counters for different cases\n",
        "    single_area_imputed = 0\n",
        "    multiple_areas_imputed = 0\n",
        "    unknown_imputed = 0\n",
        "\n",
        "    for station in missing_areas_stations:\n",
        "        asoc_seas = data_frame[data_frame['station'] == station]['area'].dropna().unique()\n",
        "\n",
        "        if len(asoc_seas) == 1:\n",
        "            # If only one associated area, impute that value\n",
        "            sea_to_impute = asoc_seas[0]\n",
        "            data_frame.loc[(data_frame['station'] == station) & (data_frame['area'].isna()), 'area'] = sea_to_impute\n",
        "            single_area_imputed += 1\n",
        "\n",
        "        elif len(asoc_seas) > 1:\n",
        "            # Handle cases where a station is associated with both \"Celtic Sea\" and \"Greater North Sea\"\n",
        "            if set(asoc_seas) == {\"Celtic Sea\", \"Greater North Sea\"}:\n",
        "                sea_to_impute = \"Celtic & Greater North Sea\"\n",
        "            else:\n",
        "                # For other combinations of areas, join them dynamically\n",
        "                sea_to_impute = \", \".join(asoc_seas)\n",
        "\n",
        "            data_frame.loc[(data_frame['station'] == station) & (data_frame['area'].isna()), 'area'] = sea_to_impute\n",
        "            multiple_areas_imputed += 1\n",
        "\n",
        "        else:\n",
        "            # No valid areas found → Assign \"Unknown\"\n",
        "            data_frame.loc[(data_frame['station'] == station) & (data_frame['area'].isna()), 'area'] = \"Unknown\"\n",
        "            unknown_imputed += 1\n",
        "\n",
        "    # Print summary of imputation results\n",
        "    print(f\"Summary of imputations:\")\n",
        "    print(f\"- {single_area_imputed} stations had a single area imputed.\")\n",
        "    print(f\"- {multiple_areas_imputed} stations had multiple areas imputed.\")\n",
        "    print(f\"- {unknown_imputed} stations had no area info; imputed 'Unknown'.\")\n",
        "    \n",
        "    remaining_missing = data_frame['area'].isna().sum()\n",
        "    print(f\"Missing values after imputation: {remaining_missing}\")\n",
        "\n",
        "    return data_frame\n",
        "\n",
        "# Call function and reassign raw_df\n",
        "raw_df = find_sea_by_station_and_impute(raw_df)\n"
      ]
    },
    {
      "cell_type": "code",
      "execution_count": 10,
      "metadata": {},
      "outputs": [
        {
          "name": "stdout",
          "output_type": "stream",
          "text": [
            "fldHaulLatMinutes    258\n",
            "fldHaulLonMinutes    258\n",
            "fldHaulEorW          253\n",
            "fldShotLatDegrees    481\n",
            "fldShotLatMinutes    707\n",
            "fldShotLonDegrees    565\n",
            "fldShotLonMinutes    791\n",
            "fldShotEorW          791\n",
            "dtype: int64\n"
          ]
        }
      ],
      "source": [
        "# Verify successful operation\n",
        "get_missing_values(raw_df)"
      ]
    },
    {
      "cell_type": "markdown",
      "metadata": {},
      "source": [
        "### 1.3.2 Removing Unnecessary Location Data"
      ]
    },
    {
      "cell_type": "markdown",
      "metadata": {},
      "source": [
        "The `fld ...` columns exhibit a significant proportion of missing values. Given that one of the primary objectives of this project is to visualise the data, these columns will simply be removed with the exception of the date. \n",
        "\n",
        "Note that the `Latitude` and `Longitude` columns will be retained, as they are complete within the dataset, and are sufficient variables for spatial visualisations.\n",
        "\n",
        "Removal of these columns as opposed to row deletion will minimise the data loss and streamline the dataset."
      ]
    },
    {
      "cell_type": "code",
      "execution_count": 12,
      "metadata": {},
      "outputs": [
        {
          "name": "stdout",
          "output_type": "stream",
          "text": [
            "Series([], dtype: int64)\n"
          ]
        }
      ],
      "source": [
        "# Remove the fld columns \n",
        "cols_to_remove = [\n",
        "    'fldHaulLatMinutes',\n",
        "    'fldHaulLonMinutes',\n",
        "    'fldHaulEorW',\n",
        "    'fldShotLatDegrees',\n",
        "    'fldShotLatMinutes',\n",
        "    'fldHaulLatDegrees',\n",
        "    'fldHaulLonDegrees',\n",
        "    'fldShotLonDegrees',\n",
        "    'fldShotLonMinutes',\n",
        "    'fldShotEorW',\n",
        "]\n",
        "\n",
        "raw_df = raw_df.drop(columns=cols_to_remove, axis=1)\n",
        "\n",
        "get_missing_values(raw_df)"
      ]
    },
    {
      "cell_type": "markdown",
      "metadata": {},
      "source": [
        "## 1.3 Evaluation\n",
        "\n",
        "#### `find_sea_by_station_and_impute()` Function\n",
        "I created the `find_sea_by_station_and_impute()` function to efficiently handle the imputation of missing 'area' values by associating them with specific stations. This approach ensures that missing data is filled logically based on existing associations, maintaining data consistency. The function uses `data_frame['area'].isna()` to identify rows with missing 'area' and iterates through stations to fill in missing values.\n",
        "\n",
        "- **Improvement**: I streamlined the print statements to summarise the number of imputations for each case (single area, multiple areas, and unknown) instead of printing each individual station. This improves readability for the user, providing a clear overview of the imputation process without overwhelming them with unnecessary details. The function now prints a summary of imputations after the process completes, making the output more user-friendly.\n",
        "  \n",
        "- **Alternative Approach**: If I had more time, I could explore more sophisticated imputation methods such as machine learning models or interpolation based on other relevant features (e.g., temporal or geographical data), which might allow for more accurate imputations in complex cases.\n",
        "\n",
        "- **Limitation**: A limitation of this method is that it assumes stations are consistently associated with specific seas. The method might not perform well in cases where stations are associated with multiple, inconsistent seas, as it simply combines them or defaults to \"Unknown\" in ambiguous cases.\n",
        "\n",
        "#### Filling Remaining Missing Values\n",
        "After imputing areas based on station associations, I handled any remaining missing 'area' values by assigning them the value \"Unknown\". This ensures no missing values remain, maintaining the completeness of the dataset.\n",
        "\n",
        "- **Improvement**: I now use a more streamlined method by summarising the number of imputations in different categories (e.g., stations with a single area, multiple areas, or unknown areas) rather than printing individual imputations. This helps users quickly grasp the impact of the imputation process.\n",
        "\n",
        "- **Alternative Approach**: If I had more time, I could explore domain-specific logic or expert knowledge to handle the \"Unknown\" imputation more effectively. For example, identifying patterns or using known geospatial data could improve how \"Unknown\" values are assigned.\n",
        "\n",
        "- **Limitation**: A limitation of this method is that the use of \"Unknown\" may obscure underlying issues with missing data, which could be important for analysis. It's possible that the \"Unknown\" label masks meaningful gaps that need further investigation.\n",
        "\n",
        "#### Removing Redundant Columns\n",
        "I removed redundant 'fld' columns from the dataset, except the date column, as they were not necessary for the analysis. This was done using the `drop()` function to clean up the dataset and reduce complexity.\n",
        "\n",
        "- **Alternative Approach**: If I had more time, I could conduct a deeper analysis to determine if any of these columns might hold value for specific use cases, such as for particular subgroups of the dataset or specific analyses.\n",
        "\n",
        "- **Limitation**: A limitation of this approach is that removing columns without fully understanding their potential utility could result in the loss of useful information. Further examination of the dataset's context or domain-specific knowledge might be necessary before deciding on which columns to discard."
      ]
    },
    {
      "cell_type": "markdown",
      "metadata": {
        "id": "ZY3l0-AxO93d"
      },
      "source": [
        "---"
      ]
    },
    {
      "cell_type": "markdown",
      "metadata": {},
      "source": [
        "## 1.4 Removing Duplicates"
      ]
    },
    {
      "cell_type": "markdown",
      "metadata": {},
      "source": [
        "### 1.4.1 Duplicate Row Removal"
      ]
    },
    {
      "cell_type": "code",
      "execution_count": 14,
      "metadata": {},
      "outputs": [
        {
          "name": "stdout",
          "output_type": "stream",
          "text": [
            "There are 0 duplicate rows in the dataset.\n"
          ]
        }
      ],
      "source": [
        "# Remove duplicate rows\n",
        "raw_df.drop_duplicates(inplace=True)\n",
        "\n",
        "print(f\"There are {raw_df.duplicated().sum()} duplicate rows in the dataset.\")"
      ]
    },
    {
      "cell_type": "markdown",
      "metadata": {},
      "source": [
        "## 1.4 Evaluation\n",
        "\n",
        "I chose to remove duplicate rows using `drop_duplicates()` because it is a simple and effective method to clean the dataset by eliminating redundant entries.\n",
        "\n",
        "- **Approach**: I used the `drop_duplicates()` function to remove duplicate rows, followed by a check with `duplicated().sum()` to verify the number of remaining duplicates.\n",
        "- **Alternative Approach**: If I had more time, I could have examined the reason for duplicates, such as whether they represent valid repeated data or erroneous entries.\n",
        "- **Limitation**: A limitation of this method is that it blindly removes duplicate rows without considering whether they might hold value or represent valid repeated data in certain contexts.\n"
      ]
    },
    {
      "cell_type": "markdown",
      "metadata": {},
      "source": [
        "---"
      ]
    },
    {
      "cell_type": "markdown",
      "metadata": {},
      "source": [
        "## 1.5 Category Mapping"
      ]
    },
    {
      "cell_type": "markdown",
      "metadata": {},
      "source": [
        "In order to faciliate the analysis of the marine litter composition, the items must first be categorised.\n",
        "\n",
        "Utilising the information contained within the CEFAS data code book, the items were classified based on their primary materials.\n",
        "\n",
        "The categories established were as follows:\n",
        "\n",
        "- `Plastic:` This category includes items composed of synthetic polymers, encompassing bottles, sheets, bags, and various fishing-related plastics.\n",
        "\n",
        "- `Metal:` This category includes items composed of metallic substances, such as cans, drums, and metal components from appliances.\n",
        "\n",
        "- `Rubber:` Items made from natural or synthetic rubber, including boots, balloons, and tires, were classified within this category.\n",
        "\n",
        "- `Glass:` Items composed of silica-based materials, such as jars, bottles, and glass fragments, were grouped within this category.\n",
        "\n",
        "- ` Plant-Based Materials:` This category includes items derived from plant matter, encompassing both natural and processed wood, paper, and plant-based rope.\n",
        "\n",
        "- `Clothing & Fabrics:` Textiles and related items, such as clothing and shoes, were classified within this category.\n",
        "\n",
        "- `Miscellaneous:` This category served as a catch-all for items that did not readily fit into the aforementioned categories."
      ]
    },
    {
      "cell_type": "code",
      "execution_count": 15,
      "metadata": {},
      "outputs": [],
      "source": [
        "categories = {\n",
        "    'Plastic': ['bottle', 'sheet', 'bag', 'caps', 'fishline.mono',\n",
        "        'fishline.tang', 'synthrope', 'fishnet', 'cabletie',\n",
        "        'strap', 'nappies', 'crates', 'santowels', 'other.plas'],\n",
        "\n",
        "    'Metal': ['cansfood', 'cansdrink', 'fishmetal', 'drums',\n",
        "        'appliance', 'carparts', 'cables', 'other.metal'],\n",
        "\n",
        "    'Rubber': ['wellies', 'balloon', 'bobbins', 'tyre', 'gloves', 'other.rub'],\n",
        "\n",
        "    'Glass': ['jars', 'bottles', 'pieces', 'other.glass'],\n",
        "\n",
        "    'Plant-Based Materials': ['woodnat', 'woodproc', 'rope', 'paper', 'pallets', 'other.wood'],\n",
        "\n",
        "    'Clothing & Fabrics': ['clothing', 'shoes'],\n",
        "\n",
        "    'Miscellaneous': ['other.misc'],\n",
        "}"
      ]
    },
    {
      "cell_type": "markdown",
      "metadata": {},
      "source": [
        "## 1.5 Evaluation\n",
        "\n",
        "I chose to categorise the items into specific material groups based on the information from the CEFAS data codebook to facilitate the analysis of marine litter composition.\n",
        "\n",
        "- **Approach**: I created a dictionary to map each item to its respective category (e.g., Plastic, Metal, Rubber) using the list of items associated with each material type.\n",
        "- **Alternative Approach**: If I had more time, I could have included additional categories based on secondary materials or further refined the categories based on more detailed classification criteria.\n",
        "- **Limitation**: A limitation of this method is that it assumes the classification is straightforward and might overlook complex cases where an item could belong to multiple categories or has mixed materials.\n"
      ]
    },
    {
      "cell_type": "markdown",
      "metadata": {},
      "source": [
        "##  1.6 Outlier Detection in Numerical Data"
      ]
    },
    {
      "cell_type": "markdown",
      "metadata": {},
      "source": [
        "In this section:\n",
        "\n",
        "- Boxplots were created for the variables 'totallitter', 'distance', and 'wingspread', annotated with key statistics such as the median, 25th, and 75th percentiles.\n",
        "\n",
        "- Descriptive statistics were generated for each of these variables to provide a deeper understanding of their distributions.\n",
        "\n",
        "- The code was developed with the assistance of Copilot and ChatGPT, which facilitated optimisation of the structure, accelerated the writing process, and enabled adjustments to the positions of lines for improved clarity and efficiency.\n"
      ]
    },
    {
      "cell_type": "markdown",
      "metadata": {},
      "source": [
        "### 1.6.1 Confirming Numerical Values"
      ]
    },
    {
      "cell_type": "code",
      "execution_count": 34,
      "metadata": {},
      "outputs": [
        {
          "name": "stdout",
          "output_type": "stream",
          "text": [
            "['year', 'station', 'Latitude', 'Longitude', 'bottle', 'sheet', 'bag', 'caps', 'fishline.mono', 'fishline.tang', 'synthrope', 'fishnet', 'cabletie', 'strap', 'crates', 'nappies', 'santowels', 'other.plas', 'cansfood', 'cansdrink', 'fishmetal', 'drums', 'appliance', 'carparts', 'cables', 'other.metal', 'wellies', 'balloon', 'bobbins', 'tyre', 'gloves', 'other.rub', 'jars', 'bottles', 'pieces', 'other.glass', 'woodnat', 'woodproc', 'rope', 'paper', 'pallets', 'other.wood', 'clothing', 'shoes', 'other.misc', 'totallitter', 'distance', 'wingspread']\n"
          ]
        }
      ],
      "source": [
        "# Numerical Columns:\n",
        "numerical_cols = raw_df.select_dtypes(include=['number']).columns.tolist()\n",
        "print(numerical_cols)\n"
      ]
    },
    {
      "cell_type": "markdown",
      "metadata": {},
      "source": [
        "All columns in the dataset are in line with expectations. They consist of numerical counts for various litter types (e.g., 'bottle', 'sheet', 'bag', etc.) and continuous measurements (e.g., 'totallitter', 'distance', 'wingspread'). \n",
        "\n",
        "Additionally, columns like 'year', 'station', 'Latitude', 'Longitude', and 'date' provide contextual information for further analysis.\n"
      ]
    },
    {
      "cell_type": "markdown",
      "metadata": {},
      "source": [
        "### 1.6.2 Outlier Detection: Latitude and Longitude "
      ]
    },
    {
      "cell_type": "markdown",
      "metadata": {},
      "source": [
        "Latitudes should fall between -90 and 90, while longitudes should be within the range of -180 to 180. These constraints ensure the coordinates are valid for geographic locations."
      ]
    },
    {
      "cell_type": "code",
      "execution_count": 35,
      "metadata": {},
      "outputs": [
        {
          "name": "stdout",
          "output_type": "stream",
          "text": [
            "The minimum latitude is: 48.05\n",
            "The maximum latitude is: 61.57\n",
            "The minimum longitude is: -9.14\n",
            "The maximum longitude is: 7.54\n",
            "\n",
            "Number of invalid latitudes (outside -90 to 90): 0\n",
            "Number of invalid longitudes (outside -180 to 180): 0\n"
          ]
        }
      ],
      "source": [
        "# Previous code:\n",
        "# # Latitude and Longitude Columns:\n",
        "# print(\"the minumum latitude is: \", raw_df['Latitude'].min())\n",
        "# print(\"the maximum latitude is: \", raw_df['Latitude'].max())\n",
        "\n",
        "# print(\"the minumum longitude is: \", raw_df['Longitude'].min())\n",
        "# print(\"the maximum longitude is: \", raw_df['Longitude'].max())\n",
        "\n",
        "#AI optimised code:\n",
        "# Latitude and Longitude Columns:\n",
        "lat_min = raw_df['Latitude'].min()\n",
        "lat_max = raw_df['Latitude'].max()\n",
        "lon_min = raw_df['Longitude'].min()\n",
        "lon_max = raw_df['Longitude'].max()\n",
        "\n",
        "# Check if values fall within the valid ranges\n",
        "invalid_latitudes = raw_df[(raw_df['Latitude'] < -90) | (raw_df['Latitude'] > 90)]\n",
        "invalid_longitudes = raw_df[(raw_df['Longitude'] < -180) | (raw_df['Longitude'] > 180)]\n",
        "\n",
        "# Count of invalid latitudes and longitudes\n",
        "invalid_latitudes_count = invalid_latitudes.shape[0]\n",
        "invalid_longitudes_count = invalid_longitudes.shape[0]\n",
        "\n",
        "# Print results\n",
        "print(f\"The minimum latitude is: {lat_min:.2f}\")\n",
        "print(f\"The maximum latitude is: {lat_max:.2f}\")\n",
        "print(f\"The minimum longitude is: {lon_min:.2f}\")\n",
        "print(f\"The maximum longitude is: {lon_max:.2f}\")\n",
        "\n",
        "print(f\"\\nNumber of invalid latitudes (outside -90 to 90): {invalid_latitudes_count}\")\n",
        "print(f\"Number of invalid longitudes (outside -180 to 180): {invalid_longitudes_count}\")\n"
      ]
    },
    {
      "cell_type": "markdown",
      "metadata": {},
      "source": [
        "### 1.6.3 Outlier Detection: Total Litter"
      ]
    },
    {
      "cell_type": "code",
      "execution_count": 18,
      "metadata": {},
      "outputs": [
        {
          "data": {
            "image/png": "[encoded data removed]",
            "text/plain": [
              "<Figure size 1200x600 with 1 Axes>"
            ]
          },
          "metadata": {},
          "output_type": "display_data"
        },
        {
          "data": {
            "text/plain": [
              "count    4307.000000\n",
              "mean        2.451823\n",
              "std         6.979546\n",
              "min         0.000000\n",
              "25%         0.000000\n",
              "50%         1.000000\n",
              "75%         3.000000\n",
              "max       271.000000\n",
              "Name: totallitter, dtype: float64"
            ]
          },
          "execution_count": 18,
          "metadata": {},
          "output_type": "execute_result"
        }
      ],
      "source": [
        "import matplotlib.pyplot as plt\n",
        "import seaborn as sns\n",
        "\n",
        "sns.set_style('darkgrid')\n",
        "\n",
        "# Boxplot for 'totallitter'\n",
        "plt.figure(figsize=(12, 6))\n",
        "ax = raw_df['totallitter'].plot(kind='box')\n",
        "\n",
        "# Median, 25th and 75th percentiles\n",
        "Q1 = raw_df['totallitter'].quantile(0.25)\n",
        "Q3 = raw_df['totallitter'].quantile(0.75)\n",
        "median = raw_df['totallitter'].median()\n",
        "\n",
        "# Horizontal line for Median\n",
        "plt.axhline(median, color='r', linestyle='--', linewidth=1)\n",
        "plt.text(1.5, median + 5, f'Median: {median:.2f}', color='r', fontsize=12, ha='center')\n",
        "\n",
        "# Horizontal line for Q1 and Q3\n",
        "plt.axhline(Q1, color='b', linestyle='--', linewidth=1)\n",
        "plt.text(0.5, Q1 - 15, f'Q1: {Q1:.2f}', color='b', fontsize=12, ha='center')\n",
        "\n",
        "plt.axhline(Q3, color='g', linestyle='--', linewidth=1)\n",
        "plt.text(0.5, Q3 + 15, f'Q3: {Q3:.2f}', color='g', fontsize=12, ha='center')\n",
        "\n",
        "# Adjust layout for readability\n",
        "plt.title('Boxplot for Total Litter')\n",
        "plt.tight_layout()\n",
        "plt.show()\n",
        "\n",
        "# Descriptive statistics for 'totallitter'\n",
        "raw_df['totallitter'].describe()\n"
      ]
    },
    {
      "cell_type": "markdown",
      "metadata": {},
      "source": [
        "Key statistical findings include:\n",
        "\n",
        "* **Mean:** 2.45 items\n",
        "* **Standard Deviation:** 6.98 (indicating high variability)\n",
        "* **Minimum:** 0 items\n",
        "* **Maximum:** 271 items\n",
        "* **75th Percentile:** 3 items\n",
        "\n",
        "The clear difference between the 75th percentile and the maximum value suggests a potential outlier.\n",
        "\n",
        "--- \n",
        "\n",
        "**Rationale for Retaining the Maximum Value:**\n",
        "\n",
        "While the maximum value of 271 significantly deviates from the central tendency of the data, it was kept due to its potential to represent a legitimate data point.\n",
        "\n",
        "Removing this value may result in the loss of crucial information regarding instances of unusually high litter concentrations. \n",
        "\n",
        "Further investigation is required to determine the specific conditions that led to such a high concentration.\n",
        "\n",
        "--- \n",
        "\n",
        "**Rationale for Retaining the 0 Value's:**\n",
        "\n",
        "The zeros represent locations where there was no marine debris. Retaining them accurately reflects the reality of the environment being studied. \n",
        "\n",
        "Some locations will naturally have no litter, either because they haven't been affected by pollution or because of effective cleanup efforts."
      ]
    },
    {
      "cell_type": "markdown",
      "metadata": {},
      "source": [
        "### 1.6.4 Outlier Detection: Distance Trawled"
      ]
    },
    {
      "cell_type": "code",
      "execution_count": 19,
      "metadata": {},
      "outputs": [
        {
          "data": {
            "image/png": "[encoded data removed]",
            "text/plain": [
              "<Figure size 1200x600 with 1 Axes>"
            ]
          },
          "metadata": {},
          "output_type": "display_data"
        },
        {
          "data": {
            "text/plain": [
              "count     4307.000000\n",
              "mean      2071.758068\n",
              "std       2212.877810\n",
              "min          0.000000\n",
              "25%          0.000000\n",
              "50%       2951.000000\n",
              "75%       3696.000000\n",
              "max      13208.000000\n",
              "Name: distance, dtype: float64"
            ]
          },
          "execution_count": 19,
          "metadata": {},
          "output_type": "execute_result"
        }
      ],
      "source": [
        "# Boxplot for 'distance'\n",
        "plt.figure(figsize=(12, 6))\n",
        "ax = raw_df['distance'].plot(kind='box')\n",
        "\n",
        "# Median, 25th and 75th percentiles for 'distance'\n",
        "Q1 = raw_df['distance'].quantile(0.25)\n",
        "Q3 = raw_df['distance'].quantile(0.75)\n",
        "median = raw_df['distance'].median()\n",
        "\n",
        "# Horizontal line for Median\n",
        "plt.axhline(median, color='r', linestyle='--', linewidth=1)\n",
        "plt.text(1.5, median + 5, f'Median: {median:.2f}', color='r', fontsize=12, ha='center')\n",
        "\n",
        "# Horizontal line for Q1 and Q3\n",
        "plt.axhline(Q1, color='b', linestyle='--', linewidth=1)\n",
        "plt.text(0.75, Q1 + 50, f'Q1: {Q1:.2f}', color='b', fontsize=12, ha='center')\n",
        "\n",
        "plt.axhline(Q3, color='g', linestyle='--', linewidth=1)\n",
        "plt.text(0.75, Q3 + 15, f'Q3: {Q3:.2f}', color='g', fontsize=12, ha='center')\n",
        "\n",
        "# Adjust layout for readability\n",
        "plt.title('Boxplot for Distance Trawled')\n",
        "plt.tight_layout()\n",
        "plt.show()\n",
        "\n",
        "# Descriptive statistics for 'distance'\n",
        "raw_df['distance'].describe()"
      ]
    },
    {
      "cell_type": "markdown",
      "metadata": {},
      "source": [
        "### Analysis of 'distance' Column\n",
        "\n",
        "The 'distance' column, representing the distance covered during surveys, displayed a wide range of values. Key statistical findings include:\n",
        "\n",
        "* **Mean:** 2071.76 (approximately)\n",
        "* **Standard Deviation:** 2212.88 (indicating high variability)\n",
        "* **Minimum:** 0\n",
        "* **Maximum:** 13208\n",
        "* **75th Percentile:** 3696\n",
        "\n",
        "The significant difference between the 75th percentile and the maximum value suggests a potential outlier.\n",
        "\n",
        "---\n",
        "\n",
        "**Rationale for Retaining the Maximum Value:**\n",
        "\n",
        "While the maximum value of 13208 significantly deviates from the central tendency of the data, it was kept due to its potential to represent a legitimate data point.\n",
        "\n",
        "Removing this value may result in the loss of crucial information regarding instances of unusually long distances covered during surveys.\n",
        "\n",
        "Further investigation is required to determine the specific conditions that led to such a high distance.\n",
        "\n",
        "---\n",
        "\n",
        "**Rationale for Retaining the 0 Values:**\n",
        "\n",
        "The zeros represent surveys where no distance was recorded. Retaining them accurately reflects the data collected.\n",
        "\n",
        "These could represent surveys done from a fixed location, or where distance data was not available."
      ]
    },
    {
      "cell_type": "markdown",
      "metadata": {},
      "source": [
        "### 1.6.7 Outlier Detection: Wingspread (of Net)"
      ]
    },
    {
      "cell_type": "code",
      "execution_count": 20,
      "metadata": {},
      "outputs": [
        {
          "data": {
            "image/png": "[encoded data removed]",
            "text/plain": [
              "<Figure size 1200x600 with 1 Axes>"
            ]
          },
          "metadata": {},
          "output_type": "display_data"
        },
        {
          "data": {
            "text/plain": [
              "count    4307.000000\n",
              "mean        3.038078\n",
              "std         4.618863\n",
              "min         0.000000\n",
              "25%         0.000000\n",
              "50%         4.000000\n",
              "75%         4.000000\n",
              "max        22.000000\n",
              "Name: wingspread, dtype: float64"
            ]
          },
          "execution_count": 20,
          "metadata": {},
          "output_type": "execute_result"
        }
      ],
      "source": [
        "# Boxplot for 'wingspread'\n",
        "plt.figure(figsize=(12, 6))\n",
        "ax = raw_df['wingspread'].plot(kind='box')\n",
        "\n",
        "# Median, 25th and 75th percentiles for 'wingspread'\n",
        "Q1 = raw_df['wingspread'].quantile(0.25)\n",
        "Q3 = raw_df['wingspread'].quantile(0.75)\n",
        "median = raw_df['wingspread'].median()\n",
        "\n",
        "\n",
        "# Horizontal line for Median\n",
        "plt.axhline(median, color='r', linestyle='--', linewidth=1)\n",
        "\n",
        "# Horizontal line for Q3\n",
        "plt.axhline(Q3, color='g', linestyle='--', linewidth=1)\n",
        "\n",
        "# Place annotations for Q3 and Median next to each other\n",
        "plt.text(0.8, median,  f'Median: {median:.2f}', color='r', fontsize=12, ha='center')\n",
        "plt.text(0.7, Q3, f'Q3: {Q3:.2f}', color='g', fontsize=12, ha='center')\n",
        "\n",
        "# Horizontal line for Q1\n",
        "plt.axhline(Q1, color='b', linestyle='--', linewidth=1)\n",
        "plt.text(0.7, Q1, f'Q1: {Q1:.2f}', color='b', fontsize=12, ha='center')\n",
        "\n",
        "# Adjust layout for readability\n",
        "plt.title('Boxplot for Wingspread')\n",
        "plt.tight_layout()\n",
        "plt.show()\n",
        "\n",
        "# Descriptive statistics for 'wingspread'\n",
        "raw_df['wingspread'].describe()"
      ]
    },
    {
      "cell_type": "code",
      "execution_count": 21,
      "metadata": {},
      "outputs": [
        {
          "name": "stdout",
          "output_type": "stream",
          "text": [
            "[ 0 20 21 22 16 18  4]\n"
          ]
        }
      ],
      "source": [
        "# unique values in 'wingspread'\n",
        "print(raw_df['wingspread'].unique())"
      ]
    },
    {
      "cell_type": "markdown",
      "metadata": {},
      "source": [
        "### Analysis of 'wingspread' Column\n",
        "\n",
        "The 'wingspread' column, representing the width of the net or equipment during surveys, showed a mix of values. \n",
        "\n",
        "Key statistical findings include:\n",
        "\n",
        "* **Average Wingspread:** About 3\n",
        "* **Wingspread Varies:** The wingspread measurements were quite different from each other.\n",
        "* **Common Wingspreads:** Most surveys had a wingspread of 0 or 4.\n",
        "* **Widest Wingspread:** The widest wingspread was 22.\n",
        "\n",
        "**Why We're Keeping These Values:**\n",
        "\n",
        "These numbers show us how the equipment was used during the surveys. The different wingspreads might tell us about different ways of collecting litter."
      ]
    },
    {
      "cell_type": "markdown",
      "metadata": {},
      "source": [
        "## 1.6 Evaluation\n",
        "\n",
        "I chose to identify the numerical columns in the dataset and inspect the latitude and longitude values to ensure they fall within their valid geographical ranges.\n",
        "\n",
        "- **Approach**: I used the `dtypes` attribute to select numerical columns and printed their names. Then, I checked the minimum and maximum values for the 'Latitude' and 'Longitude' columns to verify they fall within valid geographical bounds of -90 to 90 for latitude and -180 to 180 for longitude.\n",
        "\n",
        "- **Alternative Approach**: If I had more time, I could have added validation checks for other geographical data points, such as elevation or time zones, to ensure the dataset's consistency.\n",
        "\n",
        "- **Limitation**: A limitation of this method is that it only checks the extremes of the latitude and longitude values, without detecting other potential data issues, such as missing or inconsistent geographical data.\n",
        "\n",
        "---\n",
        "\n",
        "## Boxplot and Descriptive Statistics for 'Wingspread'\n",
        "\n",
        "I chose to generate a boxplot for the 'wingspread' column to visually explore its distribution, highlighting the median, quartiles, and potential outliers.\n",
        "\n",
        "- **Approach**: I created a boxplot for the 'wingspread' column, added horizontal lines for the median (red), Q3 (green), and Q1 (blue), and annotated these values for better clarity. Descriptive statistics were also provided using the `describe()` function to summarise key metrics such as mean, standard deviation, and percentiles.\n",
        "\n",
        "- **Limitation**: A limitation of this approach is that the boxplot does not reveal more nuanced insights into data distribution, such as skewness or heavy-tailed distributions. The descriptive statistics may also be influenced by outliers, which are not always immediately obvious in the plot.\n"
      ]
    },
    {
      "cell_type": "markdown",
      "metadata": {},
      "source": [
        "## 1.7 Verifying Final Dataset"
      ]
    },
    {
      "cell_type": "markdown",
      "metadata": {},
      "source": [
        "### 1.7.1 Checking for Missing Values - Final"
      ]
    },
    {
      "cell_type": "code",
      "execution_count": 22,
      "metadata": {},
      "outputs": [
        {
          "name": "stdout",
          "output_type": "stream",
          "text": [
            "--- Missing Values ---\n",
            "0\n"
          ]
        }
      ],
      "source": [
        "# Check for missing values\n",
        "missing = raw_df.isna().sum()\n",
        "\n",
        "print(\"--- Missing Values ---\")\n",
        "print(missing[missing > 0].sum())"
      ]
    },
    {
      "cell_type": "markdown",
      "metadata": {},
      "source": [
        "### 1.7.2 CheckingDataFrame shape - Final"
      ]
    },
    {
      "cell_type": "code",
      "execution_count": 23,
      "metadata": {},
      "outputs": [
        {
          "name": "stdout",
          "output_type": "stream",
          "text": [
            "\n",
            " --- Shape of the Dataset ---\n",
            "(4307, 52)\n"
          ]
        }
      ],
      "source": [
        "# View shape of the dataset\n",
        "print(\"\\n --- Shape of the Dataset ---\")\n",
        "print(raw_df.shape)"
      ]
    },
    {
      "cell_type": "markdown",
      "metadata": {},
      "source": [
        "### 1.7.3 Checking DataFrame Head - Final"
      ]
    },
    {
      "cell_type": "code",
      "execution_count": 24,
      "metadata": {},
      "outputs": [
        {
          "name": "stdout",
          "output_type": "stream",
          "text": [
            "\n",
            " --- First 5 Rows of the Dataset ---\n",
            "   year survey     cruise               area  station   Latitude  Longitude  \\\n",
            "0  1992   IBTS  CIRO 9/92  Greater North Sea        1  51.738333   1.753333   \n",
            "1  1992   IBTS  CIRO 9/92  Greater North Sea        2  51.601667   2.796667   \n",
            "2  1992   IBTS  CIRO 9/92  Greater North Sea        3  51.823333   3.643333   \n",
            "3  1992   IBTS  CIRO 9/92  Greater North Sea        4  52.823333   2.760000   \n",
            "4  1992   IBTS  CIRO 9/92  Greater North Sea        5  52.685000   3.411667   \n",
            "\n",
            "        date  bottle  sheet  ...  rope  paper  pallets  other.wood  clothing  \\\n",
            "0 1992-08-14       0      0  ...     0      0        0           0         0   \n",
            "1 1992-08-15       0      0  ...     0      0        0           0         0   \n",
            "2 1992-08-15       0      0  ...     0      0        0           0         0   \n",
            "3 1992-08-16       0      0  ...     0      0        0           0         0   \n",
            "4 1992-08-16       1      0  ...     0      0        0           0         0   \n",
            "\n",
            "   shoes  other.misc  totallitter  distance  wingspread  \n",
            "0      0           0            1      3794           0  \n",
            "1      0           0            2      3918           0  \n",
            "2      0           0            1      3624           0  \n",
            "3      0           0            1      3642           0  \n",
            "4      0           0            2      3791           0  \n",
            "\n",
            "[5 rows x 52 columns]\n"
          ]
        }
      ],
      "source": [
        "# First 5 rows of the dataset\n",
        "print(\"\\n --- First 5 Rows of the Dataset ---\")\n",
        "print(raw_df.head())"
      ]
    },
    {
      "cell_type": "markdown",
      "metadata": {},
      "source": [
        "### 1.7.4 Checking DataTypes - Final"
      ]
    },
    {
      "cell_type": "code",
      "execution_count": 25,
      "metadata": {},
      "outputs": [
        {
          "name": "stdout",
          "output_type": "stream",
          "text": [
            "\n",
            " --- Data Types ---\n",
            "year                      int64\n",
            "survey                   object\n",
            "cruise                   object\n",
            "area                     object\n",
            "station                   int64\n",
            "Latitude                float64\n",
            "Longitude               float64\n",
            "date             datetime64[ns]\n",
            "bottle                    int64\n",
            "sheet                     int64\n",
            "bag                       int64\n",
            "caps                      int64\n",
            "fishline.mono             int64\n",
            "fishline.tang             int64\n",
            "synthrope                 int64\n",
            "fishnet                   int64\n",
            "cabletie                  int64\n",
            "strap                     int64\n",
            "crates                    int64\n",
            "nappies                   int64\n",
            "santowels                 int64\n",
            "other.plas                int64\n",
            "cansfood                  int64\n",
            "cansdrink                 int64\n",
            "fishmetal                 int64\n",
            "drums                     int64\n",
            "appliance                 int64\n",
            "carparts                  int64\n",
            "cables                    int64\n",
            "other.metal               int64\n",
            "wellies                   int64\n",
            "balloon                   int64\n",
            "bobbins                   int64\n",
            "tyre                      int64\n",
            "gloves                    int64\n",
            "other.rub                 int64\n",
            "jars                      int64\n",
            "bottles                   int64\n",
            "pieces                    int64\n",
            "other.glass               int64\n",
            "woodnat                   int64\n",
            "woodproc                  int64\n",
            "rope                      int64\n",
            "paper                     int64\n",
            "pallets                   int64\n",
            "other.wood                int64\n",
            "clothing                  int64\n",
            "shoes                     int64\n",
            "other.misc                int64\n",
            "totallitter               int64\n",
            "distance                  int64\n",
            "wingspread                int64\n",
            "dtype: object\n"
          ]
        }
      ],
      "source": [
        "# Data type check\n",
        "print(\"\\n --- Data Types ---\")\n",
        "print(raw_df.dtypes)\n"
      ]
    },
    {
      "cell_type": "markdown",
      "metadata": {},
      "source": [
        "### 1.7.5 Checking Category Dictionary - Final"
      ]
    },
    {
      "cell_type": "code",
      "execution_count": 26,
      "metadata": {},
      "outputs": [
        {
          "name": "stdout",
          "output_type": "stream",
          "text": [
            "\n",
            " --- Categories ---\n",
            "Plastic: ['bottle', 'sheet', 'bag', 'caps', 'fishline.mono', 'fishline.tang', 'synthrope', 'fishnet', 'cabletie', 'strap', 'nappies', 'crates', 'santowels', 'other.plas']\n",
            "Metal: ['cansfood', 'cansdrink', 'fishmetal', 'drums', 'appliance', 'carparts', 'cables', 'other.metal']\n",
            "Rubber: ['wellies', 'balloon', 'bobbins', 'tyre', 'gloves', 'other.rub']\n",
            "Glass: ['jars', 'bottles', 'pieces', 'other.glass']\n",
            "Plant-Based Materials: ['woodnat', 'woodproc', 'rope', 'paper', 'pallets', 'other.wood']\n",
            "Clothing & Fabrics: ['clothing', 'shoes']\n",
            "Miscellaneous: ['other.misc']\n"
          ]
        }
      ],
      "source": [
        "# Category Dictionary\n",
        "print(\"\\n --- Categories ---\")\n",
        "for key, value in categories.items():\n",
        "    print(f\"{key}: {value}\")"
      ]
    },
    {
      "cell_type": "code",
      "execution_count": 27,
      "metadata": {},
      "outputs": [
        {
          "name": "stdout",
          "output_type": "stream",
          "text": [
            "\n",
            " Marine Litter Categories:\n",
            "- Plastic:\n",
            "  * bottle\n",
            "  * sheet\n",
            "  * bag\n",
            "  * caps\n",
            "  * fishline.mono\n",
            "  * fishline.tang\n",
            "  * synthrope\n",
            "  * fishnet\n",
            "  * cabletie\n",
            "  * strap\n",
            "  * nappies\n",
            "  * crates\n",
            "  * santowels\n",
            "  * other.plas\n",
            "- Metal:\n",
            "  * cansfood\n",
            "  * cansdrink\n",
            "  * fishmetal\n",
            "  * drums\n",
            "  * appliance\n",
            "  * carparts\n",
            "  * cables\n",
            "  * other.metal\n",
            "- Rubber:\n",
            "  * wellies\n",
            "  * balloon\n",
            "  * bobbins\n",
            "  * tyre\n",
            "  * gloves\n",
            "  * other.rub\n",
            "- Glass:\n",
            "  * jars\n",
            "  * bottles\n",
            "  * pieces\n",
            "  * other.glass\n",
            "- Plant-Based Materials:\n",
            "  * woodnat\n",
            "  * woodproc\n",
            "  * rope\n",
            "  * paper\n",
            "  * pallets\n",
            "  * other.wood\n",
            "- Clothing & Fabrics:\n",
            "  * clothing\n",
            "  * shoes\n",
            "- Miscellaneous:\n",
            "  * other.misc\n"
          ]
        }
      ],
      "source": [
        "# Nicer format\n",
        "print(\"\\n Marine Litter Categories:\")\n",
        "for category, items in categories.items():\n",
        "    print(f\"- {category}:\")  # Add a dash and a space\n",
        "    for item in items:\n",
        "        print(f\"  * {item}\")  # Add two spaces and an asterisk"
      ]
    },
    {
      "cell_type": "code",
      "execution_count": 28,
      "metadata": {},
      "outputs": [],
      "source": [
        "processed_df = raw_df.copy()"
      ]
    },
    {
      "cell_type": "markdown",
      "metadata": {},
      "source": [
        "## 1.7 Evaluation\n",
        "\n",
        "I chose to verify the final dataset by checking for missing values, reviewing its shape, inspecting the first five rows, confirming data types, and reviewing the categorisation of marine litter items.\n",
        "\n",
        "- **Approach**: I checked for missing values using `isna().sum()` to get a count of missing entries. I also viewed the shape of the dataset, the first five rows, and the data types to ensure the dataset was properly structured. Finally, I printed the marine litter categories in a more readable format.\n"
      ]
    },
    {
      "cell_type": "markdown",
      "metadata": {},
      "source": [
        "## 1.8 Saving Cleaned & Processed Dataset"
      ]
    },
    {
      "cell_type": "code",
      "execution_count": 29,
      "metadata": {},
      "outputs": [],
      "source": [
        "# Save the DataFrame to a new CSV file\n",
        "processed_df.to_csv('data/02_PROCESSED_NEA-Seafloor-Litter.csv', index=False)"
      ]
    },
    {
      "cell_type": "markdown",
      "metadata": {},
      "source": [
        "## Data Preprocessing Evaluation\n",
        "\n",
        "The data preprocessing steps aimed to clean and structure the dataset for further analysis.\n",
        "\n",
        "- **Approach**: The primary focus was on ensuring that the dataset was free of missing values, duplicates, and had correctly classified categories. The dataset was carefully checked for missing values using functions like `isna().sum()`, and categorical items were classified into meaningful groups. Latitude and longitude columns were validated to ensure their values were within acceptable geographical ranges. The preprocessing steps aimed to address some of the fundamental data issues to facilitate a smoother analysis.\n",
        "\n",
        "- **Strengths**: The preprocessing steps helped standardise the dataset, making it easier to work with for further analyses. Checking the validity of the numerical columns and ensuring that categorical items were grouped appropriately improved the overall structure of the dataset.\n",
        "\n",
        "- **Alternative Approaches**: If I had more time, I could have used more advanced techniques, such as applying multiple imputation methods for missing values or using visualisation tools to identify patterns or anomalies in the data.\n",
        "\n",
        "- **Limitation**: The current preprocessing process mainly addresses the most obvious issues like missing values and duplicates but does not fully address potential complexities such as the presence of subtle outliers, or inconsistencies in how categories are represented.\n"
      ]
    }
  ],
  "metadata": {
    "accelerator": "GPU",
    "colab": {
      "name": "Data Practitioner Jupyter Notebook.ipynb",
      "provenance": [],
      "toc_visible": true
    },
    "interpreter": {
      "hash": "8b8334dab9339717f727a1deaf837b322d7a41c20d15cc86be99a8e69ceec8ce"
    },
    "kernelspec": {
      "display_name": "Python 3.8.12 64-bit ('3.8.12': pyenv)",
      "name": "python3"
    },
    "language_info": {
      "codemirror_mode": {
        "name": "ipython",
        "version": 3
      },
      "file_extension": ".py",
      "mimetype": "text/x-python",
      "name": "python",
      "nbconvert_exporter": "python",
      "pygments_lexer": "ipython3",
      "version": "3.12.8"
    },
    "orig_nbformat": 2
  },
  "nbformat": 4,
  "nbformat_minor": 2
}
