{
 "cells": [
  {
   "cell_type": "markdown",
   "metadata": {},
   "source": [
    "# **Exploratory Data Analysis**"
   ]
  },
  {
   "cell_type": "markdown",
   "metadata": {},
   "source": [
    "This notebook documents exploratory data analysis. It includes non-graphical analysis, in the form of statistical tests, and graphical analysis, in the form of univariate and multivariate visualisations."
   ]
  },
  {
   "cell_type": "markdown",
   "metadata": {},
   "source": [
    "## Objectives\n",
    " * Conduct an exploratory data analysis to summarize and visualise key patterns in the dataset. \n",
    "\n",
    "\n",
    "## Inputs\n",
    "* Processed Dataset: `02_PROCESSED_NEA-Seafloor-Litter.csv`. \n",
    "\n",
    "## Outputs\n",
    "\n",
    "* Summary statistics of key features in the dataset.\n",
    "* Visualisations including histograms, box plots, and correlation heatmaps.\n",
    "* Identification of data quality issues, trends, and patterns.\n",
    "\n",
    "\n",
    "## Additional Comments\n",
    "\n",
    "\n",
    "\n"
   ]
  },
  {
   "cell_type": "markdown",
   "metadata": {},
   "source": [
    "11.1 Research and experiment with the application of data analytics tools, technologies, and methodologies:\n",
    "Explain why you chose specific tools (e.g., comparing different Python libraries like Matplotlib vs. Plotly for visualisation). Detail in Jupyter any experiments with new tools or methodologies, showing code snippets and explaining their results. Include version control commits that show progressive experimentation and refinements of your work. Incorporate new tools/technologies you've researched (such as a new library). The project would show evidence of trial, adaptation, and application in a meaningful way. Focus on challenges encountered and solutions found, explaining how you adapted to using them in the project.\n"
   ]
  },
  {
   "cell_type": "markdown",
   "metadata": {},
   "source": [
    "# Change working directory"
   ]
  },
  {
   "cell_type": "markdown",
   "metadata": {},
   "source": [
    "To facilitate proper file access, the working directory is to be adjusted to its parent directory\n",
    "* os.getcwd()"
   ]
  },
  {
   "cell_type": "code",
   "execution_count": 1,
   "metadata": {},
   "outputs": [
    {
     "data": {
      "text/plain": [
       "'/Users/mahahussain/Desktop/NEA-Seafloor-Litter-Analysis/NEA-Seafloor-Litter-Analysis/jupyter_notebooks'"
      ]
     },
     "execution_count": 1,
     "metadata": {},
     "output_type": "execute_result"
    }
   ],
   "source": [
    "import os\n",
    "current_dir = os.getcwd()\n",
    "current_dir"
   ]
  },
  {
   "cell_type": "markdown",
   "metadata": {},
   "source": [
    "To set the parent of the current directory the new current directory:\n",
    "* os.path.dirname() gets the parent directory\n",
    "* os.chir() defines the new current directory"
   ]
  },
  {
   "cell_type": "code",
   "execution_count": 2,
   "metadata": {},
   "outputs": [
    {
     "name": "stdout",
     "output_type": "stream",
     "text": [
      "You set a new current directory\n"
     ]
    }
   ],
   "source": [
    "os.chdir(os.path.dirname(current_dir))\n",
    "print(\"You set a new current directory\")"
   ]
  },
  {
   "cell_type": "markdown",
   "metadata": {},
   "source": [
    "Confirm the new current directory"
   ]
  },
  {
   "cell_type": "code",
   "execution_count": 3,
   "metadata": {},
   "outputs": [
    {
     "data": {
      "text/plain": [
       "'/Users/mahahussain/Desktop/NEA-Seafloor-Litter-Analysis/NEA-Seafloor-Litter-Analysis'"
      ]
     },
     "execution_count": 3,
     "metadata": {},
     "output_type": "execute_result"
    }
   ],
   "source": [
    "current_dir = os.getcwd()\n",
    "current_dir"
   ]
  },
  {
   "cell_type": "markdown",
   "metadata": {},
   "source": [
    "---"
   ]
  },
  {
   "cell_type": "markdown",
   "metadata": {},
   "source": [
    "# Section 1 : Descriptive Statistics"
   ]
  },
  {
   "cell_type": "markdown",
   "metadata": {},
   "source": [
    "## In this section:\n",
    "- Introduction to the key statistical concepts used throughout the analysis.\n",
    "- Statistical summary for numerical values, providing an overview of the data.\n",
    "- Descriptive analysis of categorical variables, focusing on frequency counts and cardinality"
   ]
  },
  {
   "cell_type": "markdown",
   "metadata": {},
   "source": [
    "### 1.1 Introduction to Core Statistical Concepts"
   ]
  },
  {
   "cell_type": "markdown",
   "metadata": {},
   "source": [
    "During data analysis, we want to be able to describe and interpret our dataset. We can do so by utilising statistical concepts that help us identify patterns and draw conclusions.\n",
    "\n",
    "Summary statistics summarise the mean, median, mode, standard deviation and min/max values in one statistic.\n",
    "\n",
    "---\n",
    "\n",
    "1. `MEAN:` The mean is a statistical tool used to find the average of a set of given numbers. \n",
    "\n",
    "- To calculate it, sum all of the values in the dataset and divide that sum by the count. We can use np.mean() to do so.\n",
    "\n",
    "    - Sum: Total amount of the addition of all datapoints in the given numerical column.\n",
    "    - Count: Total number of all datapoints in the set.\n",
    "\n",
    "This is an important foundational principle for data analysis because it provides a measure of central tendency which represents the typical value in a given data column. This allows us to compare averages across different datasets or subgroups within a given dataset. The mean can also be used to examine the change in mean over an extended period of time to view shifts and trends in the data.\n",
    "\n",
    "Note: It is important to note, however, that the mean is sensitive to extreme outliers. In datasets that have highly skewed distribution, the mean may not accurately represent a typical datapoint. Hence, we must investigate the data in conjunctions with other statistical measures.\n",
    "\n",
    "---\n",
    "\n",
    "2. `MEDIAN:` The median is a statistical tool used to find the middle value of an ordered set of given numbers. \n",
    "\n",
    "- To calculate it, you first need to order the datapoints in ascending order.\n",
    "\n",
    "    - If you have an odd number of values, the median is simply the middle number.\n",
    "    - If you have an even number of values, the median is the averaege of the two middle numbers.\n",
    "\n",
    "    We can use np.median() to do so.\n",
    "\n",
    "This is an important foundational principle for data analysis because it helps to identify a typical value of the dataset - 50% of the data is above this point and 50% of the data is below this point.\n",
    "\n",
    "Note: Unlike the mean, the median is not affected by extreme outliers, therefore it is a better measure of central tendency for a dataset with a skewed distribution. If the mean and median values are closely aligned, the data is likely symmetrical with a normal distribution, else, if they are not aligned, the data is likely skewed.\n",
    "\n",
    "---\n",
    "\n",
    "3. `MODE:` The mode is a statistical tool used to find the most frequent value in the given datapoints.\n",
    "\n",
    "- To calculate it, simply count the number of times each value appears in the data.\n",
    "\n",
    "We can use scipy.stats.mode() to do so on a numpy array.\n",
    "\n",
    "This is an important foundational principle for data analysis because because it allows us to identify the most common / popular value in our data. It is especially helpful for analysing categorical types, such as types of litter.\n",
    "    \n",
    "---\n",
    "\n",
    "4. `STANDARD DEVIATION:` Standard deviation is a statistical tool used to measure how spread out the numbers in a dataset are.\n",
    "\n",
    "- To calculate it you can use: np.std(data)\n",
    "- Since we are using DataFrames we can use df.std() from Pandas.\n",
    "\n",
    "$$\n",
    "\\sigma = \\sqrt{\\frac{\\sum (x_i - \\mu)^2}{N}}\n",
    "$$\n",
    "\n",
    "This is an important foundational principle for data analysis because it tells us how far out the data is from the mean value. \n",
    "\n",
    "- Small standard deviation: The datapoints are close to the average.\n",
    "- Large standard deviation: The datappoints are far from the average.\n",
    "\n",
    "---\n",
    "5. `HYPOTHESIS TESTING:` Hypothesis testing is a statistical concept used to check if our guesses about the data are likely to be true.\n",
    "\n",
    "- It involves setting up a \"null hypothesis\" (a statement we want to test) and then using statistical tests to see if the data provides enough evidence to reject it.\n",
    "\n",
    "This is an important foundational principle for data analysis because it allows us to check if observerd patterns are either likely to be due to chance or if they are statistically significant.\n",
    "\n",
    "---\n",
    "6. `BASIC PROBABILITY:` Probability is a statistical concept used to understand how likely it is that something will happen.\n",
    "\n",
    "- It's expressed as a number between 0 and 1 (or as a percentage). 0 means it's impossible, and 1 (or 100%) means it's certain.\n",
    "\n",
    "This is an important foundational principle for data analysis because it helps us understand the changes of different outcomes. For example, if we want to know the probability of finding a certain type of litter in a specifc area, based on the historical information, we can use probability to understand how likely that is.\n"
   ]
  },
  {
   "cell_type": "markdown",
   "metadata": {},
   "source": [
    "### 1.2 Statistical Summary for Numerical Values"
   ]
  },
  {
   "cell_type": "markdown",
   "metadata": {},
   "source": [
    "This section provides a statistical overview of the numerical data, calculating and interpreting descriptive measures such as mean, median, and standard deviation.\n"
   ]
  },
  {
   "cell_type": "code",
   "execution_count": 4,
   "metadata": {},
   "outputs": [],
   "source": [
    "# Import libraries\n",
    "import numpy as np\n",
    "import pandas as pd"
   ]
  },
  {
   "cell_type": "code",
   "execution_count": 5,
   "metadata": {},
   "outputs": [],
   "source": [
    "# Load in the processed dataset\n",
    "df = pd.read_csv('data/02_PROCESSED_NEA-Seafloor-Litter.csv')"
   ]
  },
  {
   "cell_type": "code",
   "execution_count": 6,
   "metadata": {},
   "outputs": [
    {
     "data": {
      "text/html": [
       "<div>\n",
       "<style scoped>\n",
       "    .dataframe tbody tr th:only-of-type {\n",
       "        vertical-align: middle;\n",
       "    }\n",
       "\n",
       "    .dataframe tbody tr th {\n",
       "        vertical-align: top;\n",
       "    }\n",
       "\n",
       "    .dataframe thead th {\n",
       "        text-align: right;\n",
       "    }\n",
       "</style>\n",
       "<table border=\"1\" class=\"dataframe\">\n",
       "  <thead>\n",
       "    <tr style=\"text-align: right;\">\n",
       "      <th></th>\n",
       "      <th>survey</th>\n",
       "      <th>cruise</th>\n",
       "      <th>area</th>\n",
       "      <th>station</th>\n",
       "      <th>Latitude</th>\n",
       "      <th>Longitude</th>\n",
       "      <th>date</th>\n",
       "      <th>bottle</th>\n",
       "      <th>sheet</th>\n",
       "      <th>bag</th>\n",
       "      <th>...</th>\n",
       "      <th>other.wood</th>\n",
       "      <th>clothing</th>\n",
       "      <th>shoes</th>\n",
       "      <th>other.misc</th>\n",
       "      <th>totallitter</th>\n",
       "      <th>distance</th>\n",
       "      <th>wingspread</th>\n",
       "      <th>year</th>\n",
       "      <th>month</th>\n",
       "      <th>day</th>\n",
       "    </tr>\n",
       "  </thead>\n",
       "  <tbody>\n",
       "    <tr>\n",
       "      <th>0</th>\n",
       "      <td>IBTS</td>\n",
       "      <td>CIRO 9/92</td>\n",
       "      <td>Greater North Sea</td>\n",
       "      <td>1</td>\n",
       "      <td>51.738333</td>\n",
       "      <td>1.753333</td>\n",
       "      <td>1992-08-14</td>\n",
       "      <td>0</td>\n",
       "      <td>0</td>\n",
       "      <td>1</td>\n",
       "      <td>...</td>\n",
       "      <td>0</td>\n",
       "      <td>0</td>\n",
       "      <td>0</td>\n",
       "      <td>0</td>\n",
       "      <td>1</td>\n",
       "      <td>3794</td>\n",
       "      <td>0</td>\n",
       "      <td>1992</td>\n",
       "      <td>8</td>\n",
       "      <td>14</td>\n",
       "    </tr>\n",
       "    <tr>\n",
       "      <th>1</th>\n",
       "      <td>IBTS</td>\n",
       "      <td>CIRO 9/92</td>\n",
       "      <td>Greater North Sea</td>\n",
       "      <td>2</td>\n",
       "      <td>51.601667</td>\n",
       "      <td>2.796667</td>\n",
       "      <td>1992-08-15</td>\n",
       "      <td>0</td>\n",
       "      <td>0</td>\n",
       "      <td>1</td>\n",
       "      <td>...</td>\n",
       "      <td>0</td>\n",
       "      <td>0</td>\n",
       "      <td>0</td>\n",
       "      <td>0</td>\n",
       "      <td>2</td>\n",
       "      <td>3918</td>\n",
       "      <td>0</td>\n",
       "      <td>1992</td>\n",
       "      <td>8</td>\n",
       "      <td>15</td>\n",
       "    </tr>\n",
       "    <tr>\n",
       "      <th>2</th>\n",
       "      <td>IBTS</td>\n",
       "      <td>CIRO 9/92</td>\n",
       "      <td>Greater North Sea</td>\n",
       "      <td>3</td>\n",
       "      <td>51.823333</td>\n",
       "      <td>3.643333</td>\n",
       "      <td>1992-08-15</td>\n",
       "      <td>0</td>\n",
       "      <td>0</td>\n",
       "      <td>0</td>\n",
       "      <td>...</td>\n",
       "      <td>0</td>\n",
       "      <td>0</td>\n",
       "      <td>0</td>\n",
       "      <td>0</td>\n",
       "      <td>1</td>\n",
       "      <td>3624</td>\n",
       "      <td>0</td>\n",
       "      <td>1992</td>\n",
       "      <td>8</td>\n",
       "      <td>15</td>\n",
       "    </tr>\n",
       "    <tr>\n",
       "      <th>3</th>\n",
       "      <td>IBTS</td>\n",
       "      <td>CIRO 9/92</td>\n",
       "      <td>Greater North Sea</td>\n",
       "      <td>4</td>\n",
       "      <td>52.823333</td>\n",
       "      <td>2.760000</td>\n",
       "      <td>1992-08-16</td>\n",
       "      <td>0</td>\n",
       "      <td>0</td>\n",
       "      <td>1</td>\n",
       "      <td>...</td>\n",
       "      <td>0</td>\n",
       "      <td>0</td>\n",
       "      <td>0</td>\n",
       "      <td>0</td>\n",
       "      <td>1</td>\n",
       "      <td>3642</td>\n",
       "      <td>0</td>\n",
       "      <td>1992</td>\n",
       "      <td>8</td>\n",
       "      <td>16</td>\n",
       "    </tr>\n",
       "    <tr>\n",
       "      <th>4</th>\n",
       "      <td>IBTS</td>\n",
       "      <td>CIRO 9/92</td>\n",
       "      <td>Greater North Sea</td>\n",
       "      <td>5</td>\n",
       "      <td>52.685000</td>\n",
       "      <td>3.411667</td>\n",
       "      <td>1992-08-16</td>\n",
       "      <td>1</td>\n",
       "      <td>0</td>\n",
       "      <td>1</td>\n",
       "      <td>...</td>\n",
       "      <td>0</td>\n",
       "      <td>0</td>\n",
       "      <td>0</td>\n",
       "      <td>0</td>\n",
       "      <td>2</td>\n",
       "      <td>3791</td>\n",
       "      <td>0</td>\n",
       "      <td>1992</td>\n",
       "      <td>8</td>\n",
       "      <td>16</td>\n",
       "    </tr>\n",
       "  </tbody>\n",
       "</table>\n",
       "<p>5 rows × 54 columns</p>\n",
       "</div>"
      ],
      "text/plain": [
       "  survey     cruise               area  station   Latitude  Longitude  \\\n",
       "0   IBTS  CIRO 9/92  Greater North Sea        1  51.738333   1.753333   \n",
       "1   IBTS  CIRO 9/92  Greater North Sea        2  51.601667   2.796667   \n",
       "2   IBTS  CIRO 9/92  Greater North Sea        3  51.823333   3.643333   \n",
       "3   IBTS  CIRO 9/92  Greater North Sea        4  52.823333   2.760000   \n",
       "4   IBTS  CIRO 9/92  Greater North Sea        5  52.685000   3.411667   \n",
       "\n",
       "         date  bottle  sheet  bag  ...  other.wood  clothing  shoes  \\\n",
       "0  1992-08-14       0      0    1  ...           0         0      0   \n",
       "1  1992-08-15       0      0    1  ...           0         0      0   \n",
       "2  1992-08-15       0      0    0  ...           0         0      0   \n",
       "3  1992-08-16       0      0    1  ...           0         0      0   \n",
       "4  1992-08-16       1      0    1  ...           0         0      0   \n",
       "\n",
       "   other.misc  totallitter  distance  wingspread  year  month  day  \n",
       "0           0            1      3794           0  1992      8   14  \n",
       "1           0            2      3918           0  1992      8   15  \n",
       "2           0            1      3624           0  1992      8   15  \n",
       "3           0            1      3642           0  1992      8   16  \n",
       "4           0            2      3791           0  1992      8   16  \n",
       "\n",
       "[5 rows x 54 columns]"
      ]
     },
     "execution_count": 6,
     "metadata": {},
     "output_type": "execute_result"
    }
   ],
   "source": [
    "# Display the first few rows of the full dataset to understand the data\n",
    "df.head()"
   ]
  },
  {
   "cell_type": "code",
   "execution_count": 7,
   "metadata": {},
   "outputs": [],
   "source": [
    "# Load in the category counts datasets\n",
    "df_alltime = pd.read_csv(\"data/03_ALL_TIME_litter_totals.csv\")"
   ]
  },
  {
   "cell_type": "code",
   "execution_count": 8,
   "metadata": {},
   "outputs": [
    {
     "data": {
      "text/html": [
       "<div>\n",
       "<style scoped>\n",
       "    .dataframe tbody tr th:only-of-type {\n",
       "        vertical-align: middle;\n",
       "    }\n",
       "\n",
       "    .dataframe tbody tr th {\n",
       "        vertical-align: top;\n",
       "    }\n",
       "\n",
       "    .dataframe thead th {\n",
       "        text-align: right;\n",
       "    }\n",
       "</style>\n",
       "<table border=\"1\" class=\"dataframe\">\n",
       "  <thead>\n",
       "    <tr style=\"text-align: right;\">\n",
       "      <th></th>\n",
       "      <th>category</th>\n",
       "      <th>count</th>\n",
       "    </tr>\n",
       "  </thead>\n",
       "  <tbody>\n",
       "    <tr>\n",
       "      <th>0</th>\n",
       "      <td>Plastic</td>\n",
       "      <td>7988</td>\n",
       "    </tr>\n",
       "    <tr>\n",
       "      <th>1</th>\n",
       "      <td>Metal</td>\n",
       "      <td>502</td>\n",
       "    </tr>\n",
       "    <tr>\n",
       "      <th>2</th>\n",
       "      <td>Rubber</td>\n",
       "      <td>563</td>\n",
       "    </tr>\n",
       "    <tr>\n",
       "      <th>3</th>\n",
       "      <td>Glass</td>\n",
       "      <td>99</td>\n",
       "    </tr>\n",
       "    <tr>\n",
       "      <th>4</th>\n",
       "      <td>Wood &amp; Paper</td>\n",
       "      <td>710</td>\n",
       "    </tr>\n",
       "    <tr>\n",
       "      <th>5</th>\n",
       "      <td>Clothing &amp; Fabrics</td>\n",
       "      <td>457</td>\n",
       "    </tr>\n",
       "    <tr>\n",
       "      <th>6</th>\n",
       "      <td>Miscellaneous</td>\n",
       "      <td>239</td>\n",
       "    </tr>\n",
       "  </tbody>\n",
       "</table>\n",
       "</div>"
      ],
      "text/plain": [
       "             category  count\n",
       "0             Plastic   7988\n",
       "1               Metal    502\n",
       "2              Rubber    563\n",
       "3               Glass     99\n",
       "4        Wood & Paper    710\n",
       "5  Clothing & Fabrics    457\n",
       "6       Miscellaneous    239"
      ]
     },
     "execution_count": 8,
     "metadata": {},
     "output_type": "execute_result"
    }
   ],
   "source": [
    "# Print the all-time dataset\n",
    "df_alltime"
   ]
  },
  {
   "cell_type": "markdown",
   "metadata": {},
   "source": [
    "The purpose of this code is to provide a thorough, non-graphical analysis of the selected columns, offering both general descriptive statistics and more specific measures of central tendency (median and mode). This analysis helps in understanding the distribution and characteristics of the data before proceeding with more advanced statistical tests or visualisations."
   ]
  },
  {
   "cell_type": "code",
   "execution_count": 9,
   "metadata": {},
   "outputs": [
    {
     "name": "stdout",
     "output_type": "stream",
     "text": [
      "Column: totallitter\n",
      "count    4307.000000\n",
      "mean        2.451823\n",
      "std         6.979546\n",
      "min         0.000000\n",
      "25%         0.000000\n",
      "50%         1.000000\n",
      "75%         3.000000\n",
      "max       271.000000\n",
      "Name: totallitter, dtype: float64\n",
      "Median: 1.0\n",
      "Mode: 0\n",
      "\n",
      "\n",
      "Column: distance\n",
      "count     4307.000000\n",
      "mean      2071.758068\n",
      "std       2212.877810\n",
      "min          0.000000\n",
      "25%          0.000000\n",
      "50%       2951.000000\n",
      "75%       3696.000000\n",
      "max      13208.000000\n",
      "Name: distance, dtype: float64\n",
      "Median: 2951.0\n",
      "Mode: 0\n",
      "\n",
      "\n",
      "Column: wingspread\n",
      "count    4307.000000\n",
      "mean        3.038078\n",
      "std         4.618863\n",
      "min         0.000000\n",
      "25%         0.000000\n",
      "50%         4.000000\n",
      "75%         4.000000\n",
      "max        22.000000\n",
      "Name: wingspread, dtype: float64\n",
      "Median: 4.0\n",
      "Mode: 4\n",
      "\n",
      "\n",
      "Column: year\n",
      "count    4307.000000\n",
      "mean     2007.981658\n",
      "std         7.048329\n",
      "min      1992.000000\n",
      "25%      2005.000000\n",
      "50%      2011.000000\n",
      "75%      2013.000000\n",
      "max      2015.000000\n",
      "Name: year, dtype: float64\n",
      "Median: 2011.0\n",
      "Mode: 2011\n",
      "\n",
      "\n",
      "Column: month\n",
      "count    4307.000000\n",
      "mean        6.879731\n",
      "std         2.710771\n",
      "min         2.000000\n",
      "25%         3.000000\n",
      "50%         8.000000\n",
      "75%         9.000000\n",
      "max        12.000000\n",
      "Name: month, dtype: float64\n",
      "Median: 8.0\n",
      "Mode: 8\n",
      "\n",
      "\n",
      "Column: day\n",
      "count    4307.000000\n",
      "mean       17.098677\n",
      "std         8.281551\n",
      "min         1.000000\n",
      "25%        11.000000\n",
      "50%        18.000000\n",
      "75%        24.000000\n",
      "max        31.000000\n",
      "Name: day, dtype: float64\n",
      "Median: 18.0\n",
      "Modes: 20, 22\n",
      "\n",
      "\n"
     ]
    }
   ],
   "source": [
    "# Columns that we want to describe\n",
    "cols_to_describe = ['totallitter', 'distance', 'wingspread', 'year', 'month', 'day']\n",
    "\n",
    "def describe_columns(df, cols):\n",
    "    for col in cols:\n",
    "        print(f\"Column: {col}\")\n",
    "        print(df[col].describe())  # Get the usual describe() output\n",
    "\n",
    "        # Add median\n",
    "        median = df[col].median()\n",
    "        print(f\"Median: {median}\")\n",
    "\n",
    "        # Add mode (handling potential multiple modes)\n",
    "        mode = df[col].mode()\n",
    "        if len(mode) == 1:\n",
    "            print(f\"Mode: {mode[0]}\")\n",
    "        else:\n",
    "            print(f\"Modes: {', '.join(map(str, mode.tolist()))}\")\n",
    "\n",
    "        print(\"\\n\")\n",
    "\n",
    "describe_columns(df, cols_to_describe)"
   ]
  },
  {
   "cell_type": "markdown",
   "metadata": {},
   "source": [
    "## AI Insights from Descriptive Statistics (Numerical)\n",
    "\n",
    "### Marine Litter Abundance ('totallitter')\n",
    "- The litter counts show significant variability, with most surveys recording low or no litter.\n",
    "- Extreme accumulation events have been observed, indicating outliers that will require further investigation.\n",
    "\n",
    "### Survey Distance ('distance')\n",
    "- There is substantial variation in the distance covered during surveys.\n",
    "- A significant number of surveys reported minimal or no distance, suggesting a negatively skewed distribution.\n",
    "\n",
    "### Wingspread Measurements ('wingspread')\n",
    "- Most surveys reported a common wingspread measurement, but a large proportion either did not record wingspread data at all.\n",
    "\n",
    "### Temporal Survey Distribution (Year, Month, Day)\n",
    "- Survey activity peaked around 2011, with the majority of surveys conducted in August.\n",
    "- Surveys tended to occur in the latter half of each month, with a slight concentration around the 17th to 22nd days.\n",
    "\n",
    "### General Observations\n",
    "- The high variability across litter counts, survey distances, and wingspread measurements suggests that further investigation into influencing factors is needed.\n",
    "- Skewed distributions in certain variables point to the presence of outliers, which should be handled appropriately in further analyses.\n",
    "- Temporal trends offer valuable insights into the seasonality and long-term patterns of marine litter distribution.\n"
   ]
  },
  {
   "cell_type": "markdown",
   "metadata": {},
   "source": [
    "#### Contextualising the AI summary \n",
    "While the descriptive statistics provide a quantitative overview, it is crucial to acknowledge the inherent limitations and potential biases in the data. \n",
    "\n",
    "The observed variability in litter counts and survey distances may reflect not only genuine environmental fluctuations but also variations in survey methodologies, environmental conditions, and observer biases. \n",
    "\n",
    "Furthermore, the temporal distribution of surveys, while seemingly uniform, might be influenced by logistical constraints and funding cycles, which could impact the representativeness of the data.\n",
    "\n",
    "Upon further external research, it was discovered that many surveys may have lacked the necessary sensor to measure the wingspread of the net. \n",
    "\n",
    "According to the International Bottom Trawl Survey Working Group (IBTSWG, 2021), 'Wing spread was not measured by all countries because of missing sensors, and for those countries that did have wingspread sensors, missing values and highly variable observations were common' (IBTSWG, 2021). \n",
    "\n",
    "This issue may have been prevalent in surveys conducted between 1992 and 2014, explaining the absence of wingspread data in a significant portion of the surveys.\n",
    "\n",
    "- [International Bottom Trawl Survey Working Group (IBTSWG), 2021](https://literatur.thuenen.de/digbib_extern/dn064116.pdf)"
   ]
  },
  {
   "cell_type": "markdown",
   "metadata": {},
   "source": [
    "### 1.3 Statistical Summary for Categorical Values"
   ]
  },
  {
   "cell_type": "markdown",
   "metadata": {},
   "source": [
    "**Objective:** To perform a descriptive analysis of categorical variables within the dataset.\n",
    "\n",
    "**Methodology:**\n",
    "Utilise frequency counts to determine the occurrence of each unique value within selected categorical columns.\n",
    "Examine the cardinality of these columns, which refers to the number of unique categories present.\n",
    "\n",
    "**Purpose:**\n",
    "To provide a comprehensive understanding of the distribution and diversity of categorical variables.\n",
    "To contribute to a broader understanding of the dataset's composition."
   ]
  },
  {
   "cell_type": "markdown",
   "metadata": {},
   "source": [
    "#### 1.3.1 Mode of Categorical Values"
   ]
  },
  {
   "cell_type": "code",
   "execution_count": 10,
   "metadata": {},
   "outputs": [
    {
     "name": "stdout",
     "output_type": "stream",
     "text": [
      "Mode for year: 2011\n",
      "Mode for month: 8\n",
      "Mode for day: 20\n",
      "Mode for survey: IBTS\n",
      "Mode for cruise: CEND 4/15\n",
      "Mode for area: Greater North Sea\n",
      "Mode for station: 0\n"
     ]
    }
   ],
   "source": [
    "cols_for_mode = ['year', 'month', 'day', 'survey', 'cruise', 'area', 'station']\n",
    "\n",
    "def find_modes(df, cols_for_mode):\n",
    "    for col in cols_for_mode:\n",
    "        print(f\"Mode for {col}: {df[col].mode().iloc[0]}\")\n",
    "\n",
    "find_modes(df, cols_for_mode)"
   ]
  },
  {
   "cell_type": "markdown",
   "metadata": {},
   "source": [
    "* **Temporal Distribution (Year, Month, Day):**\n",
    "    * The modal year of 2011 suggests a peak in data collection during this period. This concentration may be attributed to specific research initiatives, funding cycles, or environmental events that prompted increased monitoring efforts.\n",
    "\n",
    "    * The modal month of August indicates a seasonal bias in data collection. This could be due to favourable weather conditions, logistical considerations, or the timing of specific research cruises.\n",
    "\n",
    "    * The modal day of the month being the 20th, suggests that data collection tended to happen on this day, however the fact that there are also the 22nd, suggests that data collection happened in the later part of the month.\n",
    "\n",
    "* **Spatial and Survey-Related Distribution (Survey, Cruise, Area, Station):**\n",
    "    * The modal survey 'IBTS' and cruise 'CEND 4/15' highlight the predominant data collection programs contributing to the dataset. \n",
    "\n",
    "    * The modal area 'Greater North Sea' indicates a geographical concentration of data collection. \n",
    "    \n",
    "    * The modal station '0' could indicate a frequently visited location."
   ]
  },
  {
   "cell_type": "markdown",
   "metadata": {},
   "source": [
    "#### 1.3.2 Using value_counts() to examine frequency of each unique value in select columns."
   ]
  },
  {
   "cell_type": "markdown",
   "metadata": {},
   "source": [
    "Categorical data, representing distinct groups or classifications, requires different statistical approaches compared to numerical data. To analyse such data, frequency counts will be used to assess the unique occurences of each value within select columns."
   ]
  },
  {
   "cell_type": "code",
   "execution_count": 11,
   "metadata": {},
   "outputs": [
    {
     "name": "stdout",
     "output_type": "stream",
     "text": [
      "\n",
      " Value count for year:\n",
      "year\n",
      "2011    640\n",
      "2010    570\n",
      "2014    500\n",
      "2013    484\n",
      "2012    416\n",
      "2015    277\n",
      "2009    163\n",
      "1994    150\n",
      "1992    149\n",
      "1993    146\n",
      "2008    111\n",
      "2000     92\n",
      "2005     86\n",
      "1999     74\n",
      "1998     74\n",
      "1997     74\n",
      "1995     74\n",
      "1996     72\n",
      "2007     31\n",
      "2003     28\n",
      "2006     27\n",
      "2004     25\n",
      "2001     22\n",
      "2002     22\n",
      "Name: count, dtype: int64\n",
      "\n",
      " Value count for month:\n",
      "month\n",
      "8     1085\n",
      "9      811\n",
      "3      782\n",
      "7      616\n",
      "11     321\n",
      "2      296\n",
      "6      192\n",
      "10     125\n",
      "4       59\n",
      "12      19\n",
      "5        1\n",
      "Name: count, dtype: int64\n",
      "\n",
      " Value count for day:\n",
      "day\n",
      "20    219\n",
      "22    219\n",
      "17    197\n",
      "18    190\n",
      "19    190\n",
      "21    189\n",
      "28    173\n",
      "25    172\n",
      "23    169\n",
      "26    168\n",
      "16    164\n",
      "27    161\n",
      "24    159\n",
      "13    136\n",
      "15    134\n",
      "1     128\n",
      "12    119\n",
      "14    117\n",
      "2     111\n",
      "30    110\n",
      "9     110\n",
      "29    110\n",
      "3     107\n",
      "8     102\n",
      "7     101\n",
      "5     101\n",
      "6      99\n",
      "10     98\n",
      "4      97\n",
      "11     97\n",
      "31     60\n",
      "Name: count, dtype: int64\n",
      "\n",
      " Value count for survey:\n",
      "survey\n",
      "IBTS                 1575\n",
      "NWGFS                 566\n",
      "Q1SW_with Blinder     496\n",
      "7DBTS                 444\n",
      "Q1SW_No Blinder       408\n",
      "CSEMP                 365\n",
      "Q4SW                  220\n",
      "Q1SW                  138\n",
      "MEMFISH                95\n",
      "Name: count, dtype: int64\n",
      "\n",
      " Value count for cruise:\n",
      "cruise\n",
      "CEND 4/15     277\n",
      "Cend04/14     192\n",
      "Cend5/11      175\n",
      "Cend6/10      172\n",
      "CEND 02/13    142\n",
      "Cend 18/13    118\n",
      "CEND 13/12    118\n",
      "CEND 15/11    116\n",
      "Cend 18/14    112\n",
      "CEND 14/10    112\n",
      "CEND 15/12    108\n",
      "CEND4/11       95\n",
      "Cend 12/10     94\n",
      "CEND 11/12     93\n",
      "CEND 15/14     91\n",
      "CEND 13/10     90\n",
      "CEND 12/09     90\n",
      "Cend 15/13     89\n",
      "CEND 14/11     88\n",
      "CEND 12/13     85\n",
      "CEND5/12       84\n",
      "CEND 13/11     81\n",
      "Cend 17/14     81\n",
      "CEND 17/10     79\n",
      "CIRO 6/00      75\n",
      "CIRO 11/94     75\n",
      "CIRO 9/94      75\n",
      "CIRO 9/92      75\n",
      "CIRO 7/95      74\n",
      "CIRO 7/97      74\n",
      "CIRO 8/93      74\n",
      "CIRO 6/99      74\n",
      "CIRO 11/92     74\n",
      "CEND 15/08     74\n",
      "CIRO 4/98      74\n",
      "Cend 17/09     73\n",
      "CIRO 10/93     72\n",
      "CIRO 8/96      72\n",
      "CEND 19/11     68\n",
      "CEND 13/05     57\n",
      "Cend11/13      50\n",
      "CSEMP2008      37\n",
      "CSEMP2007      31\n",
      "CSEMP2005      29\n",
      "CSEMP2003      28\n",
      "CSEMP2006      27\n",
      "CSEMP2004      25\n",
      "Cend14/14      24\n",
      "CESEMP2010     23\n",
      "CSEMP2002      22\n",
      "CSEMP2001      22\n",
      "CSEMP2000      17\n",
      "CSEMP2011      17\n",
      "CEND9/12       13\n",
      "Name: count, dtype: int64\n",
      "\n",
      " Value count for area:\n",
      "area\n",
      "Greater North Sea                 2241\n",
      "Celtic Seas                       1913\n",
      "Celtic Seas, Greater North Sea     143\n",
      "Unknown                             10\n",
      "Name: count, dtype: int64\n",
      "\n",
      " Value count for station:\n",
      "station\n",
      "0      1031\n",
      "7        39\n",
      "22       38\n",
      "47       37\n",
      "53       37\n",
      "       ... \n",
      "142       1\n",
      "288       1\n",
      "108       1\n",
      "290       1\n",
      "287       1\n",
      "Name: count, Length: 320, dtype: int64\n"
     ]
    }
   ],
   "source": [
    "def get_value_counts(data_frame):\n",
    "   \"\"\"\n",
    "    This function shows the frequency of each category for the following columns:\n",
    "    1. year, month, day\n",
    "    2. survey\n",
    "    3. cruise\n",
    "    4. area\n",
    "    5. station\n",
    "\n",
    "   It provides the count of each unique category for the specified columns.\n",
    "\n",
    "    Args: data_frame: The data frame to inspect.\n",
    "    \"\"\"\n",
    "   \n",
    "   # Create a list of the columns to inspect\n",
    "   columns_to_check = ['year', 'month', 'day', 'survey', 'cruise', 'area', 'station']\n",
    "\n",
    "   # For every col in the list, print its title and its value counts\n",
    "   for col in columns_to_check:\n",
    "      print(f\"\\n Value count for {col}:\")\n",
    "      print(data_frame[col].value_counts())\n",
    "    \n",
    "get_value_counts(df)"
   ]
  },
  {
   "cell_type": "markdown",
   "metadata": {},
   "source": [
    "#### **AI Insights for Value Counts**\n",
    "\n",
    "The frequency distributions of the categorical variables reveal several key patterns within the dataset.\n",
    "\n",
    "**Temporal Distribution (Year, Month, Day):**\n",
    "\n",
    "* **Year:** The data exhibits a concentration of observations in the years 2011, 2010, and 2014, suggesting periods of intensified data collection. This could reflect specific research initiatives or funding cycles. The spread of years from 1992 to 2014 indicates a long-term study.\n",
    "\n",
    "* **Month:** August (8) and September (9) show the highest frequency of observations, indicating a potential seasonal bias in data collection. This may be related to favourable weather conditions or the timing of research cruises.\n",
    "\n",
    "* **Day:** The 20th and 22nd days of the month have the highest counts, suggesting a tendency for surveys to be conducted towards the latter part of the month.\n",
    "\n",
    "**Survey and Spatial Distribution (Survey, Cruise, Area, Station):**\n",
    "\n",
    "* **Survey:** The 'IBTS' survey represents the most frequent data collection effort, indicating its significant contribution to the dataset. Other surveys, such as 'NWGFS' and 'Q1SW', also contribute substantially.\n",
    "\n",
    "* **Cruise:** The 'CEND 4/15' cruise shows the highest frequency, suggesting a focused period of data collection. The variety of cruise names indicates multiple data collection expeditions.\n",
    "\n",
    "* **Area:** The 'Greater North Sea' and 'Celtic Seas' are the predominant areas of data collection, reflecting the geographical focus of the study. The low count for the \"unknown\" category is good, and shows that most locations were recorded.\n",
    "\n",
    "* **Station:** The high frequency of 'station 0' suggests a commonly sampled location or a default designation. The wide range of station values indicates diverse sampling sites.\n",
    "\n",
    "**General Observations:**\n",
    "\n",
    "The value count analysis highlights the variability and distribution of categorical data within the dataset. These findings can inform further analyses, such as exploring potential biases in data collection, investigating temporal and spatial patterns, and understanding the scope of the research efforts.\n"
   ]
  },
  {
   "cell_type": "markdown",
   "metadata": {},
   "source": [
    "#### 1.3.2 Using nunique() to Check Cardinality"
   ]
  },
  {
   "cell_type": "markdown",
   "metadata": {},
   "source": [
    "By inspecting the cardinality of selected columns, one can quickly assess the variety of categories present and ensure that the dataset's structure aligns with expectations."
   ]
  },
  {
   "cell_type": "code",
   "execution_count": 12,
   "metadata": {},
   "outputs": [
    {
     "name": "stdout",
     "output_type": "stream",
     "text": [
      "Number of unique years: 24\n",
      "Number of unique months: 11\n",
      "Number of unique days: 31\n",
      "Number of unique surveys: 9\n",
      "Number of unique cruises: 54\n",
      "Number of unique areas: 4\n",
      "Number of unique stations: 320\n"
     ]
    }
   ],
   "source": [
    "def get_cardinality(data_frame):\n",
    "   \"\"\"\n",
    "    This function shows the count of distinct categories for the following columns:\n",
    "    1. year\n",
    "    2. survey\n",
    "    3. cruise\n",
    "    4. area\n",
    "    5. station\n",
    "\n",
    "    Args: data_frame: The data frame to inspect.\n",
    "    \"\"\"\n",
    "       \n",
    "   # Create a list of the columns to inspect\n",
    "   cols = ['year', 'month', 'day', 'survey', 'cruise', 'area', 'station']\n",
    "\n",
    "   # For every col in the list, print its title and its value counts\n",
    "   for col in cols:\n",
    "      unqiue_count = data_frame[col].nunique()\n",
    "      print(f\"Number of unique {col}s: {unqiue_count}\") \n",
    "  \n",
    "    \n",
    "get_cardinality(df)\n",
    "       "
   ]
  },
  {
   "cell_type": "code",
   "execution_count": 13,
   "metadata": {},
   "outputs": [
    {
     "name": "stdout",
     "output_type": "stream",
     "text": [
      "\n",
      "Unique areas: ['Greater North Sea' 'Celtic Seas' 'Celtic Seas, Greater North Sea'\n",
      " 'Unknown']\n",
      "\n",
      "Unique surveys: ['IBTS' 'CSEMP' 'Q4SW' '7DBTS' 'NWGFS' 'Q1SW_with Blinder'\n",
      " 'Q1SW_No Blinder' 'MEMFISH' 'Q1SW']\n"
     ]
    }
   ],
   "source": [
    "# list of unique areas\n",
    "unique_areas = df['area'].unique()\n",
    "print(f\"\\nUnique areas: {unique_areas}\")\n",
    "\n",
    "# list of unique surveys\n",
    "unique_surveys = df['survey'].unique()\n",
    "print(f\"\\nUnique surveys: {unique_surveys}\")"
   ]
  },
  {
   "cell_type": "markdown",
   "metadata": {},
   "source": [
    "#### **AI Insights for Unique Category Counts**\n",
    "**Year Distribution**\n",
    "- The data spans across **24 unique years**, indicating a broad temporal range of data collection.\n",
    "- The presence of multiple years reflects long-term monitoring, with a focus on both recent and older data points.\n",
    "\n",
    "**Survey Distribution**\n",
    "- **9 unique surveys** are represented, showcasing a diverse range of research efforts.\n",
    "- The presence of multiple surveys suggests a variety of research methodologies and objectives, capturing different aspects of the dataset.\n",
    "\n",
    "**Cruise Distribution**\n",
    "- The data covers **54 unique cruises**, indicating a diverse set of research trips or expeditions.\n",
    "- The variety in cruises suggests both extensive and more specific sampling events across various periods.\n",
    "\n",
    "**Area Distribution**\n",
    "- The data is focused on **2 unique areas**, likely representing two primary regions of interest.\n",
    "- These areas may have distinct environmental conditions, offering opportunities for comparison and regional analysis.\n",
    "\n",
    "**Station Distribution**\n",
    "- The dataset includes data from **320 unique stations**, reflecting a detailed geographical distribution.\n",
    "- The large number of stations suggests a comprehensive sampling effort, providing rich spatial data for analysis.\n",
    "\n",
    "#### **Observations**\n",
    "- The data spans a significant time period with 24 years of collected data.\n",
    "- The variety in the number of surveys, cruises, and stations shows a comprehensive and diverse data collection effort, capturing both broad trends and specific research events.\n",
    "- The focus on two primary areas highlights regional interest, while the extensive number of stations offers a high level of detail and spatial resolution in the dataset.\n"
   ]
  },
  {
   "cell_type": "markdown",
   "metadata": {},
   "source": [
    "### 1.4 Numerical Statistical Tests :Kurtosis, Correlations & Shapiro-Wilk"
   ]
  },
  {
   "cell_type": "markdown",
   "metadata": {},
   "source": [
    "### NUMERICAL ANALYSIS"
   ]
  },
  {
   "cell_type": "markdown",
   "metadata": {},
   "source": [
    "These are the numerical values that will be used for further non-graphical analysis."
   ]
  },
  {
   "cell_type": "code",
   "execution_count": 14,
   "metadata": {},
   "outputs": [],
   "source": [
    "columns_to_check = ['totallitter', 'distance', 'wingspread']"
   ]
  },
  {
   "cell_type": "markdown",
   "metadata": {},
   "source": [
    "#### Kurtosis Measure"
   ]
  },
  {
   "cell_type": "markdown",
   "metadata": {},
   "source": [
    "The measure of kurtosis focuses on the distribution of data around the mean and indicates the degree of a distributions tail in relation to a normal distribution. \n",
    "\n",
    "There are three types of kurtosis:\n",
    "\n",
    "1. Mesokurtic: A distribution with normal kurtosis, typically around a value of 3. It indicates that the distribution has a moderate level of peak and tail extremity, similar to the normal distribution.\n",
    "\n",
    "2. Leptokurtic: A distribution with a kurtosis greater than 3, indicating a higher peak and heavier tails compared to a normal distribution. This suggests that the data has more frequent extreme values (outliers) and a sharper peak.\n",
    "\n",
    "3. Platykurtic: A distribution with a kurtosis less than 3, indicating a flatter peak and lighter tails. It suggests that the data has fewer outliers and is more evenly distributed compared to the normal distribution.\n",
    "\n"
   ]
  },
  {
   "cell_type": "code",
   "execution_count": 15,
   "metadata": {},
   "outputs": [
    {
     "name": "stdout",
     "output_type": "stream",
     "text": [
      "Kurtosis for totallitter: 640.454501760528\n",
      "Kurtosis for distance: 1.7432838000591127\n",
      "Kurtosis for wingspread: 7.566334310633922\n"
     ]
    }
   ],
   "source": [
    "# Measure of kurtosis for select numerical columns\n",
    "\n",
    "def measure_kurtosis(data_frame):\n",
    "    \"\"\"\n",
    "    This function calculates the kurtosis for all selected columns in the dataframe.\n",
    "\n",
    "    Args: data_frame: The data frame to inspect.\n",
    "    \"\"\"\n",
    "\n",
    "\n",
    "    # For every numerical column, calculate the kurtosis\n",
    "    for col in columns_to_check:\n",
    "        kurtosis = data_frame[col].kurtosis()\n",
    "        print(f\"Kurtosis for {col}: {kurtosis}\")\n",
    "\n",
    "measure_kurtosis(df)"
   ]
  },
  {
   "cell_type": "markdown",
   "metadata": {},
   "source": [
    "1. `totallitter`'s distribution is leptokurtic. The extremely high number indicates the presence of extreme outliers within the data. This may be due to difference in litter collection across the different surveys.\n",
    "\n",
    "2. `distance`'s distribution is platykurtic. In comparison to `totallitter`, it has a relatively normal distribution - suggesting the presence of less outliers and a more evenly distributed set of datapoints.\n",
    "\n",
    "3. `wingspread`'s distribution is Leptokurtic. Whilst not as extreme as `totallitter`'s, it still suggests a sharper peak around the mean of the data. "
   ]
  },
  {
   "cell_type": "markdown",
   "metadata": {},
   "source": [
    "#### Correlation Measures"
   ]
  },
  {
   "cell_type": "markdown",
   "metadata": {},
   "source": [
    "Correlation analysis can help identify any relationships between numerical variables and assess the strength of a relationship.\n",
    "\n",
    "Spearman correlation was selected for this analysis due to the presence of outliers in the data. Unlike Pearson correlation, which assumes a linear relationship and normal distribution, Spearman correlation is more robust to outliers and does not require the data to follow a normal distribution. \n",
    "\n",
    "This makes Spearman a more suitable choice for assessing the relationships between total litter, distance, and wingspread without being influenced by extreme values."
   ]
  },
  {
   "cell_type": "code",
   "execution_count": 16,
   "metadata": {},
   "outputs": [
    {
     "name": "stdout",
     "output_type": "stream",
     "text": [
      "Spearman's correlation for totallitter:\n",
      "             totallitter  distance  wingspread\n",
      "totallitter     1.000000 -0.002326    0.053636\n",
      "distance       -0.002326  1.000000   -0.585522\n",
      "wingspread      0.053636 -0.585522    1.000000 \n",
      "\n",
      "Spearman's correlation for distance:\n",
      "             totallitter  distance  wingspread\n",
      "totallitter     1.000000 -0.002326    0.053636\n",
      "distance       -0.002326  1.000000   -0.585522\n",
      "wingspread      0.053636 -0.585522    1.000000 \n",
      "\n",
      "Spearman's correlation for wingspread:\n",
      "             totallitter  distance  wingspread\n",
      "totallitter     1.000000 -0.002326    0.053636\n",
      "distance       -0.002326  1.000000   -0.585522\n",
      "wingspread      0.053636 -0.585522    1.000000 \n",
      "\n"
     ]
    }
   ],
   "source": [
    "def spearmans_correlation(df, cols):\n",
    "    \"\"\"\n",
    "    This function calculates the Spearman's correlation for all selected columns in the dataframe.\n",
    "\n",
    "    Args: data_frame: The data frame to inspect.\n",
    "          cols: The columns to calculate the correlation for.\n",
    "\n",
    "    Prints: The Spearman's correlation for the selected columns.\n",
    "    \"\"\"\n",
    "\n",
    "    for col in columns_to_check:\n",
    "        correlation = df[cols].corr(method='spearman')\n",
    "        print(f\"Spearman's correlation for {col}:\")\n",
    "        print(correlation, \"\\n\")\n",
    "\n",
    "spearmans_correlation(df, columns_to_check)"
   ]
  },
  {
   "cell_type": "markdown",
   "metadata": {},
   "source": [
    "The Spearman's correlation analysis reveals weak or no significant monotonic relationships between total litter, distance, and wingspread. Specifically, there is a very weak inverse correlation between total litter and distance (-0.0023) and a slight positive correlation between total litter and wingspread (0.0536). However, a moderate negative correlation is observed between distance and wingspread (-0.5855), suggesting that as one increases, the other tends to decrease. Overall, the relationships between these variables are weak, with the exception of the inverse relationship between distance and wingspread."
   ]
  },
  {
   "cell_type": "markdown",
   "metadata": {},
   "source": [
    "#### Shapiro-Wilk test"
   ]
  },
  {
   "cell_type": "markdown",
   "metadata": {},
   "source": [
    "In addition to the statistical techniques covered in the course, I conducted further research on statistical methods for analyzing numerical data. Based on my findings, I chose to apply the Shapiro-Wilk test to assess the normality of the numerical columns in the dataset. \n",
    "\n",
    "For the statistical technique used, the method was sourced from an external resource: \n",
    "[DataCamp - Univariate Investment Risk and Returns](https://campus.datacamp.com/courses/introduction-to-portfolio-risk-management-in-python/univariate-investment-risk-and-returns?ex=12).\n"
   ]
  },
  {
   "cell_type": "code",
   "execution_count": 17,
   "metadata": {},
   "outputs": [
    {
     "name": "stdout",
     "output_type": "stream",
     "text": [
      "Shapiro-Wilk test for totallitter:\n",
      "Statistic: 0.22558233375296244\n",
      "p-value: 4.4889809534015366e-86. The data is not normally distributed.\n",
      "\n",
      "\n",
      "Shapiro-Wilk test for distance:\n",
      "Statistic: 0.7362339750264268\n",
      "p-value: 9.495772723860437e-64. The data is not normally distributed.\n",
      "\n",
      "\n",
      "Shapiro-Wilk test for wingspread:\n",
      "Statistic: 0.5538591374880412\n",
      "p-value: 3.245587655943993e-74. The data is not normally distributed.\n",
      "\n",
      "\n"
     ]
    }
   ],
   "source": [
    "from scipy.stats import shapiro\n",
    "\n",
    "def shapiro_wilk_test(data_frame, cols):\n",
    "\n",
    "    \"\"\"\n",
    "    This function performs the Shapiro-Wilk test for normality on the selected columns in the dataframe.\n",
    "\n",
    "    Args: data_frame: The data frame to inspect.\n",
    "            cols: The columns to perform the test on.\n",
    "\n",
    "    Prints: The results of the Shapiro-Wilk test for each column.\n",
    "    \"\"\"\n",
    "    for col in columns_to_check:\n",
    "        # Perform the Shapiro-Wilk test\n",
    "        stat, p_value = shapiro(data_frame[col])\n",
    "\n",
    "        # Print the results\n",
    "        print(f\"Shapiro-Wilk test for {col}:\")\n",
    "        print(f\"Statistic: {stat}\")\n",
    "\n",
    "        # Compare the p-value to the significance level\n",
    "        if p_value < 0.05:\n",
    "            print(f\"p-value: {p_value}. The data is not normally distributed.\")\n",
    "        else:\n",
    "            print(f\"p-value: {p_value}. The data is normally distributed.\")\n",
    "        print(\"\\n\")\n",
    "\n",
    "shapiro_wilk_test(df, columns_to_check)"
   ]
  },
  {
   "cell_type": "markdown",
   "metadata": {},
   "source": [
    "The Shapiro-Wilk test suggests that the distributions of totallitter, distance, and wingspread deviate significantly from normality, as indicated by the extremely low p-values."
   ]
  },
  {
   "cell_type": "markdown",
   "metadata": {},
   "source": [
    "### 1.5 Categorical Statistical Tests: Chi-Squared, Cramers V"
   ]
  },
  {
   "cell_type": "markdown",
   "metadata": {},
   "source": [
    "The Chi-Square Test of Independence was conducted to examine whether there is a significant association between the Area of Seas and Survey Type variables, while Cramér’s V was used to quantify the strength of this relationship. These tests help assess dependencies between categorical variables and determine whether any observed relationships are statistically significant. (DataCamp, n.d.; IBM, n.d.)."
   ]
  },
  {
   "cell_type": "markdown",
   "metadata": {},
   "source": [
    "These are the categorical values that will be used for further non-graphical analysis."
   ]
  },
  {
   "cell_type": "code",
   "execution_count": 18,
   "metadata": {},
   "outputs": [],
   "source": [
    "cat_cols_to_check = ['survey', 'area']"
   ]
  },
  {
   "cell_type": "markdown",
   "metadata": {},
   "source": [
    "### CATEGORICAL ANALYSIS"
   ]
  },
  {
   "cell_type": "markdown",
   "metadata": {},
   "source": [
    "#### Chi-Square Test of Independence"
   ]
  },
  {
   "cell_type": "markdown",
   "metadata": {},
   "source": [
    "The Chi-Squared test is a statistical method used to determine if there is a significant association between two categorical variables. \n",
    "\n",
    "It compares the observed frequencies in each category with the frequencies that would be expected if there were no association between the variables. \n",
    "\n",
    "A Chi-Squared value closer to 0 suggests no significant relationship, while a higher value indicates a stronger relationship. \n",
    "\n",
    "The p-value helps assess the significance: if it's below a predefined threshold (commonly 0.05), it suggests that the association between the variables is statistically significant."
   ]
  },
  {
   "cell_type": "code",
   "execution_count": 19,
   "metadata": {},
   "outputs": [
    {
     "name": "stdout",
     "output_type": "stream",
     "text": [
      "Chi-squared test for 'survey' vs 'area':\n",
      "Chi2: 3762.8838\n",
      "p-value: 0.0000\n",
      "Degrees of freedom: 24\n",
      "\n",
      "\n",
      "Expected Frequencies:\n",
      "[[1.97207337e+02 1.47415835e+01 2.31020200e+02 1.03087996e+00]\n",
      " [1.62118644e+02 1.21186441e+01 1.89915254e+02 8.47457627e-01]\n",
      " [6.99553053e+02 5.22927792e+01 8.19497330e+02 3.65683771e+00]\n",
      " [4.21952635e+01 3.15416763e+00 4.94299977e+01 2.20571163e-01]\n",
      " [2.51394938e+02 1.87921987e+01 2.94498723e+02 1.31413977e+00]\n",
      " [6.12941723e+01 4.58184351e+00 7.18035756e+01 3.20408637e-01]\n",
      " [1.81217553e+02 1.35463199e+01 2.12288832e+02 9.47295101e-01]\n",
      " [2.20303692e+02 1.64680752e+01 2.58076619e+02 1.15161365e+00]\n",
      " [9.77153471e+01 7.30438821e+00 1.14469468e+02 5.10796378e-01]]\n",
      "\n"
     ]
    }
   ],
   "source": [
    "from scipy.stats import chi2_contingency\n",
    "\n",
    "def chi_squared_test(data_frame):\n",
    "    \"\"\"\n",
    "    Performs a Chi-Square test of independence for each specified categorical column against 'survey'.\n",
    "    \n",
    "    Args:\n",
    "    data_frame (pd.DataFrame): The DataFrame containing the data.\n",
    "    cols (list): List of categorical columns to compare with 'survey'.\n",
    "    \n",
    "    Prints:\n",
    "    - Chi-square statistic\n",
    "    - p-value\n",
    "    - Degrees of freedom\n",
    "    - Expected frequencies for each test\n",
    "    \"\"\"\n",
    "    # Step 1: Create a contingency table\n",
    "    contingency_table = pd.crosstab(data_frame['survey'], data_frame['area'])\n",
    "\n",
    "    # Step 2: Perform the chi-squared test\n",
    "    chi2, p, dof, expected = chi2_contingency(contingency_table)\n",
    "\n",
    "    print(f\"Chi-squared test for 'survey' vs 'area':\")\n",
    "    print(f\"Chi2: {chi2:.4f}\")\n",
    "    print(f\"p-value: {p:.4f}\")\n",
    "    print(f\"Degrees of freedom: {dof}\")\n",
    "    print(\"\\n\")\n",
    "    print(f\"Expected Frequencies:\\n{expected}\\n\")\n",
    "\n",
    "    return chi2, p, dof, expected, contingency_table\n",
    "chi2, p_value, dof, expected, contingency_table = chi_squared_test(df)"
   ]
  },
  {
   "cell_type": "markdown",
   "metadata": {},
   "source": [
    "The Chi-Squared test shows a strong relationship between survey type and area of seas, with a Chi² value of 3762.88 and a p-value of 0.0000. \n",
    "\n",
    "Since the p-value is very small (less than 0.05), we can confidently say that the two variables are not independent. \n",
    "\n",
    "This means that the type of survey conducted varies depending on the sea area. The expected frequencies help us see how different the actual data is from what we would expect if there was no relationship. \n",
    "\n",
    "However, while this tells us there is a connection, it does not show how strong it is, which is where Cramér’s V can help."
   ]
  },
  {
   "cell_type": "markdown",
   "metadata": {},
   "source": [
    "#### Cramers V"
   ]
  },
  {
   "cell_type": "markdown",
   "metadata": {},
   "source": [
    "Cramér’s V is a statistical test used to measure the strength of the relationship between two categorical variables. \n",
    "\n",
    "It gives a value between 0 and 1, where 0 means no association and 1 means a very strong association. Unlike the Chi-Squared test, which only tells us if a relationship exists, Cramér’s V helps us understand how strong that relationship is.\n",
    "\n",
    "It is especially useful when dealing with large datasets where a Chi-Squared test might show significance just because of the large sample size. \n",
    "\n",
    "By calculating Cramér’s V, we can better interpret whether the connection between survey type and area of seas is weak, moderate, or strong."
   ]
  },
  {
   "cell_type": "code",
   "execution_count": 20,
   "metadata": {},
   "outputs": [
    {
     "name": "stdout",
     "output_type": "stream",
     "text": [
      "Cramer's V: 0.5396501996868714\n"
     ]
    }
   ],
   "source": [
    "def cramers_v(chi2_stats, n, contingency_tb):\n",
    "    \"\"\"\n",
    "    This function calculates Cramer's V statistic for a chi-squared test of independence.\n",
    "\n",
    "    Args: chi2_stats: The chi-squared statistic.\n",
    "            n: The total number of observations.\n",
    "            contingency_tb: The contingency table.\n",
    "\n",
    "    Returns: The Cramer's V statistic.\n",
    "    \"\"\"\n",
    "    # Step 1: Minimum of the number of rows and columns in the contingency table\n",
    "    minimum_dimensions= min(contingency_tb.shape) - 1\n",
    "\n",
    "    # Step 2: Calculate Cramer's V\n",
    "    cramer_v = np.sqrt(chi2_stats / (n * minimum_dimensions))\n",
    "    return cramer_v\n",
    "\n",
    "# calculate Cramer's V\n",
    "contigency_table = pd.crosstab(df['survey'], df['area'])\n",
    "n = contingency_table.sum().sum()\n",
    "\n",
    "cramers_v_val = cramers_v(chi2, n, contingency_table)\n",
    "print(f\"Cramer's V: {cramers_v_val}\")"
   ]
  },
  {
   "cell_type": "markdown",
   "metadata": {},
   "source": [
    "The Cramér's V value of 0.54 indicates a moderate strength of this relationship, suggesting a noticeable connection but not an extremely strong one. Furhter analysis will need to be conducted to assess this."
   ]
  },
  {
   "cell_type": "markdown",
   "metadata": {},
   "source": [
    "# Section 2 : Univariate Analysis"
   ]
  },
  {
   "cell_type": "markdown",
   "metadata": {},
   "source": [
    "### 2.1 Intro to Univariate Analysis"
   ]
  },
  {
   "cell_type": "markdown",
   "metadata": {},
   "source": [
    "Univariate analysis focuses on examining a single variable to understand its distribution, central tendency, and spread. It’s an essential first step in data analysis. Tools like histograms, box plots, and density plots help us visualise the data’s structure, showing the frequency, range, and distribution. This allows for a clearer understanding before moving on to more complex analyses."
   ]
  },
  {
   "cell_type": "markdown",
   "metadata": {},
   "source": [
    "### 2.2 Analysis of Numerical Values"
   ]
  },
  {
   "cell_type": "markdown",
   "metadata": {},
   "source": [
    "#### 2.2.1 Histograms"
   ]
  },
  {
   "cell_type": "markdown",
   "metadata": {},
   "source": [
    "We are importing Matplotlib's pyplot for creating histograms and box plots, and Seaborn for enhanced visualisation of distributions and density plots."
   ]
  },
  {
   "cell_type": "code",
   "execution_count": 21,
   "metadata": {},
   "outputs": [],
   "source": [
    "import matplotlib.pyplot as plt\n",
    "import seaborn as sns "
   ]
  },
  {
   "cell_type": "markdown",
   "metadata": {},
   "source": [
    "---"
   ]
  },
  {
   "cell_type": "markdown",
   "metadata": {},
   "source": [
    "`DISTANCE`"
   ]
  },
  {
   "cell_type": "markdown",
   "metadata": {},
   "source": [
    "**Distance Distribution - including 0 values**"
   ]
  },
  {
   "cell_type": "code",
   "execution_count": 22,
   "metadata": {},
   "outputs": [
    {
     "data": {
      "image/png": "[encoded data removed]",
      "text/plain": [
       "<Figure size 1000x600 with 1 Axes>"
      ]
     },
     "metadata": {},
     "output_type": "display_data"
    }
   ],
   "source": [
    "median_dist = np.median(df['distance'])\n",
    "mean_dist = np.mean(df['distance'])\n",
    "\n",
    "plt.style.use('dark_background')\n",
    "plt.figure(figsize=(10,6))\n",
    "\n",
    "sns.histplot(df['distance'], color=\"blue\", edgecolor='white')\n",
    "\n",
    "plt.title('Distribution of Distances', fontsize=16, color='white')\n",
    "plt.xlabel('Distance', fontsize=12, color='white') # Label x axis\n",
    "plt.ylabel('Frequency', fontsize=12, color='white')\n",
    "\n",
    "# soft grid for slightly easier reading\n",
    "plt.grid(axis='y', linestyle='--', alpha=0.3)\n",
    "plt.show()"
   ]
  },
  {
   "cell_type": "markdown",
   "metadata": {},
   "source": [
    "The histogram shows a high peak at 0, meaning there are a lot of zero values in the data. After that, most of the distances seem to be concentrated around 4000. We didn’t remove the zero values because they might represent instances where the net was stationary or no distance was recorded during the survey. However, to get a clearer picture, we will create another visualisation excluding the zero values."
   ]
  },
  {
   "cell_type": "markdown",
   "metadata": {},
   "source": [
    "**Distance Distribution - excluding 0 values**"
   ]
  },
  {
   "cell_type": "code",
   "execution_count": 23,
   "metadata": {},
   "outputs": [
    {
     "data": {
      "image/png": "[encoded data removed]",
      "text/plain": [
       "<Figure size 1000x600 with 1 Axes>"
      ]
     },
     "metadata": {},
     "output_type": "display_data"
    }
   ],
   "source": [
    "plt.style.use(\"dark_background\")\n",
    "plt.figure(figsize=(10,6))\n",
    "\n",
    "# filter dataset for non-zero values\n",
    "non_zero_distances = df[df['distance']>0]['distance']\n",
    "sns.histplot(non_zero_distances, bins=20, color=\"blue\", edgecolor='white')\n",
    "\n",
    "# titles and labels\n",
    "plt.title('Distribution of Distances', fontsize=16, color='white')\n",
    "plt.xlabel('Distance', fontsize=12, color='white') # Label x axis\n",
    "plt.ylabel('Frequency', fontsize=12, color='white')\n",
    "\n",
    "# soft grid for slightly easier reading\n",
    "plt.grid(axis='y', linestyle='--', alpha=0.3)\n",
    "\n",
    "# annotations\n",
    "plt.axvline(median_dist, color='red', linestyle='--', linewidth=2, label='Median')\n",
    "plt.axvline(mean_dist, color='green', linestyle='--', linewidth=2, label = 'Mean')\n",
    "\n",
    "plt.legend(loc='upper right', fontsize=12)\n",
    "\n",
    "plt.show()"
   ]
  },
  {
   "cell_type": "markdown",
   "metadata": {},
   "source": [
    "The non-zero distance histogram shows most values concentrated around the 3000-400 range. The data is skewed to the right, with extreme outliers around 8000-12000."
   ]
  },
  {
   "cell_type": "markdown",
   "metadata": {},
   "source": [
    "**Logarithmic Scaling on Frequency Axis**"
   ]
  },
  {
   "cell_type": "markdown",
   "metadata": {},
   "source": [
    "In order to compare smaller frequencies, the log y scale was used because it compresses the large differences in frequency. This makes it easier to see and compare smaller values that might otherwise be hidden by much larger ones."
   ]
  },
  {
   "cell_type": "code",
   "execution_count": 24,
   "metadata": {},
   "outputs": [
    {
     "data": {
      "image/png": "[encoded data removed]",
      "text/plain": [
       "<Figure size 1000x600 with 1 Axes>"
      ]
     },
     "metadata": {},
     "output_type": "display_data"
    }
   ],
   "source": [
    "plt.style.use(\"dark_background\")\n",
    "plt.figure(figsize=(10,6))\n",
    "\n",
    "# filter dataset for non-zero values\n",
    "non_zero_distances = df[df['distance']>0]['distance']\n",
    "sns.histplot(non_zero_distances, bins=20, color=\"blue\", edgecolor='white')\n",
    "\n",
    "# titles and labels\n",
    "plt.title('Distribution of Distances (log scale)', fontsize=16, color='white')\n",
    "plt.xlabel('Distance', fontsize=12, color='white') # Label x axis\n",
    "plt.ylabel('Frequency', fontsize=12, color='white')\n",
    "\n",
    "# soft grid for slightly easier reading\n",
    "plt.grid(axis='y', linestyle='--', alpha=0.3)\n",
    "\n",
    "# apply log scale\n",
    "plt.yscale('log')\n",
    "\n",
    "# annotations\n",
    "plt.axvline(median_dist, color='red', linestyle='--', linewidth=2, label='Median')\n",
    "plt.axvline(mean_dist, color='green', linestyle='--', linewidth=2, label = 'Mean')\n",
    "\n",
    "plt.legend(loc='upper right', fontsize=12)\n",
    "\n",
    "plt.show()"
   ]
  },
  {
   "cell_type": "markdown",
   "metadata": {},
   "source": [
    "The log scale helps visualise the variation, showing that shorter trawls (3000-4000km) are more common, but longer ones (8000-12000) still occur occasionally."
   ]
  },
  {
   "cell_type": "markdown",
   "metadata": {},
   "source": [
    "---"
   ]
  },
  {
   "cell_type": "markdown",
   "metadata": {},
   "source": [
    "`TOTAL LITTER`"
   ]
  },
  {
   "cell_type": "markdown",
   "metadata": {},
   "source": [
    "**Total Litter Count Distribution**"
   ]
  },
  {
   "cell_type": "code",
   "execution_count": 25,
   "metadata": {},
   "outputs": [
    {
     "data": {
      "image/png": "[encoded data removed]",
      "text/plain": [
       "<Figure size 1000x600 with 1 Axes>"
      ]
     },
     "metadata": {},
     "output_type": "display_data"
    }
   ],
   "source": [
    "plt.style.use(\"dark_background\")\n",
    "plt.figure(figsize=(10,6))\n",
    "\n",
    "# filter dataset for non-zero values\n",
    "non_zero_litter = df[df['totallitter']>0]['totallitter']\n",
    "sns.histplot(non_zero_litter, bins=10, color=\"blue\", edgecolor='white')\n",
    "\n",
    "# titles and labels\n",
    "plt.title('Distribution of Total Litter Counts', fontsize=16, color='white')\n",
    "plt.xlabel('Total Litter Counts', fontsize=12, color='white') # Label x axis\n",
    "plt.ylabel('Frequency', fontsize=12, color='white')\n",
    "\n",
    "# soft grid for slightly easier reading\n",
    "plt.grid(axis='y', linestyle='--', alpha=0.3)\n",
    "\n",
    "# annotations\n",
    "plt.axvline(median_dist, color='red', linestyle='--', linewidth=2, label='Median')\n",
    "plt.axvline(mean_dist, color='green', linestyle='--', linewidth=2, label = 'Mean')\n",
    "plt.yscale('log')\n",
    "plt.legend(loc='upper right', fontsize=12)\n",
    "plt.show()"
   ]
  },
  {
   "cell_type": "markdown",
   "metadata": {},
   "source": [
    "This graph shows an incredibly wide distribution of litter counts. It is evident that the majority of data is clustered towards the lower count range (close to 0), therefore to see more detail, a limited range of the graph concentrating on these areas will need to be inspected"
   ]
  },
  {
   "cell_type": "markdown",
   "metadata": {},
   "source": [
    "**Total Litter Count Distribution - 0 to 10 range**"
   ]
  },
  {
   "cell_type": "code",
   "execution_count": 26,
   "metadata": {},
   "outputs": [
    {
     "data": {
      "image/png": "[encoded data removed]",
      "text/plain": [
       "<Figure size 1200x600 with 1 Axes>"
      ]
     },
     "metadata": {},
     "output_type": "display_data"
    }
   ],
   "source": [
    "plt.style.use(\"dark_background\")\n",
    "plt.figure(figsize=(12,6))\n",
    "\n",
    "sns.histplot(non_zero_litter, bins=250, color=\"blue\", edgecolor='white', linewidth=2)\n",
    "\n",
    "# titles and labels\n",
    "plt.title('Distribution of Total Litter Counts (0-10 Count Range)', fontsize=16, color='white')\n",
    "plt.xlabel('Total Litter Counts', fontsize=12, color='white') # Label x axis\n",
    "plt.ylabel('Frequency', fontsize=12, color='white')\n",
    "\n",
    "# focus on 0-10 range\n",
    "plt.xlim(0,10) \n",
    "\n",
    "# soft grid for slightly easier reading\n",
    "plt.grid(axis='y', linestyle='--', alpha=0.3)\n",
    "\n",
    "plt.show()"
   ]
  },
  {
   "cell_type": "markdown",
   "metadata": {},
   "source": [
    "As shown in the above graph, the  majority of litter counts are between the 1-4 count range. Therefore, this range will be further examined in greater detail."
   ]
  },
  {
   "cell_type": "markdown",
   "metadata": {},
   "source": [
    "**Total Litter Count Distribution - 0 to 4 range**"
   ]
  },
  {
   "cell_type": "code",
   "execution_count": 27,
   "metadata": {},
   "outputs": [
    {
     "data": {
      "image/png": "[encoded data removed]",
      "text/plain": [
       "<Figure size 1200x600 with 1 Axes>"
      ]
     },
     "metadata": {},
     "output_type": "display_data"
    }
   ],
   "source": [
    "plt.style.use(\"dark_background\")\n",
    "plt.figure(figsize=(12,6))\n",
    "\n",
    "sns.histplot(non_zero_litter, bins=400, color=\"blue\", edgecolor='white', linewidth=2)\n",
    "\n",
    "# titles and labels\n",
    "plt.title('Distribution of Total Litter Counts (0-4 Count Range)', fontsize=16, color='white')\n",
    "plt.xlabel('Total Litter Counts', fontsize=12, color='white') # Label x axis\n",
    "plt.ylabel('Frequency', fontsize=12, color='white')\n",
    "\n",
    "# focus on 0-4 range\n",
    "plt.xlim(0,4) \n",
    "\n",
    "# soft grid for slightly easier reading\n",
    "plt.grid(axis='y', linestyle='--', alpha=0.3)\n",
    "\n",
    "plt.show()"
   ]
  },
  {
   "cell_type": "markdown",
   "metadata": {},
   "source": [
    "With 400 bins, the data reveals a heavy concentration of litter counts per item between 1.0 and 2.0, which suggests that very low counts per item are the most common."
   ]
  },
  {
   "cell_type": "markdown",
   "metadata": {},
   "source": [
    "#### 2.2.2 Boxplots"
   ]
  },
  {
   "cell_type": "markdown",
   "metadata": {},
   "source": [
    "As part of the initial data exploration in Notebook 1, box plots were created for the 'distance' and 'total litter' variables. These plots helped identify and visualise the spread of the data, as well as any values that deviated significantly from the typical range, indicating potential outliers."
   ]
  },
  {
   "cell_type": "markdown",
   "metadata": {},
   "source": [
    "#### 2.2.3 Density Plots"
   ]
  },
  {
   "cell_type": "markdown",
   "metadata": {},
   "source": [
    "Density plots provide a visual representation of the distribution of a dataset. They are similar to histograms, but they provide a smoother representation of the data. The density plot below shows the distribution of the 'distance' column in the dataset. Furthermore, the inclusion of a Kernel Density Estimation (KDE) line allows for a smoothed estimation of the underlying probability distribution.\n"
   ]
  },
  {
   "cell_type": "markdown",
   "metadata": {},
   "source": [
    "`DISTANCE`"
   ]
  },
  {
   "cell_type": "code",
   "execution_count": 28,
   "metadata": {},
   "outputs": [
    {
     "data": {
      "image/png": "[encoded data removed]",
      "text/plain": [
       "<Figure size 1000x600 with 1 Axes>"
      ]
     },
     "metadata": {},
     "output_type": "display_data"
    }
   ],
   "source": [
    "plt.style.use(\"dark_background\")  # Set the dark background\n",
    "\n",
    "# Density plot for distance\n",
    "plt.figure(figsize=(10, 6))  \n",
    "sns.kdeplot(df['distance'], color='red', fill=True, linewidth=2, edgecolor='white')\n",
    "plt.title('Density Plot of Distance', fontsize=16, color='white')\n",
    "plt.xlabel('Distance', fontsize=12, color='white')\n",
    "plt.ylabel('Density', fontsize=12, color='white')\n",
    "plt.grid(axis='y', linestyle='--', alpha=0.3)\n",
    "plt.show()"
   ]
  },
  {
   "cell_type": "markdown",
   "metadata": {},
   "source": [
    "The density plot of survey distances shows two peaks, one near 0 and another around 4000. Unlike a histogram, which uses bars and can be affected by bin size, the density plot provides a smooth curve that makes it easier to spot patterns. Here, it shows two groups: one close to the starting point (0) and another further away at 4000. This gives a clearer view of the data's shape."
   ]
  },
  {
   "cell_type": "markdown",
   "metadata": {},
   "source": [
    "**KDE: Zoom into 2000-6000**"
   ]
  },
  {
   "cell_type": "code",
   "execution_count": 29,
   "metadata": {},
   "outputs": [
    {
     "data": {
      "image/png": "[encoded data removed]",
      "text/plain": [
       "<Figure size 1000x600 with 1 Axes>"
      ]
     },
     "metadata": {},
     "output_type": "display_data"
    }
   ],
   "source": [
    "plt.style.use(\"dark_background\")  # Set the dark background\n",
    "\n",
    "# Density plot for distance\n",
    "plt.figure(figsize=(10, 6))\n",
    "sns.kdeplot(df['distance'], color='red', fill=True, linewidth=2, edgecolor='white')\n",
    "\n",
    "# Zoom in on the x-axis\n",
    "plt.xlim(2000, 6000)  # Set the x-axis limits\n",
    "\n",
    "plt.title('Density Plot of Distance (Range: 2000-6000)', fontsize=16, color='white')\n",
    "plt.xlabel('Distance', fontsize=12, color='white')\n",
    "plt.ylabel('Density', fontsize=12, color='white')\n",
    "plt.grid(axis='y', linestyle='--', alpha=0.3)\n",
    "plt.show()"
   ]
  },
  {
   "cell_type": "markdown",
   "metadata": {},
   "source": [
    "The zoomed-in KDE plot between 2000 and 6000 shows a peak between 3500 and 4000, with the highest point closer to 4000. This suggests that most of the survey distances in this range are concentrated around 4000, with fewer observations as you move away from that value. The smooth curve makes it clear that there is a strong concentration of data near 4000."
   ]
  },
  {
   "cell_type": "markdown",
   "metadata": {},
   "source": [
    "`TOTAL LITTER`"
   ]
  },
  {
   "cell_type": "code",
   "execution_count": 30,
   "metadata": {},
   "outputs": [
    {
     "data": {
      "image/png": "[encoded data removed]",
      "text/plain": [
       "<Figure size 1000x600 with 1 Axes>"
      ]
     },
     "metadata": {},
     "output_type": "display_data"
    }
   ],
   "source": [
    "# Density plot for total litter\n",
    "plt.figure(figsize=(10, 6))\n",
    "sns.kdeplot(df['totallitter'], color='cyan', fill=True, linewidth=2, edgecolor='white')\n",
    "plt.title('Density Plot of Total Litter', fontsize=16, color='white')\n",
    "plt.xlabel('Total Litter', fontsize=12, color='white')\n",
    "plt.ylabel('Density', fontsize=12, color='white')\n",
    "plt.grid(axis='y', linestyle='--', alpha=0.3)\n",
    "plt.show()"
   ]
  },
  {
   "cell_type": "markdown",
   "metadata": {},
   "source": [
    "The total litter data, similar to the histogram analysis, benefits from zooming into specific ranges. For example, focusing on the 0-10 range provides a clearer view of the data's distribution in this area."
   ]
  },
  {
   "cell_type": "code",
   "execution_count": 31,
   "metadata": {},
   "outputs": [
    {
     "data": {
      "image/png": "[encoded data removed]",
      "text/plain": [
       "<Figure size 1000x600 with 1 Axes>"
      ]
     },
     "metadata": {},
     "output_type": "display_data"
    }
   ],
   "source": [
    "plt.style.use(\"dark_background\")  # Set the dark background# Density plot for total litter\n",
    "\n",
    "plt.figure(figsize=(10, 6))\n",
    "sns.kdeplot(df['totallitter'], color='cyan', fill=True, linewidth=2, edgecolor='white') # Zoom in on the x-axis\n",
    "plt.xlim(0, 10)  # Set the x-axis limits\n",
    "\n",
    "plt.title('Density Plot of Total Litter (0-10 Range)', fontsize=16, color='white')\n",
    "plt.xlabel('Total Litter', fontsize=12, color='white')\n",
    "plt.ylabel('Density', fontsize=12, color='white')\n",
    "plt.grid(axis='y', linestyle='--', alpha=0.3)\n",
    "\n",
    "plt.show()"
   ]
  },
  {
   "cell_type": "markdown",
   "metadata": {},
   "source": [
    "As previously found, the KDE plot shows a peak between 0 and 2, which then tails off. This indicates that most of the data points are concentrated in this range, with fewer observations as the distance increases beyond 2."
   ]
  },
  {
   "cell_type": "markdown",
   "metadata": {},
   "source": [
    "### 2.3 Analysis of Categorical Values"
   ]
  },
  {
   "cell_type": "markdown",
   "metadata": {},
   "source": [
    "**2.3.1 Bar charts & Pie Charts**"
   ]
  },
  {
   "cell_type": "markdown",
   "metadata": {},
   "source": [
    "`Area`"
   ]
  },
  {
   "cell_type": "markdown",
   "metadata": {},
   "source": [
    "In this section, visualisations aim to show the most prevalent areas of survey data points."
   ]
  },
  {
   "cell_type": "code",
   "execution_count": 32,
   "metadata": {},
   "outputs": [
    {
     "data": {
      "image/png": "[encoded data removed]",
      "text/plain": [
       "<Figure size 1600x600 with 2 Axes>"
      ]
     },
     "metadata": {},
     "output_type": "display_data"
    }
   ],
   "source": [
    "# Area counts\n",
    "area_counts = df['area'].value_counts()\n",
    "\n",
    "# Create figure with 2 plots side by side\n",
    "fig, (ax1, ax2) = plt.subplots(1, 2, figsize=(16, 6))\n",
    "\n",
    "# Plot 1: Bar plot of areas\n",
    "sns.barplot(x=area_counts.index, y=area_counts.values, ax=ax1, hue=area_counts.index, palette='viridis')\n",
    "ax1.grid(axis='y', linestyle='--', alpha=0.3)\n",
    "ax1.set_title('Recorded Sea Categories', fontsize=16)\n",
    "ax1.set_xlabel('Area', fontsize=12)\n",
    "ax1.set_ylabel('Count', fontsize=12)\n",
    "\n",
    "# annotate the bars\n",
    "for i, v in enumerate(area_counts):\n",
    "    ax1.text(i, v + 20, str(v), color='white', ha='center')\n",
    "\n",
    "# Plot 2: Pie chart of areas\n",
    "ax2.pie(area_counts, labels=area_counts.index, autopct='%1.1f%%', startangle=140, colors=sns.color_palette('viridis', len(area_counts)))\n",
    "ax2.set_title('Recorded Sea Categories', fontsize=16)\n",
    "ax2.legend(area_counts.index, loc='upper right')\n",
    "\n",
    "\n",
    "# autopct = format the percentage into 1 decimal place\n",
    "# startangle = rotate the pie chart by 140 degrees\n",
    "\n",
    "plt.tight_layout()  \n",
    "plt.show()"
   ]
  },
  {
   "cell_type": "markdown",
   "metadata": {},
   "source": [
    "A bar chart and a pie chart were used to compare different visualisation types. The bar chart revealed that the Greater North had the highest count, followed by the Celtic region, both, and finally the unknown category. The \"unknown\" slice in the pie chart was too small to be easily visible, which is why the bar chart was preferred for a clearer comparison."
   ]
  },
  {
   "cell_type": "markdown",
   "metadata": {},
   "source": [
    "`Survey`"
   ]
  },
  {
   "cell_type": "markdown",
   "metadata": {},
   "source": [
    "In this section, visualisations aim to show the count of each distinct survey conducted."
   ]
  },
  {
   "cell_type": "code",
   "execution_count": 33,
   "metadata": {},
   "outputs": [
    {
     "data": {
      "image/png": "[encoded data removed]",
      "text/plain": [
       "<Figure size 1600x600 with 2 Axes>"
      ]
     },
     "metadata": {},
     "output_type": "display_data"
    }
   ],
   "source": [
    "# Area counts\n",
    "survey_counts = df['survey'].value_counts()\n",
    "\n",
    "# Create figure with 2 plots side by side\n",
    "fig, (ax1, ax2) = plt.subplots(1, 2, figsize=(16, 6))\n",
    "\n",
    "# Plot 1: Bar plot of areas\n",
    "ax1.grid(axis='y', linestyle='--', alpha=0.3, zorder=1)\n",
    "sns.barplot(x=survey_counts.index, y=survey_counts.values, ax=ax1, hue=survey_counts.index, palette='inferno')\n",
    "ax1.set_title('Recorded Sea Categories', fontsize=16)\n",
    "ax1.set_xlabel('Surveys', fontsize=12)\n",
    "ax1.set_ylabel('Count', fontsize=12)\n",
    "\n",
    "ax1.set_xticks(ax1.get_xticks())  # Get current ticks\n",
    "ax1.set_xticklabels(ax1.get_xticklabels(), rotation=45)  # Rotate the labels\n",
    "\n",
    "# annotate the bars\n",
    "for i, v in enumerate(survey_counts):\n",
    "    ax1.text(i, v + 20, str(v), color='white', ha='center')\n",
    "\n",
    "# Plot 2: Pie chart of areas\n",
    "ax2.pie(survey_counts, labels=survey_counts.index, autopct='%1.1f%%', startangle=140, colors=sns.color_palette('inferno', len(survey_counts)))\n",
    "ax2.set_title('Recorded Survey Categories', fontsize=16)\n",
    "ax2.legend(survey_counts.index, loc='lower left', bbox_to_anchor=(-0.3, -0.4))\n",
    "\n",
    "\n",
    "# autopct = format the percentage into 1 decimal place\n",
    "# startangle = rotate the pie chart by 140 degrees\n",
    "\n",
    "plt.tight_layout()  \n",
    "plt.show()"
   ]
  },
  {
   "cell_type": "markdown",
   "metadata": {},
   "source": [
    "The highest counts were observed in the IBTS survey, while the lowest counts were found in the MEMFISH survey. The surveys 'CSEMP', '7DBTS', 'NWGFS', 'Q1SW_with Blinder', and 'Q1SW_No Blinder' all showed similar proportions within the dataset, indicating a comparable distribution across these surveys."
   ]
  },
  {
   "cell_type": "markdown",
   "metadata": {},
   "source": [
    "`Litter Categories`"
   ]
  },
  {
   "cell_type": "markdown",
   "metadata": {},
   "source": [
    "The distribution of litter across various material categories was visualised using a bar chart. This visualisation was chosen as it allows for a clear comparison of the total counts for each category, enabling the identification of dominant and less prevalent litter types."
   ]
  },
  {
   "cell_type": "code",
   "execution_count": 34,
   "metadata": {},
   "outputs": [
    {
     "data": {
      "image/png": "[encoded data removed]",
      "text/plain": [
       "<Figure size 1200x600 with 1 Axes>"
      ]
     },
     "metadata": {},
     "output_type": "display_data"
    }
   ],
   "source": [
    "# Create the bar plot\n",
    "plt.figure(figsize=(12, 6))\n",
    "sns.barplot(x='category', y='count', hue='category', data=df_alltime, palette='hls')\n",
    "\n",
    "# Add title and labels\n",
    "plt.title('Total Litter Counts by Category (all-time)', fontsize=16)\n",
    "plt.xlabel('Category', fontsize=12)\n",
    "plt.ylabel('Total Litter Count', fontsize=12)\n",
    "\n",
    "# Add number annotations\n",
    "for i, v in enumerate(df_alltime['count']):\n",
    "    plt.text(i, v + 30, str(v), color='white', ha='center')\n",
    "\n",
    "# Add gridlines\n",
    "plt.grid(axis='y', linestyle='--', alpha=0.3)\n",
    "\n",
    "plt.tight_layout()\n",
    "plt.show()"
   ]
  },
  {
   "cell_type": "markdown",
   "metadata": {},
   "source": [
    "The chart effectively demonstrates a notable difference in the counts of each category, with plastic materials showing a significantly higher count than all other materials. Conversely, glass items were observed to have a comparatively low count, indicating a lesser presence within the surveyed environment."
   ]
  },
  {
   "cell_type": "markdown",
   "metadata": {},
   "source": [
    "The bar chart showed us that plastic is by far the most common litter item. Because the plastic category dominates, the other litter types look very small on the chart. To see how these other litter types compare to each other more clearly, we will use a lollipop chart. This will help us understand their relative amounts better, excluding plastic."
   ]
  },
  {
   "cell_type": "code",
   "execution_count": 35,
   "metadata": {},
   "outputs": [
    {
     "data": {
      "image/png": "[encoded data removed]",
      "text/plain": [
       "<Figure size 1200x600 with 1 Axes>"
      ]
     },
     "metadata": {},
     "output_type": "display_data"
    }
   ],
   "source": [
    "non_plastic = df_alltime[df_alltime['category'] != 'Plastic']\n",
    "\n",
    "plt.figure(figsize=(12, 6))\n",
    "\n",
    "palette = sns.color_palette('viridis', n_colors=len(non_plastic))\n",
    "\n",
    "for i, (cat, count) in enumerate(zip(non_plastic['category'], non_plastic['count'])):\n",
    "    plt.hlines(y=cat, xmin=0, xmax=count, color=palette[i])\n",
    "    plt.plot(count, cat, \"o\", color=palette[i])\n",
    "\n",
    "plt.yticks(non_plastic['category'], non_plastic['category'], fontsize=12) # Use category names\n",
    "\n",
    "plt.title('Litter Counts (No Plastic)', fontsize=12)\n",
    "plt.xlabel('Count', fontsize=12)\n",
    "plt.ylabel('Category', fontsize=12)\n",
    "\n",
    "for i, v in enumerate(non_plastic['count']):\n",
    "    plt.text(v + 10, non_plastic['category'].iloc[i], str(v), color='white', va='center', fontsize = 12)\n",
    "\n",
    "plt.grid(axis='x', linestyle='--', alpha=0.3)\n",
    "\n",
    "plt.tight_layout()\n",
    "plt.show()"
   ]
  },
  {
   "cell_type": "markdown",
   "metadata": {},
   "source": [
    " Cxcluding plastic items, this lolipop chart reveals a diverse composition of marine litter. Wood and paper items were the most prevalent, indicating a significant influx of naturally derived materials to the seafloor. Metal and rubber were also abundant, likely due to their density and potential sources such as lost fishing gear and vehicle debris. Glass items were notably less frequent. Clothing and miscellaneous items were moderately represented."
   ]
  },
  {
   "cell_type": "markdown",
   "metadata": {},
   "source": [
    "### 2.4 Visualisation Insights & Evaluation"
   ]
  },
  {
   "cell_type": "markdown",
   "metadata": {},
   "source": [
    "* The histogram shows that most surveys recorded low or no litter, with a few extreme values indicating significant litter accumulation.\n",
    "\n",
    "* The scatter plot reveals the geographical spread of surveys, highlighting areas with higher survey activity.\n",
    "\n",
    "* Different methods of visualisations were compared to determine the most effective representations of the data.\n",
    "\n",
    "* Pie charts were not effective because small sections were barely visible, making it difficult to distinguish between categories. Additionally, they do not allow for easy comparison of exact differences in values, unlike bar charts, which provide clearer visual distinctions.\n",
    "\n",
    "* Plastic was identified as an extremely dominant litter type, followed by wood and paper."
   ]
  },
  {
   "cell_type": "markdown",
   "metadata": {},
   "source": [
    "# Section 3 : Multivariate Analysis"
   ]
  },
  {
   "cell_type": "markdown",
   "metadata": {},
   "source": [
    "### 3.1 Intro to Multivariate Analysis"
   ]
  },
  {
   "cell_type": "markdown",
   "metadata": {},
   "source": [
    "Multivariate visualisations display relationships between multiple variables, helping to identify patterns, correlations, and interactions. Techniques like scatter plots, heatmaps, and pair plots provide insights into how variables influence each other, offering a deeper understanding of the data beyond individual distributions."
   ]
  },
  {
   "cell_type": "markdown",
   "metadata": {},
   "source": [
    "### 3.2 Categorical vs. Categorical"
   ]
  },
  {
   "cell_type": "markdown",
   "metadata": {},
   "source": [
    "`Areas vs Survey`"
   ]
  },
  {
   "cell_type": "markdown",
   "metadata": {},
   "source": [
    "One of the ways to compare two categorical variables is using a stacked bar chart. It allows for the simultaneous display of total counts and the proportion of sea's trawled within each survey."
   ]
  },
  {
   "cell_type": "code",
   "execution_count": 46,
   "metadata": {},
   "outputs": [
    {
     "data": {
      "application/vnd.plotly.v1+json": {
       "config": {
        "plotlyServerURL": "https://plot.ly"
       },
       "data": [
        {
         "alignmentgroup": "True",
         "hovertemplate": "Area=Greater North Sea<br>Survey=%{x}<br>count=%{y}<extra></extra>",
         "legendgroup": "Greater North Sea",
         "marker": {
          "color": "#636efa",
          "pattern": {
           "shape": ""
          }
         },
         "name": "Greater North Sea",
         "offsetgroup": "Greater North Sea",
         "orientation": "v",
         "showlegend": true,
         "textposition": "auto",
         "type": "bar",
         "x": [
          "7DBTS",
          "CSEMP",
          "IBTS",
          "NWGFS",
          "Q1SW",
          "Q1SW_No Blinder",
          "Q1SW_with Blinder",
          "Q4SW"
         ],
         "xaxis": "x",
         "y": [
          444,
          207,
          1495,
          1,
          14,
          29,
          48,
          3
         ],
         "yaxis": "y"
        },
        {
         "alignmentgroup": "True",
         "hovertemplate": "Area=Celtic Seas<br>Survey=%{x}<br>count=%{y}<extra></extra>",
         "legendgroup": "Celtic Seas",
         "marker": {
          "color": "#EF553B",
          "pattern": {
           "shape": ""
          }
         },
         "name": "Celtic Seas",
         "offsetgroup": "Celtic Seas",
         "orientation": "v",
         "showlegend": true,
         "textposition": "auto",
         "type": "bar",
         "x": [
          "CSEMP",
          "IBTS",
          "MEMFISH",
          "NWGFS",
          "Q1SW",
          "Q1SW_No Blinder",
          "Q1SW_with Blinder",
          "Q4SW"
         ],
         "xaxis": "x",
         "y": [
          158,
          80,
          95,
          565,
          124,
          302,
          372,
          217
         ],
         "yaxis": "y"
        },
        {
         "alignmentgroup": "True",
         "hovertemplate": "Area=Celtic Seas, Greater North Sea<br>Survey=%{x}<br>count=%{y}<extra></extra>",
         "legendgroup": "Celtic Seas, Greater North Sea",
         "marker": {
          "color": "#00cc96",
          "pattern": {
           "shape": ""
          }
         },
         "name": "Celtic Seas, Greater North Sea",
         "offsetgroup": "Celtic Seas, Greater North Sea",
         "orientation": "v",
         "showlegend": true,
         "textposition": "auto",
         "type": "bar",
         "x": [
          "Q1SW_No Blinder",
          "Q1SW_with Blinder"
         ],
         "xaxis": "x",
         "y": [
          72,
          71
         ],
         "yaxis": "y"
        },
        {
         "alignmentgroup": "True",
         "hovertemplate": "Area=Unknown<br>Survey=%{x}<br>count=%{y}<extra></extra>",
         "legendgroup": "Unknown",
         "marker": {
          "color": "#ab63fa",
          "pattern": {
           "shape": ""
          }
         },
         "name": "Unknown",
         "offsetgroup": "Unknown",
         "orientation": "v",
         "showlegend": true,
         "textposition": "auto",
         "type": "bar",
         "x": [
          "Q1SW_No Blinder",
          "Q1SW_with Blinder"
         ],
         "xaxis": "x",
         "y": [
          5,
          5
         ],
         "yaxis": "y"
        }
       ],
       "layout": {
        "barmode": "stack",
        "font": {
         "color": "white"
        },
        "legend": {
         "title": {
          "text": "Area"
         },
         "tracegroupgap": 0
        },
        "paper_bgcolor": "black",
        "plot_bgcolor": "black",
        "template": {
         "data": {
          "bar": [
           {
            "error_x": {
             "color": "#2a3f5f"
            },
            "error_y": {
             "color": "#2a3f5f"
            },
            "marker": {
             "line": {
              "color": "#E5ECF6",
              "width": 0.5
             },
             "pattern": {
              "fillmode": "overlay",
              "size": 10,
              "solidity": 0.2
             }
            },
            "type": "bar"
           }
          ],
          "barpolar": [
           {
            "marker": {
             "line": {
              "color": "#E5ECF6",
              "width": 0.5
             },
             "pattern": {
              "fillmode": "overlay",
              "size": 10,
              "solidity": 0.2
             }
            },
            "type": "barpolar"
           }
          ],
          "carpet": [
           {
            "aaxis": {
             "endlinecolor": "#2a3f5f",
             "gridcolor": "white",
             "linecolor": "white",
             "minorgridcolor": "white",
             "startlinecolor": "#2a3f5f"
            },
            "baxis": {
             "endlinecolor": "#2a3f5f",
             "gridcolor": "white",
             "linecolor": "white",
             "minorgridcolor": "white",
             "startlinecolor": "#2a3f5f"
            },
            "type": "carpet"
           }
          ],
          "choropleth": [
           {
            "colorbar": {
             "outlinewidth": 0,
             "ticks": ""
            },
            "type": "choropleth"
           }
          ],
          "contour": [
           {
            "colorbar": {
             "outlinewidth": 0,
             "ticks": ""
            },
            "colorscale": [
             [
              0,
              "#0d0887"
             ],
             [
              0.1111111111111111,
              "#46039f"
             ],
             [
              0.2222222222222222,
              "#7201a8"
             ],
             [
              0.3333333333333333,
              "#9c179e"
             ],
             [
              0.4444444444444444,
              "#bd3786"
             ],
             [
              0.5555555555555556,
              "#d8576b"
             ],
             [
              0.6666666666666666,
              "#ed7953"
             ],
             [
              0.7777777777777778,
              "#fb9f3a"
             ],
             [
              0.8888888888888888,
              "#fdca26"
             ],
             [
              1,
              "#f0f921"
             ]
            ],
            "type": "contour"
           }
          ],
          "contourcarpet": [
           {
            "colorbar": {
             "outlinewidth": 0,
             "ticks": ""
            },
            "type": "contourcarpet"
           }
          ],
          "heatmap": [
           {
            "colorbar": {
             "outlinewidth": 0,
             "ticks": ""
            },
            "colorscale": [
             [
              0,
              "#0d0887"
             ],
             [
              0.1111111111111111,
              "#46039f"
             ],
             [
              0.2222222222222222,
              "#7201a8"
             ],
             [
              0.3333333333333333,
              "#9c179e"
             ],
             [
              0.4444444444444444,
              "#bd3786"
             ],
             [
              0.5555555555555556,
              "#d8576b"
             ],
             [
              0.6666666666666666,
              "#ed7953"
             ],
             [
              0.7777777777777778,
              "#fb9f3a"
             ],
             [
              0.8888888888888888,
              "#fdca26"
             ],
             [
              1,
              "#f0f921"
             ]
            ],
            "type": "heatmap"
           }
          ],
          "heatmapgl": [
           {
            "colorbar": {
             "outlinewidth": 0,
             "ticks": ""
            },
            "colorscale": [
             [
              0,
              "#0d0887"
             ],
             [
              0.1111111111111111,
              "#46039f"
             ],
             [
              0.2222222222222222,
              "#7201a8"
             ],
             [
              0.3333333333333333,
              "#9c179e"
             ],
             [
              0.4444444444444444,
              "#bd3786"
             ],
             [
              0.5555555555555556,
              "#d8576b"
             ],
             [
              0.6666666666666666,
              "#ed7953"
             ],
             [
              0.7777777777777778,
              "#fb9f3a"
             ],
             [
              0.8888888888888888,
              "#fdca26"
             ],
             [
              1,
              "#f0f921"
             ]
            ],
            "type": "heatmapgl"
           }
          ],
          "histogram": [
           {
            "marker": {
             "pattern": {
              "fillmode": "overlay",
              "size": 10,
              "solidity": 0.2
             }
            },
            "type": "histogram"
           }
          ],
          "histogram2d": [
           {
            "colorbar": {
             "outlinewidth": 0,
             "ticks": ""
            },
            "colorscale": [
             [
              0,
              "#0d0887"
             ],
             [
              0.1111111111111111,
              "#46039f"
             ],
             [
              0.2222222222222222,
              "#7201a8"
             ],
             [
              0.3333333333333333,
              "#9c179e"
             ],
             [
              0.4444444444444444,
              "#bd3786"
             ],
             [
              0.5555555555555556,
              "#d8576b"
             ],
             [
              0.6666666666666666,
              "#ed7953"
             ],
             [
              0.7777777777777778,
              "#fb9f3a"
             ],
             [
              0.8888888888888888,
              "#fdca26"
             ],
             [
              1,
              "#f0f921"
             ]
            ],
            "type": "histogram2d"
           }
          ],
          "histogram2dcontour": [
           {
            "colorbar": {
             "outlinewidth": 0,
             "ticks": ""
            },
            "colorscale": [
             [
              0,
              "#0d0887"
             ],
             [
              0.1111111111111111,
              "#46039f"
             ],
             [
              0.2222222222222222,
              "#7201a8"
             ],
             [
              0.3333333333333333,
              "#9c179e"
             ],
             [
              0.4444444444444444,
              "#bd3786"
             ],
             [
              0.5555555555555556,
              "#d8576b"
             ],
             [
              0.6666666666666666,
              "#ed7953"
             ],
             [
              0.7777777777777778,
              "#fb9f3a"
             ],
             [
              0.8888888888888888,
              "#fdca26"
             ],
             [
              1,
              "#f0f921"
             ]
            ],
            "type": "histogram2dcontour"
           }
          ],
          "mesh3d": [
           {
            "colorbar": {
             "outlinewidth": 0,
             "ticks": ""
            },
            "type": "mesh3d"
           }
          ],
          "parcoords": [
           {
            "line": {
             "colorbar": {
              "outlinewidth": 0,
              "ticks": ""
             }
            },
            "type": "parcoords"
           }
          ],
          "pie": [
           {
            "automargin": true,
            "type": "pie"
           }
          ],
          "scatter": [
           {
            "fillpattern": {
             "fillmode": "overlay",
             "size": 10,
             "solidity": 0.2
            },
            "type": "scatter"
           }
          ],
          "scatter3d": [
           {
            "line": {
             "colorbar": {
              "outlinewidth": 0,
              "ticks": ""
             }
            },
            "marker": {
             "colorbar": {
              "outlinewidth": 0,
              "ticks": ""
             }
            },
            "type": "scatter3d"
           }
          ],
          "scattercarpet": [
           {
            "marker": {
             "colorbar": {
              "outlinewidth": 0,
              "ticks": ""
             }
            },
            "type": "scattercarpet"
           }
          ],
          "scattergeo": [
           {
            "marker": {
             "colorbar": {
              "outlinewidth": 0,
              "ticks": ""
             }
            },
            "type": "scattergeo"
           }
          ],
          "scattergl": [
           {
            "marker": {
             "colorbar": {
              "outlinewidth": 0,
              "ticks": ""
             }
            },
            "type": "scattergl"
           }
          ],
          "scattermapbox": [
           {
            "marker": {
             "colorbar": {
              "outlinewidth": 0,
              "ticks": ""
             }
            },
            "type": "scattermapbox"
           }
          ],
          "scatterpolar": [
           {
            "marker": {
             "colorbar": {
              "outlinewidth": 0,
              "ticks": ""
             }
            },
            "type": "scatterpolar"
           }
          ],
          "scatterpolargl": [
           {
            "marker": {
             "colorbar": {
              "outlinewidth": 0,
              "ticks": ""
             }
            },
            "type": "scatterpolargl"
           }
          ],
          "scatterternary": [
           {
            "marker": {
             "colorbar": {
              "outlinewidth": 0,
              "ticks": ""
             }
            },
            "type": "scatterternary"
           }
          ],
          "surface": [
           {
            "colorbar": {
             "outlinewidth": 0,
             "ticks": ""
            },
            "colorscale": [
             [
              0,
              "#0d0887"
             ],
             [
              0.1111111111111111,
              "#46039f"
             ],
             [
              0.2222222222222222,
              "#7201a8"
             ],
             [
              0.3333333333333333,
              "#9c179e"
             ],
             [
              0.4444444444444444,
              "#bd3786"
             ],
             [
              0.5555555555555556,
              "#d8576b"
             ],
             [
              0.6666666666666666,
              "#ed7953"
             ],
             [
              0.7777777777777778,
              "#fb9f3a"
             ],
             [
              0.8888888888888888,
              "#fdca26"
             ],
             [
              1,
              "#f0f921"
             ]
            ],
            "type": "surface"
           }
          ],
          "table": [
           {
            "cells": {
             "fill": {
              "color": "#EBF0F8"
             },
             "line": {
              "color": "white"
             }
            },
            "header": {
             "fill": {
              "color": "#C8D4E3"
             },
             "line": {
              "color": "white"
             }
            },
            "type": "table"
           }
          ]
         },
         "layout": {
          "annotationdefaults": {
           "arrowcolor": "#2a3f5f",
           "arrowhead": 0,
           "arrowwidth": 1
          },
          "autotypenumbers": "strict",
          "coloraxis": {
           "colorbar": {
            "outlinewidth": 0,
            "ticks": ""
           }
          },
          "colorscale": {
           "diverging": [
            [
             0,
             "#8e0152"
            ],
            [
             0.1,
             "#c51b7d"
            ],
            [
             0.2,
             "#de77ae"
            ],
            [
             0.3,
             "#f1b6da"
            ],
            [
             0.4,
             "#fde0ef"
            ],
            [
             0.5,
             "#f7f7f7"
            ],
            [
             0.6,
             "#e6f5d0"
            ],
            [
             0.7,
             "#b8e186"
            ],
            [
             0.8,
             "#7fbc41"
            ],
            [
             0.9,
             "#4d9221"
            ],
            [
             1,
             "#276419"
            ]
           ],
           "sequential": [
            [
             0,
             "#0d0887"
            ],
            [
             0.1111111111111111,
             "#46039f"
            ],
            [
             0.2222222222222222,
             "#7201a8"
            ],
            [
             0.3333333333333333,
             "#9c179e"
            ],
            [
             0.4444444444444444,
             "#bd3786"
            ],
            [
             0.5555555555555556,
             "#d8576b"
            ],
            [
             0.6666666666666666,
             "#ed7953"
            ],
            [
             0.7777777777777778,
             "#fb9f3a"
            ],
            [
             0.8888888888888888,
             "#fdca26"
            ],
            [
             1,
             "#f0f921"
            ]
           ],
           "sequentialminus": [
            [
             0,
             "#0d0887"
            ],
            [
             0.1111111111111111,
             "#46039f"
            ],
            [
             0.2222222222222222,
             "#7201a8"
            ],
            [
             0.3333333333333333,
             "#9c179e"
            ],
            [
             0.4444444444444444,
             "#bd3786"
            ],
            [
             0.5555555555555556,
             "#d8576b"
            ],
            [
             0.6666666666666666,
             "#ed7953"
            ],
            [
             0.7777777777777778,
             "#fb9f3a"
            ],
            [
             0.8888888888888888,
             "#fdca26"
            ],
            [
             1,
             "#f0f921"
            ]
           ]
          },
          "colorway": [
           "#636efa",
           "#EF553B",
           "#00cc96",
           "#ab63fa",
           "#FFA15A",
           "#19d3f3",
           "#FF6692",
           "#B6E880",
           "#FF97FF",
           "#FECB52"
          ],
          "font": {
           "color": "#2a3f5f"
          },
          "geo": {
           "bgcolor": "white",
           "lakecolor": "white",
           "landcolor": "#E5ECF6",
           "showlakes": true,
           "showland": true,
           "subunitcolor": "white"
          },
          "hoverlabel": {
           "align": "left"
          },
          "hovermode": "closest",
          "mapbox": {
           "style": "light"
          },
          "paper_bgcolor": "white",
          "plot_bgcolor": "#E5ECF6",
          "polar": {
           "angularaxis": {
            "gridcolor": "white",
            "linecolor": "white",
            "ticks": ""
           },
           "bgcolor": "#E5ECF6",
           "radialaxis": {
            "gridcolor": "white",
            "linecolor": "white",
            "ticks": ""
           }
          },
          "scene": {
           "xaxis": {
            "backgroundcolor": "#E5ECF6",
            "gridcolor": "white",
            "gridwidth": 2,
            "linecolor": "white",
            "showbackground": true,
            "ticks": "",
            "zerolinecolor": "white"
           },
           "yaxis": {
            "backgroundcolor": "#E5ECF6",
            "gridcolor": "white",
            "gridwidth": 2,
            "linecolor": "white",
            "showbackground": true,
            "ticks": "",
            "zerolinecolor": "white"
           },
           "zaxis": {
            "backgroundcolor": "#E5ECF6",
            "gridcolor": "white",
            "gridwidth": 2,
            "linecolor": "white",
            "showbackground": true,
            "ticks": "",
            "zerolinecolor": "white"
           }
          },
          "shapedefaults": {
           "line": {
            "color": "#2a3f5f"
           }
          },
          "ternary": {
           "aaxis": {
            "gridcolor": "white",
            "linecolor": "white",
            "ticks": ""
           },
           "baxis": {
            "gridcolor": "white",
            "linecolor": "white",
            "ticks": ""
           },
           "bgcolor": "#E5ECF6",
           "caxis": {
            "gridcolor": "white",
            "linecolor": "white",
            "ticks": ""
           }
          },
          "title": {
           "x": 0.05
          },
          "xaxis": {
           "automargin": true,
           "gridcolor": "white",
           "linecolor": "white",
           "ticks": "",
           "title": {
            "standoff": 15
           },
           "zerolinecolor": "white",
           "zerolinewidth": 2
          },
          "yaxis": {
           "automargin": true,
           "gridcolor": "white",
           "linecolor": "white",
           "ticks": "",
           "title": {
            "standoff": 15
           },
           "zerolinecolor": "white",
           "zerolinewidth": 2
          }
         }
        },
        "title": {
         "font": {
          "color": "white"
         },
         "text": "Survey vs Area"
        },
        "xaxis": {
         "anchor": "y",
         "domain": [
          0,
          1
         ],
         "tickfont": {
          "color": "white"
         },
         "title": {
          "text": "Survey"
         }
        },
        "yaxis": {
         "anchor": "x",
         "domain": [
          0,
          1
         ],
         "linecolor": "white",
         "tickfont": {
          "color": "white"
         },
         "title": {
          "text": "count"
         }
        }
       }
      }
     },
     "metadata": {},
     "output_type": "display_data"
    }
   ],
   "source": [
    "import plotly.express as px\n",
    "df_grouped = df.groupby(['survey', 'area']).size().reset_index(name='count')\n",
    "\n",
    "# Create the stacked bar chart\n",
    "fig = px.bar(df_grouped, x='survey', y='count', color='area', \n",
    "             barmode='stack', title='Survey vs Area', labels={'survey': 'Survey', 'area': 'Area'})\n",
    "\n",
    "# Update layout for dark mode\n",
    "fig.update_layout(\n",
    "    plot_bgcolor='black',  # Background color of the plot\n",
    "    paper_bgcolor='black',  # Background color around the plot\n",
    "    font=dict(color='white'),  # Font color for the title, axis labels, etc.\n",
    "    xaxis=dict(tickfont=dict(color='white')),  # Axis tick color\n",
    "    yaxis=dict(tickfont=dict(color='white'), linecolor='white'),  # Axis tick color\n",
    "    title_font=dict(color='white')  # Title color\n",
    ")\n",
    "\n",
    "# Show the plot\n",
    "fig.show()"
   ]
  },
  {
   "cell_type": "markdown",
   "metadata": {},
   "source": [
    "The survey data reveals varying distributions across different sea regions. 7DBTS is heavily focused on the Greater North Sea. CSEMP and IBTS both show higher activity in the North Sea (207 and 1,495 records, respectively), while NWGFS and Q1SW have a stronger concentration in the Celtic Sea. Q1SW_NoBlinder and Q1SW_WithBlinder show significant data from both regions, with some entries marked as unknown. Q4SW and MEMFISH are exclusively concentrated in the Celtic Sea. Overall, the North Sea is dominant in some surveys, while others show a more balanced or Celtic Sea-focused distribution."
   ]
  },
  {
   "cell_type": "markdown",
   "metadata": {},
   "source": [
    "`Survey vs Litter Treemap`"
   ]
  },
  {
   "cell_type": "markdown",
   "metadata": {},
   "source": [
    "This visualisation code was generated by ChatGPT from given instructions. It displays the distribution of different litter categories across various surveys. The treemap shows how much each litter category contributes to each survey. Larger sections represent categories with higher counts, while smaller sections show those with fewer occurrences. It helps visualise the comparison between different surveys and the litter types recorded. Click on the survey name for an expanded view of each survey."
   ]
  },
  {
   "cell_type": "markdown",
   "metadata": {},
   "source": [
    "> Prompt: \"I need a treemap showing litter categories for each survey in my dataset. The surveys should be the main categories, with the litter types nested inside. The values should reflect the counts for each litter type. I want the treemap to be interactive, where clicking on a survey expands to show its litter categories. Please make it in dark mode with clear, readable fonts, and include a subtitle encouraging users to click on the surveys for more details.\""
   ]
  },
  {
   "cell_type": "code",
   "execution_count": 51,
   "metadata": {},
   "outputs": [
    {
     "data": {
      "application/vnd.plotly.v1+json": {
       "config": {
        "plotlyServerURL": "https://plot.ly"
       },
       "data": [
        {
         "branchvalues": "total",
         "customdata": [
          [
           "7DBTS",
           "bag",
           1.6
          ],
          [
           "CSEMP",
           "bag",
           56.18468899521531
          ],
          [
           "IBTS",
           "bag",
           1.1176470588235294
          ],
          [
           "MEMFISH",
           "bag",
           1.5
          ],
          [
           "NWGFS",
           "bag",
           1.7432432432432432
          ],
          [
           "Q1SW",
           "bag",
           1.3529411764705883
          ],
          [
           "Q1SW_No Blinder",
           "bag",
           1.0689655172413792
          ],
          [
           "Q1SW_with Blinder",
           "bag",
           1.2448979591836735
          ],
          [
           "Q4SW",
           "bag",
           1.4705882352941178
          ],
          [
           "7DBTS",
           "balloon",
           1
          ],
          [
           "MEMFISH",
           "balloon",
           1
          ],
          [
           "7DBTS",
           "bobbins",
           1
          ],
          [
           "CSEMP",
           "bobbins",
           1
          ],
          [
           "IBTS",
           "bobbins",
           1
          ],
          [
           "NWGFS",
           "bobbins",
           1.3529411764705883
          ],
          [
           "Q1SW",
           "bobbins",
           1
          ],
          [
           "Q1SW_No Blinder",
           "bobbins",
           1.7169811320754718
          ],
          [
           "Q1SW_with Blinder",
           "bobbins",
           1.208955223880597
          ],
          [
           "Q4SW",
           "bobbins",
           1
          ],
          [
           "7DBTS",
           "bottle",
           1.125
          ],
          [
           "CSEMP",
           "bottle",
           2.4285714285714284
          ],
          [
           "IBTS",
           "bottle",
           1.04
          ],
          [
           "MEMFISH",
           "bottle",
           1
          ],
          [
           "NWGFS",
           "bottle",
           1.25
          ],
          [
           "Q1SW",
           "bottle",
           1
          ],
          [
           "Q1SW_No Blinder",
           "bottle",
           1.2142857142857142
          ],
          [
           "Q1SW_with Blinder",
           "bottle",
           1.5
          ],
          [
           "Q4SW",
           "bottle",
           1
          ],
          [
           "7DBTS",
           "bottles",
           1
          ],
          [
           "CSEMP",
           "bottles",
           1.608695652173913
          ],
          [
           "IBTS",
           "bottles",
           1
          ],
          [
           "NWGFS",
           "bottles",
           1
          ],
          [
           "Q1SW_No Blinder",
           "bottles",
           1
          ],
          [
           "Q1SW_with Blinder",
           "bottles",
           3.4
          ],
          [
           "Q4SW",
           "bottles",
           1
          ],
          [
           "7DBTS",
           "cables",
           1
          ],
          [
           "CSEMP",
           "cables",
           1
          ],
          [
           "IBTS",
           "cables",
           1
          ],
          [
           "NWGFS",
           "cables",
           1
          ],
          [
           "Q1SW_No Blinder",
           "cables",
           1
          ],
          [
           "Q1SW_with Blinder",
           "cables",
           1
          ],
          [
           "7DBTS",
           "cabletie",
           1
          ],
          [
           "CSEMP",
           "cabletie",
           1
          ],
          [
           "IBTS",
           "cabletie",
           1
          ],
          [
           "NWGFS",
           "cabletie",
           1
          ],
          [
           "Q1SW",
           "cabletie",
           1
          ],
          [
           "Q1SW_No Blinder",
           "cabletie",
           3.2857142857142856
          ],
          [
           "Q1SW_with Blinder",
           "cabletie",
           4
          ],
          [
           "Q4SW",
           "cabletie",
           1
          ],
          [
           "7DBTS",
           "cansdrink",
           1
          ],
          [
           "CSEMP",
           "cansdrink",
           1.2857142857142858
          ],
          [
           "IBTS",
           "cansdrink",
           1.2222222222222223
          ],
          [
           "NWGFS",
           "cansdrink",
           1.105263157894737
          ],
          [
           "Q1SW",
           "cansdrink",
           1.2222222222222223
          ],
          [
           "Q1SW_No Blinder",
           "cansdrink",
           1
          ],
          [
           "Q1SW_with Blinder",
           "cansdrink",
           1.4285714285714286
          ],
          [
           "Q4SW",
           "cansdrink",
           1
          ],
          [
           "7DBTS",
           "cansfood",
           1
          ],
          [
           "CSEMP",
           "cansfood",
           1
          ],
          [
           "IBTS",
           "cansfood",
           1
          ],
          [
           "MEMFISH",
           "cansfood",
           1
          ],
          [
           "NWGFS",
           "cansfood",
           1
          ],
          [
           "Q1SW",
           "cansfood",
           1
          ],
          [
           "Q1SW_No Blinder",
           "cansfood",
           1
          ],
          [
           "Q1SW_with Blinder",
           "cansfood",
           1
          ],
          [
           "7DBTS",
           "caps",
           1
          ],
          [
           "CSEMP",
           "caps",
           1
          ],
          [
           "IBTS",
           "caps",
           1
          ],
          [
           "NWGFS",
           "caps",
           1
          ],
          [
           "Q1SW",
           "caps",
           1
          ],
          [
           "Q1SW_No Blinder",
           "caps",
           1
          ],
          [
           "Q1SW_with Blinder",
           "caps",
           1
          ],
          [
           "Q4SW",
           "caps",
           1
          ],
          [
           "NWGFS",
           "carparts",
           1
          ],
          [
           "Q1SW_with Blinder",
           "carparts",
           1
          ],
          [
           "7DBTS",
           "clothing",
           1.1481481481481481
          ],
          [
           "CSEMP",
           "clothing",
           2.6721311475409837
          ],
          [
           "IBTS",
           "clothing",
           1.0512820512820513
          ],
          [
           "NWGFS",
           "clothing",
           1.1111111111111112
          ],
          [
           "Q1SW",
           "clothing",
           1.4210526315789473
          ],
          [
           "Q1SW_No Blinder",
           "clothing",
           2.1267605633802815
          ],
          [
           "Q1SW_with Blinder",
           "clothing",
           2.0697674418604652
          ],
          [
           "Q4SW",
           "clothing",
           1.5
          ],
          [
           "7DBTS",
           "crates",
           1.08
          ],
          [
           "CSEMP",
           "crates",
           1.6666666666666667
          ],
          [
           "IBTS",
           "crates",
           1
          ],
          [
           "MEMFISH",
           "crates",
           1
          ],
          [
           "NWGFS",
           "crates",
           1.3
          ],
          [
           "Q1SW",
           "crates",
           1.3333333333333333
          ],
          [
           "Q1SW_No Blinder",
           "crates",
           1
          ],
          [
           "Q1SW_with Blinder",
           "crates",
           1.1176470588235294
          ],
          [
           "Q4SW",
           "crates",
           1.5
          ],
          [
           "CSEMP",
           "drums",
           4
          ],
          [
           "IBTS",
           "drums",
           1
          ],
          [
           "NWGFS",
           "drums",
           1
          ],
          [
           "7DBTS",
           "fishline.mono",
           1.4482758620689655
          ],
          [
           "CSEMP",
           "fishline.mono",
           3.278481012658228
          ],
          [
           "IBTS",
           "fishline.mono",
           2.2789115646258504
          ],
          [
           "MEMFISH",
           "fishline.mono",
           1.6
          ],
          [
           "NWGFS",
           "fishline.mono",
           1.3636363636363635
          ],
          [
           "Q1SW",
           "fishline.mono",
           3.380952380952381
          ],
          [
           "Q1SW_No Blinder",
           "fishline.mono",
           2.032967032967033
          ],
          [
           "Q1SW_with Blinder",
           "fishline.mono",
           2.793939393939394
          ],
          [
           "Q4SW",
           "fishline.mono",
           1.5
          ],
          [
           "7DBTS",
           "fishline.tang",
           1.2758620689655173
          ],
          [
           "CSEMP",
           "fishline.tang",
           5.75
          ],
          [
           "IBTS",
           "fishline.tang",
           1.4318181818181819
          ],
          [
           "MEMFISH",
           "fishline.tang",
           1.5
          ],
          [
           "NWGFS",
           "fishline.tang",
           1.5679012345679013
          ],
          [
           "Q1SW",
           "fishline.tang",
           1.2222222222222223
          ],
          [
           "Q1SW_No Blinder",
           "fishline.tang",
           3.5354330708661417
          ],
          [
           "Q1SW_with Blinder",
           "fishline.tang",
           2.5972222222222223
          ],
          [
           "Q4SW",
           "fishline.tang",
           1.5405405405405406
          ],
          [
           "7DBTS",
           "fishmetal",
           1
          ],
          [
           "IBTS",
           "fishmetal",
           1
          ],
          [
           "Q1SW",
           "fishmetal",
           1
          ],
          [
           "Q1SW_No Blinder",
           "fishmetal",
           1
          ],
          [
           "7DBTS",
           "fishnet",
           1
          ],
          [
           "CSEMP",
           "fishnet",
           2.7948717948717947
          ],
          [
           "IBTS",
           "fishnet",
           1.0136054421768708
          ],
          [
           "MEMFISH",
           "fishnet",
           1
          ],
          [
           "NWGFS",
           "fishnet",
           1.1764705882352942
          ],
          [
           "Q1SW",
           "fishnet",
           1
          ],
          [
           "Q1SW_No Blinder",
           "fishnet",
           1.0606060606060606
          ],
          [
           "Q1SW_with Blinder",
           "fishnet",
           1.2413793103448276
          ],
          [
           "Q4SW",
           "fishnet",
           1.4
          ],
          [
           "7DBTS",
           "gloves",
           1
          ],
          [
           "CSEMP",
           "gloves",
           1.2857142857142858
          ],
          [
           "IBTS",
           "gloves",
           1
          ],
          [
           "MEMFISH",
           "gloves",
           1
          ],
          [
           "NWGFS",
           "gloves",
           1.1333333333333333
          ],
          [
           "Q1SW",
           "gloves",
           1.2857142857142858
          ],
          [
           "Q1SW_No Blinder",
           "gloves",
           1.1538461538461537
          ],
          [
           "Q1SW_with Blinder",
           "gloves",
           1.1333333333333333
          ],
          [
           "Q4SW",
           "gloves",
           1
          ],
          [
           "Q1SW_No Blinder",
           "jars",
           1
          ],
          [
           "Q1SW_with Blinder",
           "jars",
           1
          ],
          [
           "Q1SW_with Blinder",
           "nappies",
           1
          ],
          [
           "Q4SW",
           "nappies",
           1
          ],
          [
           "7DBTS",
           "other.glass",
           1
          ],
          [
           "CSEMP",
           "other.glass",
           1
          ],
          [
           "IBTS",
           "other.glass",
           1
          ],
          [
           "7DBTS",
           "other.metal",
           1
          ],
          [
           "CSEMP",
           "other.metal",
           15.126315789473685
          ],
          [
           "IBTS",
           "other.metal",
           1
          ],
          [
           "NWGFS",
           "other.metal",
           1
          ],
          [
           "Q1SW",
           "other.metal",
           1
          ],
          [
           "Q1SW_No Blinder",
           "other.metal",
           1
          ],
          [
           "Q1SW_with Blinder",
           "other.metal",
           1
          ],
          [
           "Q4SW",
           "other.metal",
           1
          ],
          [
           "7DBTS",
           "other.misc",
           1.4615384615384615
          ],
          [
           "CSEMP",
           "other.misc",
           5.1020408163265305
          ],
          [
           "IBTS",
           "other.misc",
           1.0666666666666667
          ],
          [
           "NWGFS",
           "other.misc",
           1.105263157894737
          ],
          [
           "Q1SW",
           "other.misc",
           1.3333333333333333
          ],
          [
           "Q1SW_No Blinder",
           "other.misc",
           1.8571428571428572
          ],
          [
           "Q1SW_with Blinder",
           "other.misc",
           1.105263157894737
          ],
          [
           "Q4SW",
           "other.misc",
           1
          ],
          [
           "7DBTS",
           "other.plas",
           1.8735632183908046
          ],
          [
           "CSEMP",
           "other.plas",
           6.490909090909091
          ],
          [
           "IBTS",
           "other.plas",
           1.155844155844156
          ],
          [
           "MEMFISH",
           "other.plas",
           1.5
          ],
          [
           "NWGFS",
           "other.plas",
           1.9
          ],
          [
           "Q1SW",
           "other.plas",
           1.7096774193548387
          ],
          [
           "Q1SW_No Blinder",
           "other.plas",
           1.5393258426966292
          ],
          [
           "Q1SW_with Blinder",
           "other.plas",
           2.22962962962963
          ],
          [
           "Q4SW",
           "other.plas",
           1.3333333333333333
          ],
          [
           "7DBTS",
           "other.rub",
           1.125
          ],
          [
           "CSEMP",
           "other.rub",
           2.066666666666667
          ],
          [
           "IBTS",
           "other.rub",
           1.0294117647058822
          ],
          [
           "NWGFS",
           "other.rub",
           1
          ],
          [
           "Q1SW",
           "other.rub",
           1
          ],
          [
           "Q1SW_No Blinder",
           "other.rub",
           1.8421052631578947
          ],
          [
           "Q1SW_with Blinder",
           "other.rub",
           1.5294117647058822
          ],
          [
           "Q4SW",
           "other.rub",
           1
          ],
          [
           "7DBTS",
           "other.wood",
           1
          ],
          [
           "CSEMP",
           "other.wood",
           1.6666666666666667
          ],
          [
           "IBTS",
           "other.wood",
           1
          ],
          [
           "NWGFS",
           "other.wood",
           1
          ],
          [
           "Q1SW",
           "other.wood",
           1.5
          ],
          [
           "Q1SW_No Blinder",
           "other.wood",
           1
          ],
          [
           "Q1SW_with Blinder",
           "other.wood",
           1
          ],
          [
           "Q4SW",
           "other.wood",
           1
          ],
          [
           "7DBTS",
           "pallets",
           1
          ],
          [
           "IBTS",
           "pallets",
           1
          ],
          [
           "Q1SW",
           "pallets",
           1
          ],
          [
           "7DBTS",
           "paper",
           1
          ],
          [
           "CSEMP",
           "paper",
           8.555555555555555
          ],
          [
           "IBTS",
           "paper",
           1.0714285714285714
          ],
          [
           "NWGFS",
           "paper",
           1
          ],
          [
           "Q1SW",
           "paper",
           1
          ],
          [
           "Q1SW_No Blinder",
           "paper",
           1
          ],
          [
           "Q1SW_with Blinder",
           "paper",
           1.6666666666666667
          ],
          [
           "7DBTS",
           "pieces",
           1
          ],
          [
           "IBTS",
           "pieces",
           1
          ],
          [
           "NWGFS",
           "pieces",
           1.2
          ],
          [
           "Q1SW_No Blinder",
           "pieces",
           1
          ],
          [
           "Q1SW_with Blinder",
           "pieces",
           1
          ],
          [
           "7DBTS",
           "rope",
           1.037037037037037
          ],
          [
           "CSEMP",
           "rope",
           1.4615384615384615
          ],
          [
           "IBTS",
           "rope",
           1.3191489361702127
          ],
          [
           "MEMFISH",
           "rope",
           1
          ],
          [
           "NWGFS",
           "rope",
           1.5333333333333334
          ],
          [
           "Q1SW",
           "rope",
           1.1818181818181819
          ],
          [
           "Q1SW_No Blinder",
           "rope",
           1.2
          ],
          [
           "Q1SW_with Blinder",
           "rope",
           1.105263157894737
          ],
          [
           "Q4SW",
           "rope",
           1.4444444444444444
          ],
          [
           "7DBTS",
           "santowels",
           1
          ],
          [
           "MEMFISH",
           "santowels",
           1
          ],
          [
           "NWGFS",
           "santowels",
           1
          ],
          [
           "Q1SW_No Blinder",
           "santowels",
           1
          ],
          [
           "Q1SW_with Blinder",
           "santowels",
           2
          ],
          [
           "Q4SW",
           "santowels",
           1
          ],
          [
           "7DBTS",
           "sheet",
           1.1219512195121952
          ],
          [
           "CSEMP",
           "sheet",
           15.511811023622048
          ],
          [
           "IBTS",
           "sheet",
           1.4966442953020134
          ],
          [
           "MEMFISH",
           "sheet",
           2.1506849315068495
          ],
          [
           "NWGFS",
           "sheet",
           3.2134570765661254
          ],
          [
           "Q1SW",
           "sheet",
           1.4444444444444444
          ],
          [
           "Q1SW_No Blinder",
           "sheet",
           2.56
          ],
          [
           "Q1SW_with Blinder",
           "sheet",
           3.006622516556291
          ],
          [
           "Q4SW",
           "sheet",
           1.7954545454545454
          ],
          [
           "7DBTS",
           "shoes",
           1
          ],
          [
           "CSEMP",
           "shoes",
           2
          ],
          [
           "IBTS",
           "shoes",
           1
          ],
          [
           "NWGFS",
           "shoes",
           1.4210526315789473
          ],
          [
           "Q1SW",
           "shoes",
           1
          ],
          [
           "Q1SW_No Blinder",
           "shoes",
           1
          ],
          [
           "Q1SW_with Blinder",
           "shoes",
           1.1538461538461537
          ],
          [
           "Q4SW",
           "shoes",
           1
          ],
          [
           "7DBTS",
           "strap",
           1.4
          ],
          [
           "CSEMP",
           "strap",
           2
          ],
          [
           "IBTS",
           "strap",
           1.1176470588235294
          ],
          [
           "MEMFISH",
           "strap",
           1
          ],
          [
           "NWGFS",
           "strap",
           1.1818181818181819
          ],
          [
           "Q1SW",
           "strap",
           1
          ],
          [
           "Q1SW_No Blinder",
           "strap",
           1.1538461538461537
          ],
          [
           "Q1SW_with Blinder",
           "strap",
           1.0869565217391304
          ],
          [
           "Q4SW",
           "strap",
           1
          ],
          [
           "7DBTS",
           "synthrope",
           1.0754716981132075
          ],
          [
           "CSEMP",
           "synthrope",
           22.577205882352942
          ],
          [
           "IBTS",
           "synthrope",
           1.2122015915119364
          ],
          [
           "MEMFISH",
           "synthrope",
           1.3076923076923077
          ],
          [
           "NWGFS",
           "synthrope",
           1.4375
          ],
          [
           "Q1SW",
           "synthrope",
           1.375
          ],
          [
           "Q1SW_No Blinder",
           "synthrope",
           1.9291338582677164
          ],
          [
           "Q1SW_with Blinder",
           "synthrope",
           9.225225225225225
          ],
          [
           "Q4SW",
           "synthrope",
           1.7096774193548387
          ],
          [
           "CSEMP",
           "tyre",
           1.6666666666666667
          ],
          [
           "NWGFS",
           "tyre",
           1
          ],
          [
           "Q1SW",
           "tyre",
           1
          ],
          [
           "Q1SW_No Blinder",
           "tyre",
           1
          ],
          [
           "Q1SW_with Blinder",
           "tyre",
           1
          ],
          [
           "7DBTS",
           "wellies",
           1.5
          ],
          [
           "CSEMP",
           "wellies",
           1.5
          ],
          [
           "IBTS",
           "wellies",
           1
          ],
          [
           "NWGFS",
           "wellies",
           2
          ],
          [
           "Q1SW_No Blinder",
           "wellies",
           1
          ],
          [
           "Q1SW_with Blinder",
           "wellies",
           1
          ],
          [
           "Q4SW",
           "wellies",
           1
          ],
          [
           "CSEMP",
           "woodnat",
           1
          ],
          [
           "IBTS",
           "woodnat",
           1
          ],
          [
           "7DBTS",
           "woodproc",
           1.0425531914893618
          ],
          [
           "CSEMP",
           "woodproc",
           1.1428571428571428
          ],
          [
           "IBTS",
           "woodproc",
           1.1153846153846154
          ],
          [
           "NWGFS",
           "woodproc",
           3.4285714285714284
          ],
          [
           "Q1SW",
           "woodproc",
           1
          ],
          [
           "Q1SW_No Blinder",
           "woodproc",
           1.1818181818181819
          ],
          [
           "Q1SW_with Blinder",
           "woodproc",
           2.0833333333333335
          ],
          [
           "Q4SW",
           "woodproc",
           1
          ],
          [
           "7DBTS",
           "(?)",
           1.268361581920904
          ],
          [
           "CSEMP",
           "(?)",
           28.62099330750264
          ],
          [
           "IBTS",
           "(?)",
           1.2219409282700422
          ],
          [
           "MEMFISH",
           "(?)",
           1.7393939393939395
          ],
          [
           "NWGFS",
           "(?)",
           2.1392203659506763
          ],
          [
           "Q1SW",
           "(?)",
           1.6179401993355482
          ],
          [
           "Q1SW_No Blinder",
           "(?)",
           2.014925373134328
          ],
          [
           "Q1SW_with Blinder",
           "(?)",
           3.1317733990147785
          ],
          [
           "Q4SW",
           "(?)",
           1.519031141868512
          ]
         ],
         "domain": {
          "x": [
           0,
           1
          ],
          "y": [
           0,
           1
          ]
         },
         "hovertemplate": "labels=%{label}<br>count_sum=%{value}<br>parent=%{parent}<br>id=%{id}<br>survey=%{customdata[0]}<br>litter_category=%{customdata[1]}<br>count=%{color}<extra></extra>",
         "ids": [
          "7DBTS/bag",
          "CSEMP/bag",
          "IBTS/bag",
          "MEMFISH/bag",
          "NWGFS/bag",
          "Q1SW/bag",
          "Q1SW_No Blinder/bag",
          "Q1SW_with Blinder/bag",
          "Q4SW/bag",
          "7DBTS/balloon",
          "MEMFISH/balloon",
          "7DBTS/bobbins",
          "CSEMP/bobbins",
          "IBTS/bobbins",
          "NWGFS/bobbins",
          "Q1SW/bobbins",
          "Q1SW_No Blinder/bobbins",
          "Q1SW_with Blinder/bobbins",
          "Q4SW/bobbins",
          "7DBTS/bottle",
          "CSEMP/bottle",
          "IBTS/bottle",
          "MEMFISH/bottle",
          "NWGFS/bottle",
          "Q1SW/bottle",
          "Q1SW_No Blinder/bottle",
          "Q1SW_with Blinder/bottle",
          "Q4SW/bottle",
          "7DBTS/bottles",
          "CSEMP/bottles",
          "IBTS/bottles",
          "NWGFS/bottles",
          "Q1SW_No Blinder/bottles",
          "Q1SW_with Blinder/bottles",
          "Q4SW/bottles",
          "7DBTS/cables",
          "CSEMP/cables",
          "IBTS/cables",
          "NWGFS/cables",
          "Q1SW_No Blinder/cables",
          "Q1SW_with Blinder/cables",
          "7DBTS/cabletie",
          "CSEMP/cabletie",
          "IBTS/cabletie",
          "NWGFS/cabletie",
          "Q1SW/cabletie",
          "Q1SW_No Blinder/cabletie",
          "Q1SW_with Blinder/cabletie",
          "Q4SW/cabletie",
          "7DBTS/cansdrink",
          "CSEMP/cansdrink",
          "IBTS/cansdrink",
          "NWGFS/cansdrink",
          "Q1SW/cansdrink",
          "Q1SW_No Blinder/cansdrink",
          "Q1SW_with Blinder/cansdrink",
          "Q4SW/cansdrink",
          "7DBTS/cansfood",
          "CSEMP/cansfood",
          "IBTS/cansfood",
          "MEMFISH/cansfood",
          "NWGFS/cansfood",
          "Q1SW/cansfood",
          "Q1SW_No Blinder/cansfood",
          "Q1SW_with Blinder/cansfood",
          "7DBTS/caps",
          "CSEMP/caps",
          "IBTS/caps",
          "NWGFS/caps",
          "Q1SW/caps",
          "Q1SW_No Blinder/caps",
          "Q1SW_with Blinder/caps",
          "Q4SW/caps",
          "NWGFS/carparts",
          "Q1SW_with Blinder/carparts",
          "7DBTS/clothing",
          "CSEMP/clothing",
          "IBTS/clothing",
          "NWGFS/clothing",
          "Q1SW/clothing",
          "Q1SW_No Blinder/clothing",
          "Q1SW_with Blinder/clothing",
          "Q4SW/clothing",
          "7DBTS/crates",
          "CSEMP/crates",
          "IBTS/crates",
          "MEMFISH/crates",
          "NWGFS/crates",
          "Q1SW/crates",
          "Q1SW_No Blinder/crates",
          "Q1SW_with Blinder/crates",
          "Q4SW/crates",
          "CSEMP/drums",
          "IBTS/drums",
          "NWGFS/drums",
          "7DBTS/fishline.mono",
          "CSEMP/fishline.mono",
          "IBTS/fishline.mono",
          "MEMFISH/fishline.mono",
          "NWGFS/fishline.mono",
          "Q1SW/fishline.mono",
          "Q1SW_No Blinder/fishline.mono",
          "Q1SW_with Blinder/fishline.mono",
          "Q4SW/fishline.mono",
          "7DBTS/fishline.tang",
          "CSEMP/fishline.tang",
          "IBTS/fishline.tang",
          "MEMFISH/fishline.tang",
          "NWGFS/fishline.tang",
          "Q1SW/fishline.tang",
          "Q1SW_No Blinder/fishline.tang",
          "Q1SW_with Blinder/fishline.tang",
          "Q4SW/fishline.tang",
          "7DBTS/fishmetal",
          "IBTS/fishmetal",
          "Q1SW/fishmetal",
          "Q1SW_No Blinder/fishmetal",
          "7DBTS/fishnet",
          "CSEMP/fishnet",
          "IBTS/fishnet",
          "MEMFISH/fishnet",
          "NWGFS/fishnet",
          "Q1SW/fishnet",
          "Q1SW_No Blinder/fishnet",
          "Q1SW_with Blinder/fishnet",
          "Q4SW/fishnet",
          "7DBTS/gloves",
          "CSEMP/gloves",
          "IBTS/gloves",
          "MEMFISH/gloves",
          "NWGFS/gloves",
          "Q1SW/gloves",
          "Q1SW_No Blinder/gloves",
          "Q1SW_with Blinder/gloves",
          "Q4SW/gloves",
          "Q1SW_No Blinder/jars",
          "Q1SW_with Blinder/jars",
          "Q1SW_with Blinder/nappies",
          "Q4SW/nappies",
          "7DBTS/other.glass",
          "CSEMP/other.glass",
          "IBTS/other.glass",
          "7DBTS/other.metal",
          "CSEMP/other.metal",
          "IBTS/other.metal",
          "NWGFS/other.metal",
          "Q1SW/other.metal",
          "Q1SW_No Blinder/other.metal",
          "Q1SW_with Blinder/other.metal",
          "Q4SW/other.metal",
          "7DBTS/other.misc",
          "CSEMP/other.misc",
          "IBTS/other.misc",
          "NWGFS/other.misc",
          "Q1SW/other.misc",
          "Q1SW_No Blinder/other.misc",
          "Q1SW_with Blinder/other.misc",
          "Q4SW/other.misc",
          "7DBTS/other.plas",
          "CSEMP/other.plas",
          "IBTS/other.plas",
          "MEMFISH/other.plas",
          "NWGFS/other.plas",
          "Q1SW/other.plas",
          "Q1SW_No Blinder/other.plas",
          "Q1SW_with Blinder/other.plas",
          "Q4SW/other.plas",
          "7DBTS/other.rub",
          "CSEMP/other.rub",
          "IBTS/other.rub",
          "NWGFS/other.rub",
          "Q1SW/other.rub",
          "Q1SW_No Blinder/other.rub",
          "Q1SW_with Blinder/other.rub",
          "Q4SW/other.rub",
          "7DBTS/other.wood",
          "CSEMP/other.wood",
          "IBTS/other.wood",
          "NWGFS/other.wood",
          "Q1SW/other.wood",
          "Q1SW_No Blinder/other.wood",
          "Q1SW_with Blinder/other.wood",
          "Q4SW/other.wood",
          "7DBTS/pallets",
          "IBTS/pallets",
          "Q1SW/pallets",
          "7DBTS/paper",
          "CSEMP/paper",
          "IBTS/paper",
          "NWGFS/paper",
          "Q1SW/paper",
          "Q1SW_No Blinder/paper",
          "Q1SW_with Blinder/paper",
          "7DBTS/pieces",
          "IBTS/pieces",
          "NWGFS/pieces",
          "Q1SW_No Blinder/pieces",
          "Q1SW_with Blinder/pieces",
          "7DBTS/rope",
          "CSEMP/rope",
          "IBTS/rope",
          "MEMFISH/rope",
          "NWGFS/rope",
          "Q1SW/rope",
          "Q1SW_No Blinder/rope",
          "Q1SW_with Blinder/rope",
          "Q4SW/rope",
          "7DBTS/santowels",
          "MEMFISH/santowels",
          "NWGFS/santowels",
          "Q1SW_No Blinder/santowels",
          "Q1SW_with Blinder/santowels",
          "Q4SW/santowels",
          "7DBTS/sheet",
          "CSEMP/sheet",
          "IBTS/sheet",
          "MEMFISH/sheet",
          "NWGFS/sheet",
          "Q1SW/sheet",
          "Q1SW_No Blinder/sheet",
          "Q1SW_with Blinder/sheet",
          "Q4SW/sheet",
          "7DBTS/shoes",
          "CSEMP/shoes",
          "IBTS/shoes",
          "NWGFS/shoes",
          "Q1SW/shoes",
          "Q1SW_No Blinder/shoes",
          "Q1SW_with Blinder/shoes",
          "Q4SW/shoes",
          "7DBTS/strap",
          "CSEMP/strap",
          "IBTS/strap",
          "MEMFISH/strap",
          "NWGFS/strap",
          "Q1SW/strap",
          "Q1SW_No Blinder/strap",
          "Q1SW_with Blinder/strap",
          "Q4SW/strap",
          "7DBTS/synthrope",
          "CSEMP/synthrope",
          "IBTS/synthrope",
          "MEMFISH/synthrope",
          "NWGFS/synthrope",
          "Q1SW/synthrope",
          "Q1SW_No Blinder/synthrope",
          "Q1SW_with Blinder/synthrope",
          "Q4SW/synthrope",
          "CSEMP/tyre",
          "NWGFS/tyre",
          "Q1SW/tyre",
          "Q1SW_No Blinder/tyre",
          "Q1SW_with Blinder/tyre",
          "7DBTS/wellies",
          "CSEMP/wellies",
          "IBTS/wellies",
          "NWGFS/wellies",
          "Q1SW_No Blinder/wellies",
          "Q1SW_with Blinder/wellies",
          "Q4SW/wellies",
          "CSEMP/woodnat",
          "IBTS/woodnat",
          "7DBTS/woodproc",
          "CSEMP/woodproc",
          "IBTS/woodproc",
          "NWGFS/woodproc",
          "Q1SW/woodproc",
          "Q1SW_No Blinder/woodproc",
          "Q1SW_with Blinder/woodproc",
          "Q4SW/woodproc",
          "7DBTS",
          "CSEMP",
          "IBTS",
          "MEMFISH",
          "NWGFS",
          "Q1SW",
          "Q1SW_No Blinder",
          "Q1SW_with Blinder",
          "Q4SW"
         ],
         "labels": [
          "bag",
          "bag",
          "bag",
          "bag",
          "bag",
          "bag",
          "bag",
          "bag",
          "bag",
          "balloon",
          "balloon",
          "bobbins",
          "bobbins",
          "bobbins",
          "bobbins",
          "bobbins",
          "bobbins",
          "bobbins",
          "bobbins",
          "bottle",
          "bottle",
          "bottle",
          "bottle",
          "bottle",
          "bottle",
          "bottle",
          "bottle",
          "bottle",
          "bottles",
          "bottles",
          "bottles",
          "bottles",
          "bottles",
          "bottles",
          "bottles",
          "cables",
          "cables",
          "cables",
          "cables",
          "cables",
          "cables",
          "cabletie",
          "cabletie",
          "cabletie",
          "cabletie",
          "cabletie",
          "cabletie",
          "cabletie",
          "cabletie",
          "cansdrink",
          "cansdrink",
          "cansdrink",
          "cansdrink",
          "cansdrink",
          "cansdrink",
          "cansdrink",
          "cansdrink",
          "cansfood",
          "cansfood",
          "cansfood",
          "cansfood",
          "cansfood",
          "cansfood",
          "cansfood",
          "cansfood",
          "caps",
          "caps",
          "caps",
          "caps",
          "caps",
          "caps",
          "caps",
          "caps",
          "carparts",
          "carparts",
          "clothing",
          "clothing",
          "clothing",
          "clothing",
          "clothing",
          "clothing",
          "clothing",
          "clothing",
          "crates",
          "crates",
          "crates",
          "crates",
          "crates",
          "crates",
          "crates",
          "crates",
          "crates",
          "drums",
          "drums",
          "drums",
          "fishline.mono",
          "fishline.mono",
          "fishline.mono",
          "fishline.mono",
          "fishline.mono",
          "fishline.mono",
          "fishline.mono",
          "fishline.mono",
          "fishline.mono",
          "fishline.tang",
          "fishline.tang",
          "fishline.tang",
          "fishline.tang",
          "fishline.tang",
          "fishline.tang",
          "fishline.tang",
          "fishline.tang",
          "fishline.tang",
          "fishmetal",
          "fishmetal",
          "fishmetal",
          "fishmetal",
          "fishnet",
          "fishnet",
          "fishnet",
          "fishnet",
          "fishnet",
          "fishnet",
          "fishnet",
          "fishnet",
          "fishnet",
          "gloves",
          "gloves",
          "gloves",
          "gloves",
          "gloves",
          "gloves",
          "gloves",
          "gloves",
          "gloves",
          "jars",
          "jars",
          "nappies",
          "nappies",
          "other.glass",
          "other.glass",
          "other.glass",
          "other.metal",
          "other.metal",
          "other.metal",
          "other.metal",
          "other.metal",
          "other.metal",
          "other.metal",
          "other.metal",
          "other.misc",
          "other.misc",
          "other.misc",
          "other.misc",
          "other.misc",
          "other.misc",
          "other.misc",
          "other.misc",
          "other.plas",
          "other.plas",
          "other.plas",
          "other.plas",
          "other.plas",
          "other.plas",
          "other.plas",
          "other.plas",
          "other.plas",
          "other.rub",
          "other.rub",
          "other.rub",
          "other.rub",
          "other.rub",
          "other.rub",
          "other.rub",
          "other.rub",
          "other.wood",
          "other.wood",
          "other.wood",
          "other.wood",
          "other.wood",
          "other.wood",
          "other.wood",
          "other.wood",
          "pallets",
          "pallets",
          "pallets",
          "paper",
          "paper",
          "paper",
          "paper",
          "paper",
          "paper",
          "paper",
          "pieces",
          "pieces",
          "pieces",
          "pieces",
          "pieces",
          "rope",
          "rope",
          "rope",
          "rope",
          "rope",
          "rope",
          "rope",
          "rope",
          "rope",
          "santowels",
          "santowels",
          "santowels",
          "santowels",
          "santowels",
          "santowels",
          "sheet",
          "sheet",
          "sheet",
          "sheet",
          "sheet",
          "sheet",
          "sheet",
          "sheet",
          "sheet",
          "shoes",
          "shoes",
          "shoes",
          "shoes",
          "shoes",
          "shoes",
          "shoes",
          "shoes",
          "strap",
          "strap",
          "strap",
          "strap",
          "strap",
          "strap",
          "strap",
          "strap",
          "strap",
          "synthrope",
          "synthrope",
          "synthrope",
          "synthrope",
          "synthrope",
          "synthrope",
          "synthrope",
          "synthrope",
          "synthrope",
          "tyre",
          "tyre",
          "tyre",
          "tyre",
          "tyre",
          "wellies",
          "wellies",
          "wellies",
          "wellies",
          "wellies",
          "wellies",
          "wellies",
          "woodnat",
          "woodnat",
          "woodproc",
          "woodproc",
          "woodproc",
          "woodproc",
          "woodproc",
          "woodproc",
          "woodproc",
          "woodproc",
          "7DBTS",
          "CSEMP",
          "IBTS",
          "MEMFISH",
          "NWGFS",
          "Q1SW",
          "Q1SW_No Blinder",
          "Q1SW_with Blinder",
          "Q4SW"
         ],
         "marker": {
          "coloraxis": "coloraxis",
          "colors": [
           1.6,
           56.18468899521531,
           1.1176470588235294,
           1.5,
           1.7432432432432432,
           1.3529411764705883,
           1.0689655172413792,
           1.2448979591836735,
           1.4705882352941178,
           1,
           1,
           1,
           1,
           1,
           1.3529411764705883,
           1,
           1.7169811320754718,
           1.208955223880597,
           1,
           1.125,
           2.4285714285714284,
           1.04,
           1,
           1.25,
           1,
           1.2142857142857142,
           1.5,
           1,
           1,
           1.608695652173913,
           1,
           1,
           1,
           3.4,
           1,
           1,
           1,
           1,
           1,
           1,
           1,
           1,
           1,
           1,
           1,
           1,
           3.2857142857142856,
           4,
           1,
           1,
           1.2857142857142858,
           1.2222222222222223,
           1.105263157894737,
           1.2222222222222223,
           1,
           1.4285714285714286,
           1,
           1,
           1,
           1,
           1,
           1,
           1,
           1,
           1,
           1,
           1,
           1,
           1,
           1,
           1,
           1,
           1,
           1,
           1,
           1.1481481481481481,
           2.6721311475409837,
           1.0512820512820513,
           1.1111111111111112,
           1.4210526315789473,
           2.1267605633802815,
           2.0697674418604652,
           1.5,
           1.08,
           1.6666666666666667,
           1,
           1,
           1.3,
           1.3333333333333333,
           1,
           1.1176470588235294,
           1.5,
           4,
           1,
           1,
           1.4482758620689655,
           3.278481012658228,
           2.2789115646258504,
           1.6,
           1.3636363636363635,
           3.380952380952381,
           2.032967032967033,
           2.793939393939394,
           1.5,
           1.2758620689655173,
           5.75,
           1.4318181818181819,
           1.5,
           1.5679012345679013,
           1.2222222222222223,
           3.5354330708661417,
           2.5972222222222223,
           1.5405405405405406,
           1,
           1,
           1,
           1,
           1,
           2.7948717948717947,
           1.0136054421768708,
           1,
           1.1764705882352942,
           1,
           1.0606060606060606,
           1.2413793103448276,
           1.4,
           1,
           1.2857142857142858,
           1,
           1,
           1.1333333333333333,
           1.2857142857142858,
           1.1538461538461537,
           1.1333333333333333,
           1,
           1,
           1,
           1,
           1,
           1,
           1,
           1,
           1,
           15.126315789473685,
           1,
           1,
           1,
           1,
           1,
           1,
           1.4615384615384615,
           5.1020408163265305,
           1.0666666666666667,
           1.105263157894737,
           1.3333333333333333,
           1.8571428571428572,
           1.105263157894737,
           1,
           1.8735632183908046,
           6.490909090909091,
           1.155844155844156,
           1.5,
           1.9,
           1.7096774193548387,
           1.5393258426966292,
           2.22962962962963,
           1.3333333333333333,
           1.125,
           2.066666666666667,
           1.0294117647058822,
           1,
           1,
           1.8421052631578947,
           1.5294117647058822,
           1,
           1,
           1.6666666666666667,
           1,
           1,
           1.5,
           1,
           1,
           1,
           1,
           1,
           1,
           1,
           8.555555555555555,
           1.0714285714285714,
           1,
           1,
           1,
           1.6666666666666667,
           1,
           1,
           1.2,
           1,
           1,
           1.037037037037037,
           1.4615384615384615,
           1.3191489361702127,
           1,
           1.5333333333333334,
           1.1818181818181819,
           1.2,
           1.105263157894737,
           1.4444444444444444,
           1,
           1,
           1,
           1,
           2,
           1,
           1.1219512195121952,
           15.511811023622048,
           1.4966442953020134,
           2.1506849315068495,
           3.2134570765661254,
           1.4444444444444444,
           2.56,
           3.006622516556291,
           1.7954545454545454,
           1,
           2,
           1,
           1.4210526315789473,
           1,
           1,
           1.1538461538461537,
           1,
           1.4,
           2,
           1.1176470588235294,
           1,
           1.1818181818181819,
           1,
           1.1538461538461537,
           1.0869565217391304,
           1,
           1.0754716981132075,
           22.577205882352942,
           1.2122015915119364,
           1.3076923076923077,
           1.4375,
           1.375,
           1.9291338582677164,
           9.225225225225225,
           1.7096774193548387,
           1.6666666666666667,
           1,
           1,
           1,
           1,
           1.5,
           1.5,
           1,
           2,
           1,
           1,
           1,
           1,
           1,
           1.0425531914893618,
           1.1428571428571428,
           1.1153846153846154,
           3.4285714285714284,
           1,
           1.1818181818181819,
           2.0833333333333335,
           1,
           1.268361581920904,
           28.62099330750264,
           1.2219409282700422,
           1.7393939393939395,
           2.1392203659506763,
           1.6179401993355482,
           2.014925373134328,
           3.1317733990147785,
           1.519031141868512
          ]
         },
         "name": "",
         "parents": [
          "7DBTS",
          "CSEMP",
          "IBTS",
          "MEMFISH",
          "NWGFS",
          "Q1SW",
          "Q1SW_No Blinder",
          "Q1SW_with Blinder",
          "Q4SW",
          "7DBTS",
          "MEMFISH",
          "7DBTS",
          "CSEMP",
          "IBTS",
          "NWGFS",
          "Q1SW",
          "Q1SW_No Blinder",
          "Q1SW_with Blinder",
          "Q4SW",
          "7DBTS",
          "CSEMP",
          "IBTS",
          "MEMFISH",
          "NWGFS",
          "Q1SW",
          "Q1SW_No Blinder",
          "Q1SW_with Blinder",
          "Q4SW",
          "7DBTS",
          "CSEMP",
          "IBTS",
          "NWGFS",
          "Q1SW_No Blinder",
          "Q1SW_with Blinder",
          "Q4SW",
          "7DBTS",
          "CSEMP",
          "IBTS",
          "NWGFS",
          "Q1SW_No Blinder",
          "Q1SW_with Blinder",
          "7DBTS",
          "CSEMP",
          "IBTS",
          "NWGFS",
          "Q1SW",
          "Q1SW_No Blinder",
          "Q1SW_with Blinder",
          "Q4SW",
          "7DBTS",
          "CSEMP",
          "IBTS",
          "NWGFS",
          "Q1SW",
          "Q1SW_No Blinder",
          "Q1SW_with Blinder",
          "Q4SW",
          "7DBTS",
          "CSEMP",
          "IBTS",
          "MEMFISH",
          "NWGFS",
          "Q1SW",
          "Q1SW_No Blinder",
          "Q1SW_with Blinder",
          "7DBTS",
          "CSEMP",
          "IBTS",
          "NWGFS",
          "Q1SW",
          "Q1SW_No Blinder",
          "Q1SW_with Blinder",
          "Q4SW",
          "NWGFS",
          "Q1SW_with Blinder",
          "7DBTS",
          "CSEMP",
          "IBTS",
          "NWGFS",
          "Q1SW",
          "Q1SW_No Blinder",
          "Q1SW_with Blinder",
          "Q4SW",
          "7DBTS",
          "CSEMP",
          "IBTS",
          "MEMFISH",
          "NWGFS",
          "Q1SW",
          "Q1SW_No Blinder",
          "Q1SW_with Blinder",
          "Q4SW",
          "CSEMP",
          "IBTS",
          "NWGFS",
          "7DBTS",
          "CSEMP",
          "IBTS",
          "MEMFISH",
          "NWGFS",
          "Q1SW",
          "Q1SW_No Blinder",
          "Q1SW_with Blinder",
          "Q4SW",
          "7DBTS",
          "CSEMP",
          "IBTS",
          "MEMFISH",
          "NWGFS",
          "Q1SW",
          "Q1SW_No Blinder",
          "Q1SW_with Blinder",
          "Q4SW",
          "7DBTS",
          "IBTS",
          "Q1SW",
          "Q1SW_No Blinder",
          "7DBTS",
          "CSEMP",
          "IBTS",
          "MEMFISH",
          "NWGFS",
          "Q1SW",
          "Q1SW_No Blinder",
          "Q1SW_with Blinder",
          "Q4SW",
          "7DBTS",
          "CSEMP",
          "IBTS",
          "MEMFISH",
          "NWGFS",
          "Q1SW",
          "Q1SW_No Blinder",
          "Q1SW_with Blinder",
          "Q4SW",
          "Q1SW_No Blinder",
          "Q1SW_with Blinder",
          "Q1SW_with Blinder",
          "Q4SW",
          "7DBTS",
          "CSEMP",
          "IBTS",
          "7DBTS",
          "CSEMP",
          "IBTS",
          "NWGFS",
          "Q1SW",
          "Q1SW_No Blinder",
          "Q1SW_with Blinder",
          "Q4SW",
          "7DBTS",
          "CSEMP",
          "IBTS",
          "NWGFS",
          "Q1SW",
          "Q1SW_No Blinder",
          "Q1SW_with Blinder",
          "Q4SW",
          "7DBTS",
          "CSEMP",
          "IBTS",
          "MEMFISH",
          "NWGFS",
          "Q1SW",
          "Q1SW_No Blinder",
          "Q1SW_with Blinder",
          "Q4SW",
          "7DBTS",
          "CSEMP",
          "IBTS",
          "NWGFS",
          "Q1SW",
          "Q1SW_No Blinder",
          "Q1SW_with Blinder",
          "Q4SW",
          "7DBTS",
          "CSEMP",
          "IBTS",
          "NWGFS",
          "Q1SW",
          "Q1SW_No Blinder",
          "Q1SW_with Blinder",
          "Q4SW",
          "7DBTS",
          "IBTS",
          "Q1SW",
          "7DBTS",
          "CSEMP",
          "IBTS",
          "NWGFS",
          "Q1SW",
          "Q1SW_No Blinder",
          "Q1SW_with Blinder",
          "7DBTS",
          "IBTS",
          "NWGFS",
          "Q1SW_No Blinder",
          "Q1SW_with Blinder",
          "7DBTS",
          "CSEMP",
          "IBTS",
          "MEMFISH",
          "NWGFS",
          "Q1SW",
          "Q1SW_No Blinder",
          "Q1SW_with Blinder",
          "Q4SW",
          "7DBTS",
          "MEMFISH",
          "NWGFS",
          "Q1SW_No Blinder",
          "Q1SW_with Blinder",
          "Q4SW",
          "7DBTS",
          "CSEMP",
          "IBTS",
          "MEMFISH",
          "NWGFS",
          "Q1SW",
          "Q1SW_No Blinder",
          "Q1SW_with Blinder",
          "Q4SW",
          "7DBTS",
          "CSEMP",
          "IBTS",
          "NWGFS",
          "Q1SW",
          "Q1SW_No Blinder",
          "Q1SW_with Blinder",
          "Q4SW",
          "7DBTS",
          "CSEMP",
          "IBTS",
          "MEMFISH",
          "NWGFS",
          "Q1SW",
          "Q1SW_No Blinder",
          "Q1SW_with Blinder",
          "Q4SW",
          "7DBTS",
          "CSEMP",
          "IBTS",
          "MEMFISH",
          "NWGFS",
          "Q1SW",
          "Q1SW_No Blinder",
          "Q1SW_with Blinder",
          "Q4SW",
          "CSEMP",
          "NWGFS",
          "Q1SW",
          "Q1SW_No Blinder",
          "Q1SW_with Blinder",
          "7DBTS",
          "CSEMP",
          "IBTS",
          "NWGFS",
          "Q1SW_No Blinder",
          "Q1SW_with Blinder",
          "Q4SW",
          "CSEMP",
          "IBTS",
          "7DBTS",
          "CSEMP",
          "IBTS",
          "NWGFS",
          "Q1SW",
          "Q1SW_No Blinder",
          "Q1SW_with Blinder",
          "Q4SW",
          "",
          "",
          "",
          "",
          "",
          "",
          "",
          "",
          ""
         ],
         "type": "treemap",
         "values": [
          70,
          1045,
          561,
          20,
          148,
          17,
          29,
          49,
          17,
          1,
          1,
          13,
          3,
          12,
          17,
          11,
          53,
          67,
          2,
          16,
          56,
          50,
          2,
          40,
          9,
          28,
          40,
          5,
          5,
          23,
          25,
          7,
          3,
          5,
          1,
          1,
          2,
          3,
          5,
          1,
          4,
          8,
          3,
          9,
          8,
          1,
          14,
          16,
          3,
          17,
          7,
          9,
          19,
          9,
          17,
          28,
          5,
          7,
          1,
          3,
          1,
          4,
          1,
          3,
          4,
          10,
          3,
          3,
          12,
          1,
          6,
          8,
          2,
          1,
          1,
          27,
          61,
          78,
          18,
          19,
          71,
          129,
          4,
          25,
          18,
          12,
          1,
          20,
          6,
          31,
          34,
          4,
          4,
          2,
          1,
          58,
          79,
          147,
          30,
          77,
          42,
          91,
          165,
          16,
          29,
          32,
          88,
          8,
          81,
          27,
          127,
          144,
          37,
          2,
          2,
          1,
          1,
          9,
          39,
          147,
          2,
          34,
          5,
          33,
          58,
          10,
          18,
          7,
          23,
          1,
          15,
          7,
          13,
          15,
          4,
          2,
          1,
          1,
          1,
          1,
          1,
          4,
          7,
          190,
          106,
          10,
          1,
          9,
          12,
          1,
          13,
          98,
          60,
          19,
          6,
          21,
          19,
          3,
          87,
          165,
          154,
          4,
          80,
          31,
          89,
          135,
          30,
          16,
          60,
          68,
          17,
          2,
          19,
          34,
          2,
          4,
          3,
          1,
          2,
          4,
          1,
          1,
          1,
          1,
          1,
          1,
          3,
          81,
          28,
          6,
          1,
          3,
          9,
          4,
          1,
          10,
          5,
          1,
          54,
          26,
          94,
          4,
          15,
          11,
          20,
          38,
          9,
          2,
          1,
          4,
          1,
          2,
          1,
          82,
          254,
          149,
          73,
          431,
          45,
          150,
          302,
          88,
          9,
          2,
          3,
          19,
          1,
          1,
          13,
          2,
          5,
          6,
          17,
          4,
          11,
          5,
          13,
          23,
          4,
          53,
          544,
          377,
          13,
          64,
          32,
          127,
          222,
          31,
          3,
          4,
          3,
          10,
          17,
          4,
          8,
          5,
          2,
          2,
          3,
          1,
          1,
          76,
          47,
          14,
          52,
          56,
          2,
          11,
          24,
          5,
          708,
          2839,
          2370,
          165,
          1257,
          301,
          1005,
          1624,
          289
         ]
        }
       ],
       "layout": {
        "annotations": [
         {
          "align": "center",
          "font": {
           "color": "white",
           "size": 12
          },
          "showarrow": false,
          "text": "Click on the survey name for an expanded view",
          "x": 0.5,
          "xref": "paper",
          "y": -0.1,
          "yref": "paper"
         }
        ],
        "coloraxis": {
         "colorbar": {
          "title": {
           "text": "count"
          }
         },
         "colorscale": [
          [
           0,
           "#0d0887"
          ],
          [
           0.1111111111111111,
           "#46039f"
          ],
          [
           0.2222222222222222,
           "#7201a8"
          ],
          [
           0.3333333333333333,
           "#9c179e"
          ],
          [
           0.4444444444444444,
           "#bd3786"
          ],
          [
           0.5555555555555556,
           "#d8576b"
          ],
          [
           0.6666666666666666,
           "#ed7953"
          ],
          [
           0.7777777777777778,
           "#fb9f3a"
          ],
          [
           0.8888888888888888,
           "#fdca26"
          ],
          [
           1,
           "#f0f921"
          ]
         ]
        },
        "font": {
         "color": "white"
        },
        "legend": {
         "tracegroupgap": 0
        },
        "paper_bgcolor": "black",
        "plot_bgcolor": "black",
        "template": {
         "data": {
          "bar": [
           {
            "error_x": {
             "color": "#2a3f5f"
            },
            "error_y": {
             "color": "#2a3f5f"
            },
            "marker": {
             "line": {
              "color": "#E5ECF6",
              "width": 0.5
             },
             "pattern": {
              "fillmode": "overlay",
              "size": 10,
              "solidity": 0.2
             }
            },
            "type": "bar"
           }
          ],
          "barpolar": [
           {
            "marker": {
             "line": {
              "color": "#E5ECF6",
              "width": 0.5
             },
             "pattern": {
              "fillmode": "overlay",
              "size": 10,
              "solidity": 0.2
             }
            },
            "type": "barpolar"
           }
          ],
          "carpet": [
           {
            "aaxis": {
             "endlinecolor": "#2a3f5f",
             "gridcolor": "white",
             "linecolor": "white",
             "minorgridcolor": "white",
             "startlinecolor": "#2a3f5f"
            },
            "baxis": {
             "endlinecolor": "#2a3f5f",
             "gridcolor": "white",
             "linecolor": "white",
             "minorgridcolor": "white",
             "startlinecolor": "#2a3f5f"
            },
            "type": "carpet"
           }
          ],
          "choropleth": [
           {
            "colorbar": {
             "outlinewidth": 0,
             "ticks": ""
            },
            "type": "choropleth"
           }
          ],
          "contour": [
           {
            "colorbar": {
             "outlinewidth": 0,
             "ticks": ""
            },
            "colorscale": [
             [
              0,
              "#0d0887"
             ],
             [
              0.1111111111111111,
              "#46039f"
             ],
             [
              0.2222222222222222,
              "#7201a8"
             ],
             [
              0.3333333333333333,
              "#9c179e"
             ],
             [
              0.4444444444444444,
              "#bd3786"
             ],
             [
              0.5555555555555556,
              "#d8576b"
             ],
             [
              0.6666666666666666,
              "#ed7953"
             ],
             [
              0.7777777777777778,
              "#fb9f3a"
             ],
             [
              0.8888888888888888,
              "#fdca26"
             ],
             [
              1,
              "#f0f921"
             ]
            ],
            "type": "contour"
           }
          ],
          "contourcarpet": [
           {
            "colorbar": {
             "outlinewidth": 0,
             "ticks": ""
            },
            "type": "contourcarpet"
           }
          ],
          "heatmap": [
           {
            "colorbar": {
             "outlinewidth": 0,
             "ticks": ""
            },
            "colorscale": [
             [
              0,
              "#0d0887"
             ],
             [
              0.1111111111111111,
              "#46039f"
             ],
             [
              0.2222222222222222,
              "#7201a8"
             ],
             [
              0.3333333333333333,
              "#9c179e"
             ],
             [
              0.4444444444444444,
              "#bd3786"
             ],
             [
              0.5555555555555556,
              "#d8576b"
             ],
             [
              0.6666666666666666,
              "#ed7953"
             ],
             [
              0.7777777777777778,
              "#fb9f3a"
             ],
             [
              0.8888888888888888,
              "#fdca26"
             ],
             [
              1,
              "#f0f921"
             ]
            ],
            "type": "heatmap"
           }
          ],
          "heatmapgl": [
           {
            "colorbar": {
             "outlinewidth": 0,
             "ticks": ""
            },
            "colorscale": [
             [
              0,
              "#0d0887"
             ],
             [
              0.1111111111111111,
              "#46039f"
             ],
             [
              0.2222222222222222,
              "#7201a8"
             ],
             [
              0.3333333333333333,
              "#9c179e"
             ],
             [
              0.4444444444444444,
              "#bd3786"
             ],
             [
              0.5555555555555556,
              "#d8576b"
             ],
             [
              0.6666666666666666,
              "#ed7953"
             ],
             [
              0.7777777777777778,
              "#fb9f3a"
             ],
             [
              0.8888888888888888,
              "#fdca26"
             ],
             [
              1,
              "#f0f921"
             ]
            ],
            "type": "heatmapgl"
           }
          ],
          "histogram": [
           {
            "marker": {
             "pattern": {
              "fillmode": "overlay",
              "size": 10,
              "solidity": 0.2
             }
            },
            "type": "histogram"
           }
          ],
          "histogram2d": [
           {
            "colorbar": {
             "outlinewidth": 0,
             "ticks": ""
            },
            "colorscale": [
             [
              0,
              "#0d0887"
             ],
             [
              0.1111111111111111,
              "#46039f"
             ],
             [
              0.2222222222222222,
              "#7201a8"
             ],
             [
              0.3333333333333333,
              "#9c179e"
             ],
             [
              0.4444444444444444,
              "#bd3786"
             ],
             [
              0.5555555555555556,
              "#d8576b"
             ],
             [
              0.6666666666666666,
              "#ed7953"
             ],
             [
              0.7777777777777778,
              "#fb9f3a"
             ],
             [
              0.8888888888888888,
              "#fdca26"
             ],
             [
              1,
              "#f0f921"
             ]
            ],
            "type": "histogram2d"
           }
          ],
          "histogram2dcontour": [
           {
            "colorbar": {
             "outlinewidth": 0,
             "ticks": ""
            },
            "colorscale": [
             [
              0,
              "#0d0887"
             ],
             [
              0.1111111111111111,
              "#46039f"
             ],
             [
              0.2222222222222222,
              "#7201a8"
             ],
             [
              0.3333333333333333,
              "#9c179e"
             ],
             [
              0.4444444444444444,
              "#bd3786"
             ],
             [
              0.5555555555555556,
              "#d8576b"
             ],
             [
              0.6666666666666666,
              "#ed7953"
             ],
             [
              0.7777777777777778,
              "#fb9f3a"
             ],
             [
              0.8888888888888888,
              "#fdca26"
             ],
             [
              1,
              "#f0f921"
             ]
            ],
            "type": "histogram2dcontour"
           }
          ],
          "mesh3d": [
           {
            "colorbar": {
             "outlinewidth": 0,
             "ticks": ""
            },
            "type": "mesh3d"
           }
          ],
          "parcoords": [
           {
            "line": {
             "colorbar": {
              "outlinewidth": 0,
              "ticks": ""
             }
            },
            "type": "parcoords"
           }
          ],
          "pie": [
           {
            "automargin": true,
            "type": "pie"
           }
          ],
          "scatter": [
           {
            "fillpattern": {
             "fillmode": "overlay",
             "size": 10,
             "solidity": 0.2
            },
            "type": "scatter"
           }
          ],
          "scatter3d": [
           {
            "line": {
             "colorbar": {
              "outlinewidth": 0,
              "ticks": ""
             }
            },
            "marker": {
             "colorbar": {
              "outlinewidth": 0,
              "ticks": ""
             }
            },
            "type": "scatter3d"
           }
          ],
          "scattercarpet": [
           {
            "marker": {
             "colorbar": {
              "outlinewidth": 0,
              "ticks": ""
             }
            },
            "type": "scattercarpet"
           }
          ],
          "scattergeo": [
           {
            "marker": {
             "colorbar": {
              "outlinewidth": 0,
              "ticks": ""
             }
            },
            "type": "scattergeo"
           }
          ],
          "scattergl": [
           {
            "marker": {
             "colorbar": {
              "outlinewidth": 0,
              "ticks": ""
             }
            },
            "type": "scattergl"
           }
          ],
          "scattermapbox": [
           {
            "marker": {
             "colorbar": {
              "outlinewidth": 0,
              "ticks": ""
             }
            },
            "type": "scattermapbox"
           }
          ],
          "scatterpolar": [
           {
            "marker": {
             "colorbar": {
              "outlinewidth": 0,
              "ticks": ""
             }
            },
            "type": "scatterpolar"
           }
          ],
          "scatterpolargl": [
           {
            "marker": {
             "colorbar": {
              "outlinewidth": 0,
              "ticks": ""
             }
            },
            "type": "scatterpolargl"
           }
          ],
          "scatterternary": [
           {
            "marker": {
             "colorbar": {
              "outlinewidth": 0,
              "ticks": ""
             }
            },
            "type": "scatterternary"
           }
          ],
          "surface": [
           {
            "colorbar": {
             "outlinewidth": 0,
             "ticks": ""
            },
            "colorscale": [
             [
              0,
              "#0d0887"
             ],
             [
              0.1111111111111111,
              "#46039f"
             ],
             [
              0.2222222222222222,
              "#7201a8"
             ],
             [
              0.3333333333333333,
              "#9c179e"
             ],
             [
              0.4444444444444444,
              "#bd3786"
             ],
             [
              0.5555555555555556,
              "#d8576b"
             ],
             [
              0.6666666666666666,
              "#ed7953"
             ],
             [
              0.7777777777777778,
              "#fb9f3a"
             ],
             [
              0.8888888888888888,
              "#fdca26"
             ],
             [
              1,
              "#f0f921"
             ]
            ],
            "type": "surface"
           }
          ],
          "table": [
           {
            "cells": {
             "fill": {
              "color": "#EBF0F8"
             },
             "line": {
              "color": "white"
             }
            },
            "header": {
             "fill": {
              "color": "#C8D4E3"
             },
             "line": {
              "color": "white"
             }
            },
            "type": "table"
           }
          ]
         },
         "layout": {
          "annotationdefaults": {
           "arrowcolor": "#2a3f5f",
           "arrowhead": 0,
           "arrowwidth": 1
          },
          "autotypenumbers": "strict",
          "coloraxis": {
           "colorbar": {
            "outlinewidth": 0,
            "ticks": ""
           }
          },
          "colorscale": {
           "diverging": [
            [
             0,
             "#8e0152"
            ],
            [
             0.1,
             "#c51b7d"
            ],
            [
             0.2,
             "#de77ae"
            ],
            [
             0.3,
             "#f1b6da"
            ],
            [
             0.4,
             "#fde0ef"
            ],
            [
             0.5,
             "#f7f7f7"
            ],
            [
             0.6,
             "#e6f5d0"
            ],
            [
             0.7,
             "#b8e186"
            ],
            [
             0.8,
             "#7fbc41"
            ],
            [
             0.9,
             "#4d9221"
            ],
            [
             1,
             "#276419"
            ]
           ],
           "sequential": [
            [
             0,
             "#0d0887"
            ],
            [
             0.1111111111111111,
             "#46039f"
            ],
            [
             0.2222222222222222,
             "#7201a8"
            ],
            [
             0.3333333333333333,
             "#9c179e"
            ],
            [
             0.4444444444444444,
             "#bd3786"
            ],
            [
             0.5555555555555556,
             "#d8576b"
            ],
            [
             0.6666666666666666,
             "#ed7953"
            ],
            [
             0.7777777777777778,
             "#fb9f3a"
            ],
            [
             0.8888888888888888,
             "#fdca26"
            ],
            [
             1,
             "#f0f921"
            ]
           ],
           "sequentialminus": [
            [
             0,
             "#0d0887"
            ],
            [
             0.1111111111111111,
             "#46039f"
            ],
            [
             0.2222222222222222,
             "#7201a8"
            ],
            [
             0.3333333333333333,
             "#9c179e"
            ],
            [
             0.4444444444444444,
             "#bd3786"
            ],
            [
             0.5555555555555556,
             "#d8576b"
            ],
            [
             0.6666666666666666,
             "#ed7953"
            ],
            [
             0.7777777777777778,
             "#fb9f3a"
            ],
            [
             0.8888888888888888,
             "#fdca26"
            ],
            [
             1,
             "#f0f921"
            ]
           ]
          },
          "colorway": [
           "#636efa",
           "#EF553B",
           "#00cc96",
           "#ab63fa",
           "#FFA15A",
           "#19d3f3",
           "#FF6692",
           "#B6E880",
           "#FF97FF",
           "#FECB52"
          ],
          "font": {
           "color": "#2a3f5f"
          },
          "geo": {
           "bgcolor": "white",
           "lakecolor": "white",
           "landcolor": "#E5ECF6",
           "showlakes": true,
           "showland": true,
           "subunitcolor": "white"
          },
          "hoverlabel": {
           "align": "left"
          },
          "hovermode": "closest",
          "mapbox": {
           "style": "light"
          },
          "paper_bgcolor": "white",
          "plot_bgcolor": "#E5ECF6",
          "polar": {
           "angularaxis": {
            "gridcolor": "white",
            "linecolor": "white",
            "ticks": ""
           },
           "bgcolor": "#E5ECF6",
           "radialaxis": {
            "gridcolor": "white",
            "linecolor": "white",
            "ticks": ""
           }
          },
          "scene": {
           "xaxis": {
            "backgroundcolor": "#E5ECF6",
            "gridcolor": "white",
            "gridwidth": 2,
            "linecolor": "white",
            "showbackground": true,
            "ticks": "",
            "zerolinecolor": "white"
           },
           "yaxis": {
            "backgroundcolor": "#E5ECF6",
            "gridcolor": "white",
            "gridwidth": 2,
            "linecolor": "white",
            "showbackground": true,
            "ticks": "",
            "zerolinecolor": "white"
           },
           "zaxis": {
            "backgroundcolor": "#E5ECF6",
            "gridcolor": "white",
            "gridwidth": 2,
            "linecolor": "white",
            "showbackground": true,
            "ticks": "",
            "zerolinecolor": "white"
           }
          },
          "shapedefaults": {
           "line": {
            "color": "#2a3f5f"
           }
          },
          "ternary": {
           "aaxis": {
            "gridcolor": "white",
            "linecolor": "white",
            "ticks": ""
           },
           "baxis": {
            "gridcolor": "white",
            "linecolor": "white",
            "ticks": ""
           },
           "bgcolor": "#E5ECF6",
           "caxis": {
            "gridcolor": "white",
            "linecolor": "white",
            "ticks": ""
           }
          },
          "title": {
           "x": 0.05
          },
          "xaxis": {
           "automargin": true,
           "gridcolor": "white",
           "linecolor": "white",
           "ticks": "",
           "title": {
            "standoff": 15
           },
           "zerolinecolor": "white",
           "zerolinewidth": 2
          },
          "yaxis": {
           "automargin": true,
           "gridcolor": "white",
           "linecolor": "white",
           "ticks": "",
           "title": {
            "standoff": 15
           },
           "zerolinecolor": "white",
           "zerolinewidth": 2
          }
         }
        },
        "title": {
         "font": {
          "color": "white"
         },
         "text": "Survey vs Litter Category Treemap"
        },
        "xaxis": {
         "tickfont": {
          "color": "white"
         }
        },
        "yaxis": {
         "linecolor": "white",
         "tickfont": {
          "color": "white"
         }
        }
       }
      }
     },
     "metadata": {},
     "output_type": "display_data"
    }
   ],
   "source": [
    "# Litter columns\n",
    "litter_columns = ['bottle', 'sheet', 'bag', 'caps', 'fishline.mono', 'fishline.tang', 'synthrope', 'fishnet', 'cabletie', \n",
    "                  'strap', 'crates', 'nappies', 'santowels', 'other.plas', 'cansfood', 'cansdrink', 'fishmetal', \n",
    "                  'drums', 'appliance', 'carparts', 'cables', 'other.metal', 'wellies', 'balloon', 'bobbins', 'tyre', \n",
    "                  'gloves', 'other.rub', 'jars', 'bottles', 'pieces', 'other.glass', 'woodnat', 'woodproc', 'rope', \n",
    "                  'paper', 'pallets', 'other.wood', 'clothing', 'shoes', 'other.misc']\n",
    "\n",
    "# Summing up the litter category counts for each survey\n",
    "litter_data = df[litter_columns].sum().reset_index(name='count')\n",
    "litter_data.columns = ['litter_category', 'count']\n",
    "\n",
    "# Add survey information (you can use groupby if necessary)\n",
    "survey_litter_data = df[['survey'] + litter_columns].melt(id_vars=['survey'], value_vars=litter_columns, \n",
    "                                                           var_name='litter_category', value_name='count')\n",
    "\n",
    "# Filter out rows where count is 0, as we don't want to show empty categories\n",
    "survey_litter_data = survey_litter_data[survey_litter_data['count'] > 0]\n",
    "\n",
    "# Create the Treemap visualization\n",
    "fig = px.treemap(survey_litter_data, path=['survey', 'litter_category'], values='count', \n",
    "                 color='count', hover_data=['survey', 'litter_category'],\n",
    "                 title=\"Survey vs Litter Category Treemap\")\n",
    "\n",
    "# Add subtitle with annotation\n",
    "fig.update_layout(\n",
    "    plot_bgcolor='black',  # Background color of the plot\n",
    "    paper_bgcolor='black',  # Background color around the plot\n",
    "    font=dict(color='white'),  # Font color for the title, axis labels, etc.\n",
    "    xaxis=dict(tickfont=dict(color='white')),  # Axis tick color\n",
    "    yaxis=dict(tickfont=dict(color='white'), linecolor='white'),  # Axis tick color\n",
    "    title_font=dict(color='white'),  # Title color\n",
    "    annotations=[dict(\n",
    "        x=0.5,  # Horizontal position (centered)\n",
    "        y=-0.1,  # Vertical position (below the plot)\n",
    "        xref=\"paper\",  # Coordinates relative to the paper (whole canvas)\n",
    "        yref=\"paper\",  # Coordinates relative to the paper (whole canvas)\n",
    "        text=\"Click on the survey name for an expanded view\",  # Subtitle text\n",
    "        showarrow=False,  # No arrow pointing to the text\n",
    "        font=dict(size=12, color=\"white\"),  # Subtitle font settings\n",
    "        align=\"center\"  # Center-align the subtitle\n",
    "    )]\n",
    ")\n",
    "\n",
    "# Show the plot\n",
    "fig.show()\n"
   ]
  },
  {
   "cell_type": "markdown",
   "metadata": {},
   "source": [
    "For the CSEMP survey, the highest count is dominated by the 'sheet' and 'bag' litter categories, which make up the majority of the recorded litter. These categories significantly outnumber the other types of litter in this survey, highlighting a clear trend in the distribution of litter types within CSEMP. The other surveys show a similar distribution, with 'sheet' and 'bag' also being the dominant litter categories"
   ]
  },
  {
   "cell_type": "markdown",
   "metadata": {},
   "source": [
    "### 3.3 Categorical vs. Numerical"
   ]
  },
  {
   "cell_type": "markdown",
   "metadata": {},
   "source": [
    "### 3.4 Numerical vs. Numerical"
   ]
  },
  {
   "cell_type": "markdown",
   "metadata": {},
   "source": [
    "### 3.5 Visualisation Insights & Evaluation"
   ]
  },
  {
   "cell_type": "markdown",
   "metadata": {},
   "source": [
    "# Section 4 : Insights and Interpretations"
   ]
  },
  {
   "cell_type": "markdown",
   "metadata": {},
   "source": [
    "### 4.1 Summary of Key Findings"
   ]
  },
  {
   "cell_type": "markdown",
   "metadata": {},
   "source": [
    "### 4.2 Discussion of Implications"
   ]
  }
 ],
 "metadata": {
  "kernelspec": {
   "display_name": ".venv",
   "language": "python",
   "name": "python3"
  },
  "language_info": {
   "codemirror_mode": {
    "name": "ipython",
    "version": 3
   },
   "file_extension": ".py",
   "mimetype": "text/x-python",
   "name": "python",
   "nbconvert_exporter": "python",
   "pygments_lexer": "ipython3",
   "version": "3.12.8"
  }
 },
 "nbformat": 4,
 "nbformat_minor": 2
}
